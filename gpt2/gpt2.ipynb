{
 "cells": [
  {
   "cell_type": "markdown",
   "metadata": {
    "id": "H7LoMj4GA4n_"
   },
   "source": [
    "#  Train a GPT-2 Text-Generating Model w/ GPU For Free \n",
    "\n",
    "FORK of the original notebook:\n",
    "\n",
    "https://colab.research.google.com/drive/1VLG8e7YSEwypxU-noRNhsv5dW4NfTGce\n",
    "\n",
    "by [Max Woolf](http://minimaxir.com)\n",
    "\n",
    "*Last updated: November 10th, 2019*\n",
    "\n",
    "Retrain an advanced text generating neural network on any text dataset **for free on a GPU using Collaboratory** using `gpt-2-simple`!\n",
    "\n",
    "For more about `gpt-2-simple`, you can visit [this GitHub repository](https://github.com/minimaxir/gpt-2-simple). You can also read my [blog post](https://minimaxir.com/2019/09/howto-gpt2/) for more information how to use this notebook!\n"
   ]
  },
  {
   "cell_type": "code",
   "execution_count": 2,
   "metadata": {
    "id": "KBkpRgBCBS2_"
   },
   "outputs": [
    {
     "name": "stdout",
     "output_type": "stream",
     "text": [
      "WARNING:tensorflow:\n",
      "The TensorFlow contrib module will not be included in TensorFlow 2.0.\n",
      "For more information, please see:\n",
      "  * https://github.com/tensorflow/community/blob/master/rfcs/20180907-contrib-sunset.md\n",
      "  * https://github.com/tensorflow/addons\n",
      "  * https://github.com/tensorflow/io (for I/O related ops)\n",
      "If you depend on functionality not listed there, please file an issue.\n",
      "\n"
     ]
    }
   ],
   "source": [
    "!pip install -q gpt-2-simple\n",
    "import gpt_2_simple as gpt2\n",
    "from datetime import datetime"
   ]
  },
  {
   "cell_type": "markdown",
   "metadata": {
    "id": "Bj2IJLHP3KwE"
   },
   "source": [
    "## GPU\n",
    "\n",
    "Colaboratory uses either a Nvidia T4 GPU or an Nvidia K80 GPU. The T4 is slightly faster than the old K80 for training GPT-2, and has more memory allowing you to train the larger GPT-2 models and generate more text.\n",
    "\n",
    "You can verify which GPU is active by running the cell below."
   ]
  },
  {
   "cell_type": "code",
   "execution_count": 2,
   "metadata": {
    "colab": {
     "base_uri": "https://localhost:8080/",
     "height": 311
    },
    "executionInfo": {
     "elapsed": 1351,
     "status": "ok",
     "timestamp": 1567013419709,
     "user": {
      "displayName": "Max Woolf",
      "photoUrl": "https://lh3.googleusercontent.com/a-/AAuE7mD2mXear_qVUygpwsjIX8bFdN6WN2fKW_XEDgsFOA=s64",
      "userId": "10954469476206133987"
     },
     "user_tz": 420
    },
    "id": "sUmTooTW3osf",
    "outputId": "8a98e8b7-56c3-4fa5-a09f-d81dd9782695"
   },
   "outputs": [
    {
     "name": "stdout",
     "output_type": "stream",
     "text": [
      "Tue Nov 17 01:31:31 2020       \r\n",
      "+-----------------------------------------------------------------------------+\r\n",
      "| NVIDIA-SMI 450.80.02    Driver Version: 450.80.02    CUDA Version: 11.0     |\r\n",
      "|-------------------------------+----------------------+----------------------+\r\n",
      "| GPU  Name        Persistence-M| Bus-Id        Disp.A | Volatile Uncorr. ECC |\r\n",
      "| Fan  Temp  Perf  Pwr:Usage/Cap|         Memory-Usage | GPU-Util  Compute M. |\r\n",
      "|                               |                      |               MIG M. |\r\n",
      "|===============================+======================+======================|\r\n",
      "|   0  GeForce GTX 1080    Off  | 00000000:01:00.0 Off |                  N/A |\r\n",
      "|  0%   33C    P8     6W / 180W |     11MiB /  8119MiB |      0%      Default |\r\n",
      "|                               |                      |                  N/A |\r\n",
      "+-------------------------------+----------------------+----------------------+\r\n",
      "                                                                               \r\n",
      "+-----------------------------------------------------------------------------+\r\n",
      "| Processes:                                                                  |\r\n",
      "|  GPU   GI   CI        PID   Type   Process name                  GPU Memory |\r\n",
      "|        ID   ID                                                   Usage      |\r\n",
      "|=============================================================================|\r\n",
      "|    0   N/A  N/A      1139      G   /usr/lib/xorg/Xorg                  4MiB |\r\n",
      "|    0   N/A  N/A      1879      G   /usr/lib/xorg/Xorg                  4MiB |\r\n",
      "+-----------------------------------------------------------------------------+\r\n"
     ]
    }
   ],
   "source": [
    "!nvidia-smi"
   ]
  },
  {
   "cell_type": "markdown",
   "metadata": {
    "id": "0wXB05bPDYxS"
   },
   "source": [
    "## Downloading GPT-2\n",
    "\n",
    "If you're retraining a model on new text, you need to download the GPT-2 model first. \n",
    "\n",
    "There are three released sizes of GPT-2:\n",
    "\n",
    "* `124M` (default): the \"small\" model, 500MB on disk.\n",
    "* `355M`: the \"medium\" model, 1.5GB on disk.\n",
    "* `774M`: the \"large\" model, cannot currently be finetuned with Colaboratory but can be used to generate text from the pretrained model (see later in Notebook)\n",
    "* `1558M`: the \"extra large\", true model. Will not work if a K80 GPU is attached to the notebook. (like `774M`, it cannot be finetuned).\n",
    "\n",
    "Larger models have more knowledge, but take longer to finetune and longer to generate text. You can specify which base model to use by changing `model_name` in the cells below.\n",
    "\n",
    "The next cell downloads it from Google Cloud Storage and saves it in the Colaboratory VM at `/models/<model_name>`.\n",
    "\n",
    "This model isn't permanently saved in the Colaboratory VM; you'll have to redownload it if you want to retrain it at a later time."
   ]
  },
  {
   "cell_type": "code",
   "execution_count": 3,
   "metadata": {
    "colab": {
     "base_uri": "https://localhost:8080/",
     "height": 158
    },
    "executionInfo": {
     "elapsed": 5012,
     "status": "ok",
     "timestamp": 1567013430112,
     "user": {
      "displayName": "Max Woolf",
      "photoUrl": "https://lh3.googleusercontent.com/a-/AAuE7mD2mXear_qVUygpwsjIX8bFdN6WN2fKW_XEDgsFOA=s64",
      "userId": "10954469476206133987"
     },
     "user_tz": 420
    },
    "id": "P8wSlgXoDPCR",
    "outputId": "c73e1bf5-5da2-497e-9fdd-48f4b9abf9f0"
   },
   "outputs": [
    {
     "name": "stderr",
     "output_type": "stream",
     "text": [
      "Fetching checkpoint: 1.05Mit [00:00, 544Mit/s]                                                      \n",
      "Fetching encoder.json: 1.05Mit [00:00, 2.69Mit/s]                                                   \n",
      "Fetching hparams.json: 1.05Mit [00:00, 1.42Git/s]                                                   \n",
      "Fetching model.ckpt.data-00000-of-00001: 498Mit [01:19, 6.24Mit/s]                                  \n",
      "Fetching model.ckpt.index: 1.05Mit [00:00, 274Mit/s]                                                \n",
      "Fetching model.ckpt.meta: 1.05Mit [00:00, 5.70Mit/s]                                                \n",
      "Fetching vocab.bpe: 1.05Mit [00:00, 5.67Mit/s]                                                      \n"
     ]
    }
   ],
   "source": [
    "gpt2.download_gpt2(model_name=\"124M\")"
   ]
  },
  {
   "cell_type": "markdown",
   "metadata": {
    "id": "N8KXuKWzQSsN"
   },
   "source": [
    "## Get file from your Google Drive\n",
    "\n",
    "The best way to get input text to-be-trained into the Colaboratory VM, and to get the trained model *out* of Colaboratory, is to route it through Google Drive *first*."
   ]
  },
  {
   "cell_type": "code",
   "execution_count": 3,
   "metadata": {
    "id": "puq4iC6vUAHc"
   },
   "outputs": [
    {
     "name": "stdout",
     "output_type": "stream",
     "text": [
      "Downloading...\n",
      "From: https://drive.google.com/uc?id=0BzNAHGvG5wxZZjcwMDc5YjctNGI4OC00YzAxLWJhYTctNGQ3ZDNmMmZlMjNh\n",
      "To: /home/guma/Documents/App/ML/datacrunch-stylegan2-ada/shakespeare.txt\n",
      "5.58MB [00:00, 6.40MB/s]\n"
     ]
    }
   ],
   "source": [
    "!gdown --id 0BzNAHGvG5wxZZjcwMDc5YjctNGI4OC00YzAxLWJhYTctNGQ3ZDNmMmZlMjNh"
   ]
  },
  {
   "cell_type": "code",
   "execution_count": 4,
   "metadata": {
    "id": "6OFnPCLADfll"
   },
   "outputs": [],
   "source": [
    "file_name = \"shakespeare.txt\""
   ]
  },
  {
   "cell_type": "markdown",
   "metadata": {
    "id": "LdpZQXknFNY3"
   },
   "source": [
    "## Finetune GPT-2\n",
    "\n",
    "The next cell will start the actual finetuning of GPT-2. It creates a persistent TensorFlow session which stores the training config, then runs the training for the specified number of `steps`. (to have the finetuning run indefinitely, set `steps = -1`)\n",
    "\n",
    "The model checkpoints will be saved in `/checkpoint/run1` by default. The checkpoints are saved every 500 steps (can be changed) and when the cell is stopped.\n",
    "\n",
    "The training might time out after 4ish hours; make sure you end training and save the results so you don't lose them!\n",
    "\n",
    "**IMPORTANT NOTE:** If you want to rerun this cell, **restart the VM first** (Runtime -> Restart Runtime). You will need to rerun imports but not recopy files.\n",
    "\n",
    "Other optional-but-helpful parameters for `gpt2.finetune`:\n",
    "\n",
    "\n",
    "*  **`restore_from`**: Set to `fresh` to start training from the base GPT-2, or set to `latest` to restart training from an existing checkpoint.\n",
    "* **`sample_every`**: Number of steps to print example output\n",
    "* **`print_every`**: Number of steps to print training progress.\n",
    "* **`learning_rate`**:  Learning rate for the training. (default `1e-4`, can lower to `1e-5` if you have <1MB input data)\n",
    "*  **`run_name`**: subfolder within `checkpoint` to save the model. This is useful if you want to work with multiple models (will also need to specify  `run_name` when loading the model)\n",
    "* **`overwrite`**: Set to `True` if you want to continue finetuning an existing model (w/ `restore_from='latest'`) without creating duplicate copies. "
   ]
  },
  {
   "cell_type": "code",
   "execution_count": 5,
   "metadata": {
    "colab": {
     "base_uri": "https://localhost:8080/",
     "height": 1000
    },
    "executionInfo": {
     "elapsed": 2387869,
     "status": "ok",
     "timestamp": 1567015915880,
     "user": {
      "displayName": "Max Woolf",
      "photoUrl": "https://lh3.googleusercontent.com/a-/AAuE7mD2mXear_qVUygpwsjIX8bFdN6WN2fKW_XEDgsFOA=s64",
      "userId": "10954469476206133987"
     },
     "user_tz": 420
    },
    "id": "aeXshJM-Cuaf",
    "outputId": "5bf2f60b-2d09-401b-e3b4-eeacaa58f232"
   },
   "outputs": [
    {
     "name": "stdout",
     "output_type": "stream",
     "text": [
      "WARNING:tensorflow:From /home/guma/miniconda3/envs/gpt2/lib/python3.7/site-packages/gpt_2_simple/src/sample.py:17: where (from tensorflow.python.ops.array_ops) is deprecated and will be removed in a future version.\n",
      "Instructions for updating:\n",
      "Use tf.where in 2.0, which has the same broadcast rule as np.where\n",
      "Loading checkpoint models/124M/model.ckpt\n",
      "INFO:tensorflow:Restoring parameters from models/124M/model.ckpt\n"
     ]
    },
    {
     "name": "stderr",
     "output_type": "stream",
     "text": [
      "\r",
      "  0%|          | 0/1 [00:00<?, ?it/s]"
     ]
    },
    {
     "name": "stdout",
     "output_type": "stream",
     "text": [
      "Loading dataset...\n"
     ]
    },
    {
     "name": "stderr",
     "output_type": "stream",
     "text": [
      "100%|██████████| 1/1 [00:04<00:00,  4.76s/it]\n"
     ]
    },
    {
     "name": "stdout",
     "output_type": "stream",
     "text": [
      "dataset has 1850683 tokens\n",
      "Training...\n",
      "[10 | 22.25] loss=3.04 avg=3.04\n",
      "[20 | 40.58] loss=2.80 avg=2.92\n",
      "[30 | 58.92] loss=2.67 avg=2.84\n",
      "[40 | 77.26] loss=2.86 avg=2.84\n",
      "[50 | 95.63] loss=2.92 avg=2.86\n",
      "[60 | 113.99] loss=2.86 avg=2.86\n",
      "[70 | 132.35] loss=2.81 avg=2.85\n",
      "[80 | 150.72] loss=2.84 avg=2.85\n",
      "[90 | 169.07] loss=2.72 avg=2.83\n",
      "[100 | 187.43] loss=2.66 avg=2.82\n",
      "[110 | 205.80] loss=2.60 avg=2.80\n",
      "[120 | 224.18] loss=2.84 avg=2.80\n",
      "[130 | 242.54] loss=2.74 avg=2.79\n",
      "[140 | 260.91] loss=2.96 avg=2.81\n",
      "[150 | 279.27] loss=2.63 avg=2.79\n",
      "[160 | 297.64] loss=2.82 avg=2.80\n",
      "[170 | 316.02] loss=2.75 avg=2.79\n",
      "interrupted\n",
      "Saving checkpoint/run1/model-177\n"
     ]
    }
   ],
   "source": [
    "sess = gpt2.start_tf_sess()\n",
    "\n",
    "gpt2.finetune(sess,\n",
    "              dataset=file_name,\n",
    "              model_name='124M',\n",
    "              steps=1000,\n",
    "              restore_from='fresh',\n",
    "              run_name='run1',\n",
    "              print_every=10,\n",
    "              sample_every=200,\n",
    "              save_every=500\n",
    "              )"
   ]
  },
  {
   "cell_type": "markdown",
   "metadata": {
    "id": "IXSuTNERaw6K"
   },
   "source": [
    "After the model is trained, you can save the checkpoint folder to your local computer then to Google Drive."
   ]
  },
  {
   "cell_type": "markdown",
   "metadata": {
    "id": "qQJgV_b4bmzd"
   },
   "source": [
    "You're done! Feel free to go to the **Generate Text From The Trained Model** section to generate text based on your retrained model."
   ]
  },
  {
   "cell_type": "markdown",
   "metadata": {
    "id": "pel-uBULXO2L"
   },
   "source": [
    "## Load a Trained Model Checkpoint\n",
    "\n",
    "Running the next cell will copy the `.rar` checkpoint file from your Google Drive into the Colaboratory VM."
   ]
  },
  {
   "cell_type": "code",
   "execution_count": null,
   "metadata": {
    "id": "DCcx5u7sbPTD"
   },
   "outputs": [],
   "source": [
    "gpt2.copy_checkpoint_from_gdrive(run_name='run1')"
   ]
  },
  {
   "cell_type": "markdown",
   "metadata": {
    "id": "RTa6zf3e_9gV"
   },
   "source": [
    "The next cell will allow you to load the retrained model checkpoint + metadata necessary to generate text.\n",
    "\n",
    "**IMPORTANT NOTE:** If you want to rerun this cell, **restart the VM first** (Runtime -> Restart Runtime). You will need to rerun imports but not recopy files."
   ]
  },
  {
   "cell_type": "code",
   "execution_count": null,
   "metadata": {
    "id": "-fxL77nvAMAX"
   },
   "outputs": [],
   "source": [
    "sess = gpt2.start_tf_sess()\n",
    "gpt2.load_gpt2(sess, run_name='run1')"
   ]
  },
  {
   "cell_type": "markdown",
   "metadata": {
    "id": "ClJwpF_ACONp"
   },
   "source": [
    "## Generate Text From The Trained Model\n",
    "\n",
    "After you've trained the model or loaded a retrained model from checkpoint, you can now generate text. `generate` generates a single text from the loaded model."
   ]
  },
  {
   "cell_type": "code",
   "execution_count": null,
   "metadata": {
    "colab": {
     "base_uri": "https://localhost:8080/",
     "height": 1000
    },
    "executionInfo": {
     "elapsed": 14123,
     "status": "ok",
     "timestamp": 1567015951463,
     "user": {
      "displayName": "Max Woolf",
      "photoUrl": "https://lh3.googleusercontent.com/a-/AAuE7mD2mXear_qVUygpwsjIX8bFdN6WN2fKW_XEDgsFOA=s64",
      "userId": "10954469476206133987"
     },
     "user_tz": 420
    },
    "id": "4RNY6RBI9LmL",
    "outputId": "e6a6fde6-aa7f-4914-8a91-9ecff771a892"
   },
   "outputs": [
    {
     "name": "stdout",
     "output_type": "stream",
     "text": [
      "A patient and a sworn enemy,\n",
      "To one manly gentleman helps to make off\n",
      "One fairer feather: so, happily, I thank thee.\n",
      "\n",
      "HENRY BOLINGBROKE:\n",
      "Welcome, Harry; welcome, Somerset: but that\n",
      "Me too shall be revenged on you.\n",
      "\n",
      "WARWICK:\n",
      "O happy friend I had, as it were a curse,\n",
      "To leave his country of so fair a life!\n",
      "\n",
      "SOMERSET:\n",
      "What foul beast is that in your chamber,\n",
      "Whose big ears and proud eyes shall slander thee\n",
      "For so blasphemous a charge?\n",
      "\n",
      "MONTAGUE:\n",
      "If I thought this was the sweetest, freshest, and lightest\n",
      "In all my cup of wine, I should be silent.\n",
      "It drinks me full of the sweets I drink,\n",
      "And makes me smile more than the sweetest flower.\n",
      "The more I drink, the more full I feel; and so\n",
      "The more sweet is the sweet drink I feel,\n",
      "And the more full full I feel.\n",
      "\n",
      "KING HENRY VI:\n",
      "Welcome to London, Somerset, and Lancaster.\n",
      "Welcome, cousin, to this comfortable bed;\n",
      "So naked and loathsome are these theots!\n",
      "\n",
      "QUEEN MARGARET:\n",
      "What, shall I waken a new man in my sight?\n",
      "\n",
      "KING HENRY VI:\n",
      "What, shall I waken a new man in your sight?\n",
      "\n",
      "QUEEN MARGARET:\n",
      "What, shall I waken a new man in your sight?\n",
      "\n",
      "WARWICK:\n",
      "My countrymen are coming under heavy odds.\n",
      "\n",
      "MONTAGUE:\n",
      "The Earl of Wiltshire hath charged us to fight:\n",
      "If we refuse, he shall be Earl of March,\n",
      "And with him he shall lose his seat:\n",
      "If he take me he am going to be fought,\n",
      "Or he shall continue his seat as before.\n",
      "\n",
      "KING HENRY VI:\n",
      "My peaceable liege, abet thee:\n",
      "Abate the duke that hath charged me thee\n",
      "And send back, return, or I will taunt thee with death:\n",
      "The advantage I have in honour is in hate:\n",
      "Tuteling him for him, and that which is left him,\n",
      "Sith I mean my country in health and power,\n",
      "I will serve as soon as truth and right can.\n",
      "Return to page Montague, and tell them these terms:\n",
      "I will serve them as soon as truth and right can.\n",
      "Now, afore God, to thy heavy sorrows I say:\n",
      "I do reprehend thee in thy duty,\n",
      "In what to do for rejoicing, not in vengeance.\n",
      "\n",
      "BENVOLIO:\n",
      "Amen, combatants! for thy truly are set\n",
      "The bitter hours of goodby; and to thee we all bow\n",
      "Our monthly blessings.\n",
      "\n",
      "MONTAGUE:\n",
      "I hope the king shall not be so rough-faced.\n",
      "\n",
      "HENRY BOLINGBROKE:\n",
      "At what hour shall we puff our heavenly bodies?\n",
      "After our solemn solemnities have our powers:\n",
      "For our mutual solemnities we will sing the ebb and flow\n",
      "Of heavenly bodies; and our heavenly bodies,\n",
      "For our mutual heavenly bodies, we will sound\n",
      "The beat of our heavenly bodies; and our heavenly bodies,\n",
      "For our heavenly bodies, we will sing.\n",
      "Rest you, dear mourners; rest you, and rest;\n",
      "For, rest you, and rest for awhile, methinks,\n",
      "The like abstinence of your evils, methinks,\n",
      "You should with joy have heard, and you-or\n",
      "You, my dear ones, for a quieting rest.\n",
      "\n",
      "KING HENRY VI:\n",
      "You want a nap? you weep for joy;\n",
      "For you, my love, have been browbeat'd with millstones.\n",
      "\n",
      "MONTAGUE:\n",
      "And lack of any joy in absence?\n",
      "\n",
      "HENRY VI:\n",
      "(quietly sighs from head to toe))\n",
      "See who it is: here's a man of your blood,\n",
      "Whom God defend the present may have to bear.\n",
      "\n",
      "CLIFFORD:\n",
      "My lord, his grace, and the noble peers\n",
      "Have all urge'd against your highness.\n",
      "\n",
      "MONTAGUE:\n",
      "And what force dost thou in any respect oppose?\n",
      "\n",
      "YORK:\n",
      "That envies me, like a blasted farmyard mountain.\n",
      "\n",
      "CLIFFORD:\n",
      "Fear not my gloranimity; I'll be gone\n",
      "Even till I be proved aisance.\n",
      "\n",
      "MONTAGUE:\n",
      "And what harm doth he of thy life to thee?\n",
      "\n",
      "YORK:\n",
      "Ay, ay, Richard doth live, and doth entertain\n",
      "As figure to Richard live; whose life is forfeit\n",
      "If he be no better than a fool\n"
     ]
    }
   ],
   "source": [
    "gpt2.generate(sess, run_name='run1')"
   ]
  },
  {
   "cell_type": "markdown",
   "metadata": {
    "id": "oF4-PqF0Fl7R"
   },
   "source": [
    "If you're creating an API based on your model and need to pass the generated text elsewhere, you can do `text = gpt2.generate(sess, return_as_list=True)[0]`\n",
    "\n",
    "You can also pass in a `prefix` to the generate function to force the text to start with a given character sequence and generate text from there (good if you add an indicator when the text starts).\n",
    "\n",
    "You can also generate multiple texts at a time by specifing `nsamples`. Unique to GPT-2, you can pass a `batch_size` to generate multiple samples in parallel, giving a massive speedup (in Colaboratory, set a maximum of 20 for `batch_size`).\n",
    "\n",
    "Other optional-but-helpful parameters for `gpt2.generate` and friends:\n",
    "\n",
    "*  **`length`**: Number of tokens to generate (default 1023, the maximum)\n",
    "* **`temperature`**: The higher the temperature, the crazier the text (default 0.7, recommended to keep between 0.7 and 1.0)\n",
    "* **`top_k`**: Limits the generated guesses to the top *k* guesses (default 0 which disables the behavior; if the generated output is super crazy, you may want to set `top_k=40`)\n",
    "* **`top_p`**: Nucleus sampling: limits the generated guesses to a cumulative probability. (gets good results on a dataset with `top_p=0.9`)\n",
    "* **`truncate`**: Truncates the input text until a given sequence, excluding that sequence (e.g. if `truncate='<|endoftext|>'`, the returned text will include everything before the first `<|endoftext|>`). It may be useful to combine this with a smaller `length` if the input texts are short.\n",
    "*  **`include_prefix`**: If using `truncate` and `include_prefix=False`, the specified `prefix` will not be included in the returned text."
   ]
  },
  {
   "cell_type": "code",
   "execution_count": null,
   "metadata": {
    "colab": {
     "base_uri": "https://localhost:8080/",
     "height": 1000
    },
    "executionInfo": {
     "elapsed": 7829,
     "status": "ok",
     "timestamp": 1567016864688,
     "user": {
      "displayName": "Max Woolf",
      "photoUrl": "https://lh3.googleusercontent.com/a-/AAuE7mD2mXear_qVUygpwsjIX8bFdN6WN2fKW_XEDgsFOA=s64",
      "userId": "10954469476206133987"
     },
     "user_tz": 420
    },
    "id": "8DKMc0fiej4N",
    "outputId": "526dbd1b-f076-4f47-a42b-058ab4a35b9f"
   },
   "outputs": [
    {
     "name": "stdout",
     "output_type": "stream",
     "text": [
      "LORD WILLOUGHBY:\n",
      "That, by the way, Clarence and I have done good side by side;\n",
      "And yet side we, and he side we have done ill.\n",
      "\n",
      "KING RICHARD II:\n",
      "Why then 'tis done ill. O, how should I ease it?\n",
      "Side with him and my brother, my sovereign!\n",
      "Side wither away, and as night falls,\n",
      "Like to the farthest morning to my last,\n",
      "Side wither away, and as morning comes,\n",
      "Like to the furthest afternoon to my last!\n",
      "Side wither away, and as our fortunes turn,\n",
      "Like to the furthest afternoon to our last!\n",
      "\n",
      "QUEEN MARGARET:\n",
      "What is this? counsel? counsel!\n",
      "\n",
      "KING RICHARD II:\n",
      "My queen and my heir, for half a mile and a half\n",
      "She will glide this way, to be or no.\n",
      "\n",
      "QUEEN MARGARET:\n",
      "So stands the orchard here, for half a mile and a!\n",
      "\n",
      "KING RICHARD II:\n",
      "So stands the orchard here, to fence it, to!\n",
      "Fashion it in her, like the hedgehog's net\n",
      "====================\n",
      "LORD STANLEY:\n",
      "What if I told you, in the hope of succor,\n",
      "That I had lain a little while in your arms?\n",
      "\n",
      "DUKE OF YORK:\n",
      "No doubt, my lord.\n",
      "\n",
      "QUEEN ELIZABETH:\n",
      "'Tis a pity I should be coil'd to\n",
      "Be brief and unanswerable. Yet give me this.\n",
      "\n",
      "EXTON:\n",
      "'Tis a truth that vexes me deeply\n",
      "To try whether thou, Lord Hastings, art moved\n",
      "To enter publicly with gentle discourse\n",
      "And thanks from his acknowledged friends.\n",
      "\n",
      "HASTINGS:\n",
      "My gracious lord,\n",
      "Suppose me this: did I so love to see the Tower?\n",
      "\n",
      "KING RICHARD II:\n",
      "I did so; but the duelling Tower, moved\n",
      "By jealousies to oppress me,\n",
      "Wretches to usurp him held most dear,\n",
      "The truth is, I loved the Tower as I loved\n",
      "The princes that envied their prosperity.\n",
      "\n",
      "HASTINGS:\n",
      "I loved innocently,\n",
      "When my princes did usurp their gains; when\n",
      "When my grandsire and my liege, prince and prince,\n",
      "B\n",
      "====================\n",
      "LORD WILLOUGHBY:\n",
      "How long shall it take? only\n",
      "To behold your father's bending in the duke's.\n",
      "How long shall it be? do you understand me?\n",
      "\n",
      "ROMEO:\n",
      "Your grace, I understand you.\n",
      "\n",
      "ROMEO:\n",
      "It must be so; then I'll excuse myself.\n",
      "\n",
      "ROMEO:\n",
      "It shall be so.\n",
      "\n",
      "FRIAR LAURENCE:\n",
      "Your nose is pleasant on myself.\n",
      "\n",
      "ROMEO:\n",
      "No need.\n",
      "\n",
      "FRIAR LAURENCE:\n",
      "My heart is troubled by strange thoughts.\n",
      "\n",
      "ROMEO:\n",
      "No need.\n",
      "\n",
      "FRIAR LAURENCE:\n",
      "My heart is troubled by strange thoughts.\n",
      "\n",
      "ROMEO:\n",
      "Prithee, be quiet; thou need'st it.\n",
      "\n",
      "FRIAR LAURENCE:\n",
      "My mind is unsettled; no need.\n",
      "\n",
      "ROMEO:\n",
      "Prithee, be quiet; thou need'st it.\n",
      "\n",
      "FRIAR LAURENCE:\n",
      "My mind is unsettled; no need.\n",
      "\n",
      "ROMEO:\n",
      "Prithee, be quiet; thou need'st it.\n",
      "\n",
      "FRIAR LA\n",
      "====================\n",
      "LORD WILLOUGHBY:\n",
      "And, if the right Edward were slain,\n",
      "My father's blood should wash the world from me.\n",
      "\n",
      "QUEEN MARGARET:\n",
      "O, let him fly from me, that he may live!\n",
      "\n",
      "PRINCE EDWARD:\n",
      "Arise, one last, and let him be slain ere he return.\n",
      "\n",
      "QUEEN MARGARET:\n",
      "I thank God I am not young nor old to waste.\n",
      "I am young and wooer than this young wooer was.\n",
      "\n",
      "YORK:\n",
      "Younger than young, and wooer than a man is.\n",
      "\n",
      "QUEEN MARGARET:\n",
      "What, wilt thou not kill her?\n",
      "\n",
      "RYBHUS:\n",
      "If thou darest, thou hast to do good deeds,\n",
      "If thou darest, thou darest not kill her, thou darest.\n",
      "\n",
      "PRINCE EDWARD:\n",
      "Where dost thou go? command Warwick to take her?\n",
      "\n",
      "WARWICK:\n",
      "Where leadess Warwick be that Warwick is woo'd.\n",
      "\n",
      "YORK:\n",
      "Where leadess Warwick be woo'd that noble York is.\n",
      "\n",
      "PRINCE\n",
      "====================\n",
      "LORD WILLOUGHBY:\n",
      "Let him please to come and sup with him?\n",
      "\n",
      "WARWICK:\n",
      "I promised he should come and sup with him.\n",
      "\n",
      "YORK:\n",
      "'Twas a vow of charity to vex him,\n",
      "And then he should vex us to come and sup.\n",
      "\n",
      "WARWICK:\n",
      "'Twas but a vow to come and sup with him.\n",
      "\n",
      "YORK:\n",
      "'Twas but a vow to come and sup with him.\n",
      "\n",
      "WARWICK:\n",
      "Come hither, slave boy.\n",
      "Me I come, you wretched hag, you wretched thing.\n",
      "\n",
      "DORCAS:\n",
      "'Tis very well. Come, go with me.\n",
      "\n",
      "WARWICK:\n",
      "I will be his slave, and make his bondage known.\n",
      "\n",
      "EXTON:\n",
      "So, you have resisted his bondage, you have run your errand too far.\n",
      "\n",
      "WESTMORELAND:\n",
      "O, but O, the slave that was past the year\n",
      "Doth not my errand a better errand?\n",
      "\n",
      "EXTON:\n",
      "No, for so my wits charge me thus too late.\n",
      "\n",
      "WARWICK:\n",
      "But\n",
      "====================\n"
     ]
    }
   ],
   "source": [
    "gpt2.generate(sess,\n",
    "              length=250,\n",
    "              temperature=0.7,\n",
    "              prefix=\"LORD\",\n",
    "              nsamples=5,\n",
    "              batch_size=5\n",
    "              )"
   ]
  },
  {
   "cell_type": "markdown",
   "metadata": {
    "id": "zjjEN2Tafhl2"
   },
   "source": [
    "For bulk generation, you can generate a large amount of text to a file and sort out the samples locally on your computer. The next cell will generate a generated text file with a unique timestamp.\n",
    "\n",
    "You can rerun the cells as many times as you want for even more generated texts!"
   ]
  },
  {
   "cell_type": "code",
   "execution_count": null,
   "metadata": {
    "id": "Fa6p6arifSL0"
   },
   "outputs": [],
   "source": [
    "gen_file = 'gpt2_gentext_{:%Y%m%d_%H%M%S}.txt'.format(datetime.utcnow())\n",
    "\n",
    "gpt2.generate_to_file(sess,\n",
    "                      destination_path=gen_file,\n",
    "                      length=500,\n",
    "                      temperature=0.7,\n",
    "                      nsamples=100,\n",
    "                      batch_size=20\n",
    "                      )"
   ]
  },
  {
   "cell_type": "code",
   "execution_count": null,
   "metadata": {
    "id": "0-LRex8lfv1g"
   },
   "outputs": [],
   "source": [
    "# may have to run twice to get file to download\n",
    "files.download(gen_file)"
   ]
  },
  {
   "cell_type": "markdown",
   "metadata": {
    "id": "QQAN3M6RT7Kj"
   },
   "source": [
    "## Generate Text From The Pretrained Model\n",
    "\n",
    "If you want to generate text from the pretrained model, not a finetuned model, pass `model_name` to `gpt2.load_gpt2()` and `gpt2.generate()`.\n",
    "\n",
    "This is currently the only way to generate text from the 774M or 1558M models with this notebook."
   ]
  },
  {
   "cell_type": "code",
   "execution_count": 7,
   "metadata": {
    "colab": {
     "base_uri": "https://localhost:8080/",
     "height": 158
    },
    "executionInfo": {
     "elapsed": 26973,
     "status": "ok",
     "timestamp": 1567017356042,
     "user": {
      "displayName": "Max Woolf",
      "photoUrl": "https://lh3.googleusercontent.com/a-/AAuE7mD2mXear_qVUygpwsjIX8bFdN6WN2fKW_XEDgsFOA=s64",
      "userId": "10954469476206133987"
     },
     "user_tz": 420
    },
    "id": "hsUd_jHgUZnD",
    "outputId": "4e0c8a3f-3527-41c4-e3fe-3357f3f8f6c2"
   },
   "outputs": [
    {
     "name": "stderr",
     "output_type": "stream",
     "text": [
      "Fetching checkpoint: 1.05Mit [00:00, 296Mit/s]                                                      \n",
      "Fetching encoder.json: 1.05Mit [00:00, 3.02Mit/s]                                                   \n",
      "Fetching hparams.json: 1.05Mit [00:00, 378Mit/s]                                                    \n",
      "Fetching model.ckpt.data-00000-of-00001: 3.10Git [05:50, 8.82Mit/s]                                 \n",
      "Fetching model.ckpt.index: 1.05Mit [00:00, 58.2Mit/s]                                               \n",
      "Fetching model.ckpt.meta: 2.10Mit [00:00, 7.70Mit/s]                                                \n",
      "Fetching vocab.bpe: 1.05Mit [00:00, 6.49Mit/s]                                                      \n"
     ]
    }
   ],
   "source": [
    "model_name = \"774M\"\n",
    "\n",
    "gpt2.download_gpt2(model_name=model_name)"
   ]
  },
  {
   "cell_type": "code",
   "execution_count": 3,
   "metadata": {
    "colab": {
     "base_uri": "https://localhost:8080/",
     "height": 124
    },
    "executionInfo": {
     "elapsed": 13453,
     "status": "ok",
     "timestamp": 1567017483570,
     "user": {
      "displayName": "Max Woolf",
      "photoUrl": "https://lh3.googleusercontent.com/a-/AAuE7mD2mXear_qVUygpwsjIX8bFdN6WN2fKW_XEDgsFOA=s64",
      "userId": "10954469476206133987"
     },
     "user_tz": 420
    },
    "id": "BAe4NpKNUj2C",
    "outputId": "b09bfe1d-2ff8-4b8a-fffb-273d28d5d4ae"
   },
   "outputs": [
    {
     "name": "stdout",
     "output_type": "stream",
     "text": [
      "Loading pretrained model models/774M/model.ckpt\n",
      "INFO:tensorflow:Restoring parameters from models/774M/model.ckpt\n"
     ]
    }
   ],
   "source": [
    "model_name = \"774M\"\n",
    "sess = gpt2.start_tf_sess()\n",
    "\n",
    "gpt2.load_gpt2(sess, model_name=model_name)"
   ]
  },
  {
   "cell_type": "code",
   "execution_count": 10,
   "metadata": {
    "colab": {
     "base_uri": "https://localhost:8080/",
     "height": 797
    },
    "executionInfo": {
     "elapsed": 18497,
     "status": "ok",
     "timestamp": 1567018062144,
     "user": {
      "displayName": "Max Woolf",
      "photoUrl": "https://lh3.googleusercontent.com/a-/AAuE7mD2mXear_qVUygpwsjIX8bFdN6WN2fKW_XEDgsFOA=s64",
      "userId": "10954469476206133987"
     },
     "user_tz": 420
    },
    "id": "-xInIZKaU104",
    "outputId": "56348e28-7d08-45e3-c859-f26c0efd066d"
   },
   "outputs": [
    {
     "name": "stdout",
     "output_type": "stream",
     "text": [
      "I have a dream !!! I have a dream that my dream can come true and I can become a writer. I have a dream that I can write. I have a dream that I can become a writer. I have a dream that I can be a writer. I have a dream that I can become a writer. I have a dream that I can become a writer. I have a dream that I can become a writer. I have a dream that I can become a writer. I have a dream that I can\n",
      "====================\n",
      "I have a dream !\"\n",
      "\n",
      "A: \"Yes, I do.\"\n",
      "\n",
      "Q: \"What do you dream about?\"\n",
      "\n",
      "A: \"My dream is to be able to see the world and know it.\"\n",
      "\n",
      "Q: \"How do you know what you know?\"\n",
      "\n",
      "A: \"Because I know I know.\"\n",
      "\n",
      "Q: \"How do you know what you know?\"\n",
      "\n",
      "A: \"Because I know I know.\"\n",
      "\n",
      "Q: \"How do you know you know\n",
      "====================\n",
      "I have a dream !\"\n",
      "\n",
      "\"Dreams, huh?\"\n",
      "\n",
      "\"Yes, of course.\"\n",
      "\n",
      "The young man's face changed.\n",
      "\n",
      "It was a face that was full of admiration and love, but at the same time, it was filled with a bitter feeling.\n",
      "\n",
      "\"The people I love, they are all people who are not as strong as me. I am an orphan, and I am not the same as them. They are the ones who are stronger than me.\"\n",
      "\n",
      "\n",
      "====================\n",
      "I have a dream !\"\n",
      "\n",
      "\"I have a dream !\"\n",
      "\n",
      "\"I have a dream !\"\n",
      "\n",
      "\"I have a dream !\"\n",
      "\n",
      "\"I have a dream !\"\n",
      "\n",
      "\"I have a dream !\"\n",
      "\n",
      "\"I have a dream !\"\n",
      "\n",
      "\"I have a dream !\"\n",
      "\n",
      "\"I have a dream !\"\n",
      "\n",
      "\"I have a dream !\"\n",
      "\n",
      "\"I have a dream !\"\n",
      "\n",
      "\"I have a dream !\"\n",
      "====================\n",
      "I have a dream ㅎㅎㅎㅎㅎㅎㅎㅎㅎㅎㅎㅎㅎㅎㅎㅎㅎㅎㅎㅎㅎㅎㅎㅎㅎㅎㅎㅎㅎㅎㅎㅎㅎ�\n",
      "====================\n"
     ]
    }
   ],
   "source": [
    "gpt2.generate(sess,\n",
    "              model_name=model_name,\n",
    "              prefix=\"I have a dream \",\n",
    "              length=100,\n",
    "              temperature=0.7,\n",
    "              top_p=0.9,\n",
    "              nsamples=5,\n",
    "              batch_size=5\n",
    "              )"
   ]
  },
  {
   "cell_type": "markdown",
   "metadata": {
    "id": "wmTXWNUygS5E"
   },
   "source": [
    "# LICENSE\n",
    "\n",
    "MIT License\n",
    "\n",
    "Copyright (c) 2019 Max Woolf\n",
    "\n",
    "Permission is hereby granted, free of charge, to any person obtaining a copy\n",
    "of this software and associated documentation files (the \"Software\"), to deal\n",
    "in the Software without restriction, including without limitation the rights\n",
    "to use, copy, modify, merge, publish, distribute, sublicense, and/or sell\n",
    "copies of the Software, and to permit persons to whom the Software is\n",
    "furnished to do so, subject to the following conditions:\n",
    "\n",
    "The above copyright notice and this permission notice shall be included in all\n",
    "copies or substantial portions of the Software.\n",
    "\n",
    "THE SOFTWARE IS PROVIDED \"AS IS\", WITHOUT WARRANTY OF ANY KIND, EXPRESS OR\n",
    "IMPLIED, INCLUDING BUT NOT LIMITED TO THE WARRANTIES OF MERCHANTABILITY,\n",
    "FITNESS FOR A PARTICULAR PURPOSE AND NONINFRINGEMENT. IN NO EVENT SHALL THE\n",
    "AUTHORS OR COPYRIGHT HOLDERS BE LIABLE FOR ANY CLAIM, DAMAGES OR OTHER\n",
    "LIABILITY, WHETHER IN AN ACTION OF CONTRACT, TORT OR OTHERWISE, ARISING FROM,\n",
    "OUT OF OR IN CONNECTION WITH THE SOFTWARE OR THE USE OR OTHER DEALINGS IN THE\n",
    "SOFTWARE."
   ]
  }
 ],
 "metadata": {
  "accelerator": "GPU",
  "colab": {
   "collapsed_sections": [],
   "name": "Train a GPT-2 Text-Generating Model w/ GPU",
   "provenance": [
    {
     "file_id": "1VLG8e7YSEwypxU-noRNhsv5dW4NfTGce",
     "timestamp": 1605568784268
    },
    {
     "file_id": "1mMKGnVxirJnqDViH7BDJxFqWrsXlPSoK",
     "timestamp": 1555602712120
    }
   ]
  },
  "kernelspec": {
   "display_name": "Python 3",
   "language": "python",
   "name": "python3"
  },
  "language_info": {
   "codemirror_mode": {
    "name": "ipython",
    "version": 3
   },
   "file_extension": ".py",
   "mimetype": "text/x-python",
   "name": "python",
   "nbconvert_exporter": "python",
   "pygments_lexer": "ipython3",
   "version": "3.7.9"
  }
 },
 "nbformat": 4,
 "nbformat_minor": 1
}
