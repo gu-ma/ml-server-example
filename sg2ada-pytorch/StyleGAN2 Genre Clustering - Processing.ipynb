{
 "cells": [
  {
   "cell_type": "markdown",
   "id": "ea9685bf",
   "metadata": {},
   "source": [
    "# Downloads"
   ]
  },
  {
   "cell_type": "code",
   "execution_count": null,
   "id": "deb7ab1c",
   "metadata": {},
   "outputs": [],
   "source": [
    "!git clone https://github.com/dvschultz/stylegan2-ada-pytorch dvschultz-stylegan2-ada-pytorch"
   ]
  },
  {
   "cell_type": "code",
   "execution_count": null,
   "id": "cfbcb312",
   "metadata": {},
   "outputs": [],
   "source": [
    "%cd dvschultz-stylegan2-ada-pytorch/"
   ]
  },
  {
   "cell_type": "code",
   "execution_count": null,
   "id": "54f41180",
   "metadata": {},
   "outputs": [],
   "source": [
    "# Cluster files\n",
    "!gdown --id 17eGxxtT_DdKD4WotgJfXf8IGA9_cXAiH\n",
    "!unzip StyleGAN2_Genre_Clustering-20210719T132300Z-001.zip "
   ]
  },
  {
   "cell_type": "code",
   "execution_count": null,
   "id": "052aca06",
   "metadata": {},
   "outputs": [],
   "source": [
    "# Model\n",
    "!gdown --id 14896oHvNWYsxQvbrJiah8H9srown10wW\n",
    "!mv network-snapshot-000192.pkl stylegan2-ada-pytorch"
   ]
  },
  {
   "cell_type": "markdown",
   "id": "6bbf8f07",
   "metadata": {},
   "source": [
    "# 🏁 Start"
   ]
  },
  {
   "cell_type": "code",
   "execution_count": 1,
   "id": "7d3dd69e",
   "metadata": {},
   "outputs": [
    {
     "name": "stdout",
     "output_type": "stream",
     "text": [
      "GPU 0: NVIDIA Quadro P4000 (UUID: GPU-86e36a54-af11-404e-c3ed-9b94909e133e)\r\n",
      "GPU 1: NVIDIA Quadro P4000 (UUID: GPU-eb6455f3-3751-3d5a-fbc5-1c8e2df99d22)\r\n"
     ]
    }
   ],
   "source": [
    "!nvidia-smi -L"
   ]
  },
  {
   "cell_type": "code",
   "execution_count": 2,
   "id": "c83c5111",
   "metadata": {
    "scrolled": true
   },
   "outputs": [
    {
     "name": "stdout",
     "output_type": "stream",
     "text": [
      "nvcc: NVIDIA (R) Cuda compiler driver\r\n",
      "Copyright (c) 2005-2021 NVIDIA Corporation\r\n",
      "Built on Sun_Mar_21_19:15:46_PDT_2021\r\n",
      "Cuda compilation tools, release 11.3, V11.3.58\r\n",
      "Build cuda_11.3.r11.3/compiler.29745058_0\r\n"
     ]
    }
   ],
   "source": [
    "!nvcc --version"
   ]
  },
  {
   "cell_type": "code",
   "execution_count": 3,
   "id": "9e32073b",
   "metadata": {},
   "outputs": [
    {
     "name": "stdout",
     "output_type": "stream",
     "text": [
      "/home/app/application/ML/ml-server-example/sg2ada-pytorch/dvschultz-stylegan2-ada-pytorch\n"
     ]
    }
   ],
   "source": [
    "%cd dvschultz-stylegan2-ada-pytorch/"
   ]
  },
  {
   "cell_type": "code",
   "execution_count": 4,
   "id": "dfd0206b",
   "metadata": {},
   "outputs": [],
   "source": [
    "import os\n",
    "import glob\n",
    "import time\n",
    "import shutil\n",
    "from datetime import timedelta\n",
    "import numpy as np\n",
    "import torch\n",
    "import pickle\n",
    "import PIL.Image\n",
    "from tqdm.autonotebook import tqdm\n",
    "import torch.nn.functional as F\n",
    "import dnnlib\n",
    "import legacy\n",
    "import imageio\n",
    "from IPython.display import Video"
   ]
  },
  {
   "cell_type": "code",
   "execution_count": 5,
   "id": "ef0d6173",
   "metadata": {},
   "outputs": [
    {
     "name": "stdout",
     "output_type": "stream",
     "text": [
      "(65536, 512) (65536, 512) (64, 512) (65536,)\n"
     ]
    }
   ],
   "source": [
    "folder = 'StyleGAN2_Genre_Clustering'\n",
    "prefix = 'flowers_v3'\n",
    "suffix = '64cat_65536s_123seed_1psi_const'\n",
    "ws = np.load(f\"{folder}/{prefix}_latents_ws_{suffix}.npy\")\n",
    "zs = np.load(f\"{folder}/{prefix}_latents_zs_{suffix}.npy\")\n",
    "cluster_avg = np.load(f\"{folder}/{prefix}_cluster_avg_{suffix}.npy\")\n",
    "cluster_labels = np.load(f\"{folder}/{prefix}_cluster_labels_{suffix}.npy\")\n",
    "print(ws.shape, zs.shape, cluster_avg.shape, cluster_labels.shape)"
   ]
  },
  {
   "cell_type": "code",
   "execution_count": 6,
   "id": "50e1e7d2",
   "metadata": {},
   "outputs": [],
   "source": [
    "outdir = f'{folder}/clusters'\n",
    "network_pkl = 'network-snapshot-000192.pkl'\n",
    "\n",
    "# Numbe of image to render per cluster\n",
    "img_count = 4\n",
    "clusters_count = cluster_labels.max()\n",
    "# Noise mode needs to be the same than the one used while creating the clusters\n",
    "truncation_psi = 1\n",
    "# 'const', 'random', 'none'\n",
    "noise_mode = 'const'\n",
    "# Video output number of frame\n",
    "fps = 25\n",
    "frame_count = fps * 24\n",
    "# Batch size for img generation (⚠️ MAKE SURE frame_count is a MULTIPLE of batch_size ⚠️)\n",
    "batch_size = 20\n",
    "# For style mixing\n",
    "style_layer_range = [9, 10, 11, 12, 13, 14, 15, 16, 17]\n",
    "\n",
    "# Settings per animation's type \n",
    "circ_settings = {'start':0.5, 'radius':80}\n",
    "lsj_settings = {'start':0.5, 'radius':80, 'abc':(1, 2, 2)}\n",
    "slerp_settings = {'start':0}\n",
    "trunc_settings = {'positive':4, 'negative':12}\n",
    "\n",
    "\n",
    "device_00 = torch.device('cuda:0')\n",
    "device_01 = torch.device('cuda:1')\n",
    "\n",
    "image_mean = torch.tensor([0.48145466, 0.4578275, 0.40821073]).to(device_00)\n",
    "image_std = torch.tensor([0.26862954, 0.26130258, 0.27577711]).to(device_00)"
   ]
  },
  {
   "cell_type": "code",
   "execution_count": 7,
   "id": "1e244397",
   "metadata": {},
   "outputs": [],
   "source": [
    "with dnnlib.util.open_url(network_pkl) as fp:\n",
    "    G = legacy.load_network_pkl(fp)['G_ema'].requires_grad_(False).to(device_01) # type: ignore"
   ]
  },
  {
   "cell_type": "code",
   "execution_count": 8,
   "id": "21133baf",
   "metadata": {},
   "outputs": [],
   "source": [
    "def make_movie(fn, imgs, fps):\n",
    "    with imageio.get_writer(fn, format='FFMPEG', codec='h264', fps=fps) as w:\n",
    "        for img in imgs:\n",
    "            w.append_data(np.array(img))\n",
    "\n",
    "\n",
    "# noise_mode = 'const', 'random', 'none'\n",
    "def generate_images_from_zs(G, latents, labels, batch_size, truncation_psi=1, noise_mode='const', truncation_cutoff=None):\n",
    "    all_imgs = []\n",
    "    for i in tqdm(range(latents.shape[0]//batch_size)):\n",
    "        zs = latents[i*batch_size:(i+1)*batch_size, :]        \n",
    "        imgs = G(zs, labels, truncation_psi=truncation_psi, truncation_cutoff=truncation_cutoff, noise_mode=noise_mode)\n",
    "        imgs = (imgs.permute(0, 2, 3, 1) * 127.5 + 128).clamp(0, 255).to(torch.uint8)\n",
    "        for j in range(imgs.shape[0]):\n",
    "            img = imgs[j].cpu().numpy()\n",
    "            all_imgs.append(PIL.Image.fromarray(img, 'RGB'))\n",
    "    return all_imgs\n",
    "\n",
    "\n",
    "# noise_mode = 'const', 'random', 'none'\n",
    "def generate_images_from_ws(G, latents, batch_size, truncation_psi=1, noise_mode='const'):\n",
    "    all_imgs = []\n",
    "    for i in tqdm(range(latents.shape[0]//batch_size)):\n",
    "        ws = latents[i*batch_size:(i+1)*batch_size, :]\n",
    "        w_avg = G.mapping.w_avg\n",
    "        ws = w_avg + (ws - w_avg) * truncation_psi\n",
    "        imgs = G.synthesis(ws, noise_mode=noise_mode)\n",
    "        imgs = (imgs.clamp(-1, 1).permute(0, 2, 3, 1).cpu().numpy() * 127.5 + 128).astype(np.uint8)\n",
    "        for j in range(imgs.shape[0]):\n",
    "            all_imgs.append(PIL.Image.fromarray(imgs[j]))\n",
    "    return all_imgs\n",
    "\n",
    "\n",
    "def image_grid(images, rows, cols):\n",
    "    assert len(images) == rows*cols\n",
    "    print(images[0])\n",
    "    w, h = images[0].size\n",
    "    grid = PIL.Image.new('RGB', size=(cols*w, rows*h))\n",
    "    grid_w, grid_h = grid.size\n",
    "    \n",
    "    for i, img in enumerate(images):\n",
    "        grid.paste(img, box=(i%cols*w, i//cols*h))\n",
    "    return grid\n",
    "\n",
    "\n",
    "# Circular\n",
    "def circ_interpolation(radius, lats_persistent, lats_interpolate):\n",
    "    lats_a, lats_b, lats_c = lats_persistent\n",
    "\n",
    "    lats_axis_x = (lats_a - lats_b).flatten() / np.linalg.norm(lats_a - lats_b)\n",
    "    lats_axis_y = (lats_a - lats_c).flatten() / np.linalg.norm(lats_a - lats_c)\n",
    "\n",
    "    lats_x = np.sin(np.pi * 2.0 * lats_interpolate) * radius\n",
    "    lats_y = np.cos(np.pi * 2.0 * lats_interpolate) * radius - radius\n",
    "    \n",
    "    latents = lats_a + lats_x * lats_axis_x + lats_y * lats_axis_y\n",
    "    return latents\n",
    "\n",
    "\n",
    "# Lisajou\n",
    "def lsj_interpolation(radius, lats_persistent, a, b, c, lats_interpolate):\n",
    "    lats_a, lats_b, lats_c, lats_d = lats_persistent\n",
    "\n",
    "    lats_axis_x = (lats_a - lats_b).flatten() / np.linalg.norm(lats_a - lats_b)\n",
    "    lats_axis_y = (lats_a - lats_c).flatten() / np.linalg.norm(lats_a - lats_c)\n",
    "    lats_axis_z = (lats_a - lats_d).flatten() / np.linalg.norm(lats_a - lats_d)\n",
    "\n",
    "    lats_x = np.sin(np.pi * 2.0 * lats_interpolate * a) * radius\n",
    "    lats_y = np.sin(np.pi * 2.0 * lats_interpolate * b) * radius\n",
    "    lats_z = np.sin(np.pi * 2.0 * lats_interpolate * c) * radius\n",
    "    \n",
    "    latents = np.copy(lats_a)\n",
    "    latents[0, 0::3] += lats_x * lats_axis_x[::3]\n",
    "    latents[0, 1::3] += lats_y * lats_axis_x[1::3]\n",
    "    latents[0, 2::3] += lats_z * lats_axis_z[2::3]\n",
    "    \n",
    "    return latents\n",
    "\n",
    "\n",
    "# slightly modified version of\n",
    "# https://github.com/PDillis/stylegan2-fun/blob/master/run_generator.py#L399\n",
    "def slerp(t, v0, v1, DOT_THRESHOLD=0.9995):\n",
    "    '''\n",
    "    Spherical linear interpolation\n",
    "    Args:\n",
    "        t (float/np.ndarray): Float value between 0.0 and 1.0\n",
    "        v0 (np.ndarray): Starting vector\n",
    "        v1 (np.ndarray): Final vector\n",
    "        DOT_THRESHOLD (float): Threshold for considering the two vectors as\n",
    "                               colineal. Not recommended to alter this.\n",
    "    Returns:\n",
    "        v2 (np.ndarray): Interpolation vector between v0 and v1\n",
    "    '''\n",
    "    # Copy the vectors to reuse them later\n",
    "    v0_copy = np.copy(v0)\n",
    "    v1_copy = np.copy(v1)\n",
    "    # Normalize the vectors to get the directions and angles\n",
    "    v0 = v0 / np.linalg.norm(v0)\n",
    "    v1 = v1 / np.linalg.norm(v1)\n",
    "    # Dot product with the normalized vectors (can't use np.dot in W)\n",
    "    dot = np.sum(v0 * v1)\n",
    "    # If absolute value of dot product is almost 1, vectors are ~colineal, so use lerp\n",
    "    if np.abs(dot) > DOT_THRESHOLD:\n",
    "        return lerp(t, v0_copy, v1_copy)\n",
    "    # Calculate initial angle between v0 and v1\n",
    "    theta_0 = np.arccos(dot)\n",
    "    sin_theta_0 = np.sin(theta_0)\n",
    "    # Angle at timestep t\n",
    "    theta_t = theta_0 * t\n",
    "    sin_theta_t = np.sin(theta_t)\n",
    "    # Finish the slerp algorithm\n",
    "    s0 = np.sin(theta_0 - theta_t) / sin_theta_0\n",
    "    s1 = sin_theta_t / sin_theta_0\n",
    "    v2 = s0 * v0_copy + s1 * v1_copy\n",
    "    return v2"
   ]
  },
  {
   "cell_type": "code",
   "execution_count": 9,
   "id": "6ec12ef8",
   "metadata": {},
   "outputs": [],
   "source": [
    "# Convert ws and zs to tensors\n",
    "if isinstance(ws, np.ndarray):\n",
    "    ws = np.expand_dims(ws, axis=1)\n",
    "    ws = np.tile(ws, [1, G.mapping.num_ws, 1])\n",
    "    ws = torch.tensor(ws, dtype=torch.float32, device=device_00)\n",
    "if isinstance(zs, np.ndarray):\n",
    "    zs = torch.tensor(zs, dtype=torch.float32, device=device_00)"
   ]
  },
  {
   "cell_type": "code",
   "execution_count": null,
   "id": "aca51798",
   "metadata": {
    "scrolled": true
   },
   "outputs": [
    {
     "name": "stdout",
     "output_type": "stream",
     "text": [
      "> Cluster 0: 4 imgs (saving 4, trunc_psi:1, noise_mode:const)\n"
     ]
    },
    {
     "data": {
      "application/vnd.jupyter.widget-view+json": {
       "model_id": "13e49ee5cee040b4b6658d2ac39e3a2f",
       "version_major": 2,
       "version_minor": 0
      },
      "text/plain": [
       "  0%|          | 0/1 [00:00<?, ?it/s]"
      ]
     },
     "metadata": {},
     "output_type": "display_data"
    },
    {
     "name": "stdout",
     "output_type": "stream",
     "text": [
      "Setting up PyTorch plugin \"bias_act_plugin\"... Done.\n",
      "Setting up PyTorch plugin \"upfirdn2d_plugin\"... Done.\n",
      "-> StyleGAN2_Genre_Clustering/clusters/0/0 Saving\n",
      "--> Circular interpolation start:0.5 radius:80 random-seeds:[665 380]\n"
     ]
    },
    {
     "data": {
      "application/vnd.jupyter.widget-view+json": {
       "model_id": "9199c014ae8244118a006af469bad1e0",
       "version_major": 2,
       "version_minor": 0
      },
      "text/plain": [
       "  0%|          | 0/30 [00:00<?, ?it/s]"
      ]
     },
     "metadata": {},
     "output_type": "display_data"
    },
    {
     "name": "stdout",
     "output_type": "stream",
     "text": [
      "600 600\n",
      "--> Lisajou interpolation start:0.5 radius:80 random-seeds:[665 380 485] abc:(1, 2, 2)\n"
     ]
    },
    {
     "data": {
      "application/vnd.jupyter.widget-view+json": {
       "model_id": "58a191030a8b4a05b8a181186c4b6281",
       "version_major": 2,
       "version_minor": 0
      },
      "text/plain": [
       "  0%|          | 0/30 [00:00<?, ?it/s]"
      ]
     },
     "metadata": {},
     "output_type": "display_data"
    },
    {
     "name": "stdout",
     "output_type": "stream",
     "text": [
      "--> Slerp interpolation start:0 random-seed:665\n"
     ]
    },
    {
     "data": {
      "application/vnd.jupyter.widget-view+json": {
       "model_id": "cfd6c653d89e44d0b951759b2ecf1082",
       "version_major": 2,
       "version_minor": 0
      },
      "text/plain": [
       "  0%|          | 0/30 [00:00<?, ?it/s]"
      ]
     },
     "metadata": {},
     "output_type": "display_data"
    },
    {
     "name": "stdout",
     "output_type": "stream",
     "text": [
      "--> Truncation interpolation positive:+4 negative:-12\n"
     ]
    },
    {
     "data": {
      "application/vnd.jupyter.widget-view+json": {
       "model_id": "c72f3ac54a5f42758382921170564889",
       "version_major": 2,
       "version_minor": 0
      },
      "text/plain": [
       "  0%|          | 0/30 [00:00<?, ?it/s]"
      ]
     },
     "metadata": {},
     "output_type": "display_data"
    },
    {
     "data": {
      "application/vnd.jupyter.widget-view+json": {
       "model_id": "b5d7da1c7002471a8db68a64e9681d99",
       "version_major": 2,
       "version_minor": 0
      },
      "text/plain": [
       "  0%|          | 0/30 [00:00<?, ?it/s]"
      ]
     },
     "metadata": {},
     "output_type": "display_data"
    },
    {
     "name": "stdout",
     "output_type": "stream",
     "text": [
      "--> Style Mixing seed0297\n",
      "---> Circular interpolation\n"
     ]
    },
    {
     "data": {
      "application/vnd.jupyter.widget-view+json": {
       "model_id": "4c205ab7ab7f48a588f8b60e23400eef",
       "version_major": 2,
       "version_minor": 0
      },
      "text/plain": [
       "  0%|          | 0/30 [00:00<?, ?it/s]"
      ]
     },
     "metadata": {},
     "output_type": "display_data"
    },
    {
     "name": "stdout",
     "output_type": "stream",
     "text": [
      "---> Lisajou interpolation\n"
     ]
    },
    {
     "data": {
      "application/vnd.jupyter.widget-view+json": {
       "model_id": "e5d9dd29ddb14d24af6e73d11d9dc78f",
       "version_major": 2,
       "version_minor": 0
      },
      "text/plain": [
       "  0%|          | 0/30 [00:00<?, ?it/s]"
      ]
     },
     "metadata": {},
     "output_type": "display_data"
    },
    {
     "name": "stdout",
     "output_type": "stream",
     "text": [
      "---> Lerp interpolation\n"
     ]
    },
    {
     "data": {
      "application/vnd.jupyter.widget-view+json": {
       "model_id": "2b849fc3e80a4ea098f4fa13f569c88c",
       "version_major": 2,
       "version_minor": 0
      },
      "text/plain": [
       "  0%|          | 0/30 [00:00<?, ?it/s]"
      ]
     },
     "metadata": {},
     "output_type": "display_data"
    },
    {
     "name": "stdout",
     "output_type": "stream",
     "text": [
      "---> Trunc positive\n"
     ]
    },
    {
     "data": {
      "application/vnd.jupyter.widget-view+json": {
       "model_id": "35d7d00c7e1d461085d943a59422388a",
       "version_major": 2,
       "version_minor": 0
      },
      "text/plain": [
       "  0%|          | 0/30 [00:00<?, ?it/s]"
      ]
     },
     "metadata": {},
     "output_type": "display_data"
    },
    {
     "name": "stdout",
     "output_type": "stream",
     "text": [
      "---> Trunc negative\n"
     ]
    },
    {
     "data": {
      "application/vnd.jupyter.widget-view+json": {
       "model_id": "829a92b36b1f48d39c8b13ceb2b669b9",
       "version_major": 2,
       "version_minor": 0
      },
      "text/plain": [
       "  0%|          | 0/30 [00:00<?, ?it/s]"
      ]
     },
     "metadata": {},
     "output_type": "display_data"
    },
    {
     "name": "stdout",
     "output_type": "stream",
     "text": [
      "--> Style Mixing seed0563\n",
      "---> Circular interpolation\n"
     ]
    },
    {
     "data": {
      "application/vnd.jupyter.widget-view+json": {
       "model_id": "bd02b6a45e12419fadbc131410ed826d",
       "version_major": 2,
       "version_minor": 0
      },
      "text/plain": [
       "  0%|          | 0/30 [00:00<?, ?it/s]"
      ]
     },
     "metadata": {},
     "output_type": "display_data"
    },
    {
     "name": "stdout",
     "output_type": "stream",
     "text": [
      "---> Lisajou interpolation\n"
     ]
    },
    {
     "data": {
      "application/vnd.jupyter.widget-view+json": {
       "model_id": "b6a2eed2c2504fb4a28eb45965dfbef8",
       "version_major": 2,
       "version_minor": 0
      },
      "text/plain": [
       "  0%|          | 0/30 [00:00<?, ?it/s]"
      ]
     },
     "metadata": {},
     "output_type": "display_data"
    },
    {
     "name": "stdout",
     "output_type": "stream",
     "text": [
      "---> Lerp interpolation\n"
     ]
    },
    {
     "data": {
      "application/vnd.jupyter.widget-view+json": {
       "model_id": "e9a8fa8db9b74a0f90c371aa5a5bb733",
       "version_major": 2,
       "version_minor": 0
      },
      "text/plain": [
       "  0%|          | 0/30 [00:00<?, ?it/s]"
      ]
     },
     "metadata": {},
     "output_type": "display_data"
    },
    {
     "name": "stdout",
     "output_type": "stream",
     "text": [
      "---> Trunc positive\n"
     ]
    },
    {
     "data": {
      "application/vnd.jupyter.widget-view+json": {
       "model_id": "61d99dd38b2f4e96bd3a9679c039db78",
       "version_major": 2,
       "version_minor": 0
      },
      "text/plain": [
       "  0%|          | 0/30 [00:00<?, ?it/s]"
      ]
     },
     "metadata": {},
     "output_type": "display_data"
    },
    {
     "name": "stdout",
     "output_type": "stream",
     "text": [
      "---> Trunc negative\n"
     ]
    },
    {
     "data": {
      "application/vnd.jupyter.widget-view+json": {
       "model_id": "d369a7bab812496a82dd0de28653c0d5",
       "version_major": 2,
       "version_minor": 0
      },
      "text/plain": [
       "  0%|          | 0/30 [00:00<?, ?it/s]"
      ]
     },
     "metadata": {},
     "output_type": "display_data"
    },
    {
     "name": "stdout",
     "output_type": "stream",
     "text": [
      "-> StyleGAN2_Genre_Clustering/clusters/0/0 Saved in 0:23:16.211629\n",
      "---\n",
      "-> StyleGAN2_Genre_Clustering/clusters/0/1 Saving\n",
      "--> Circular interpolation start:0.5 radius:80 random-seeds:[489 918]\n"
     ]
    },
    {
     "data": {
      "application/vnd.jupyter.widget-view+json": {
       "model_id": "25f9371da2d34eb28bbf59064cd84434",
       "version_major": 2,
       "version_minor": 0
      },
      "text/plain": [
       "  0%|          | 0/30 [00:00<?, ?it/s]"
      ]
     },
     "metadata": {},
     "output_type": "display_data"
    },
    {
     "name": "stdout",
     "output_type": "stream",
     "text": [
      "600 600\n",
      "--> Lisajou interpolation start:0.5 radius:80 random-seeds:[489 918 936] abc:(1, 2, 2)\n"
     ]
    },
    {
     "data": {
      "application/vnd.jupyter.widget-view+json": {
       "model_id": "5999294f4a54490bbaf90003f972cec4",
       "version_major": 2,
       "version_minor": 0
      },
      "text/plain": [
       "  0%|          | 0/30 [00:00<?, ?it/s]"
      ]
     },
     "metadata": {},
     "output_type": "display_data"
    },
    {
     "name": "stdout",
     "output_type": "stream",
     "text": [
      "--> Slerp interpolation start:0 random-seed:489\n"
     ]
    },
    {
     "data": {
      "application/vnd.jupyter.widget-view+json": {
       "model_id": "a880c10f89804e3e9610f333deea1666",
       "version_major": 2,
       "version_minor": 0
      },
      "text/plain": [
       "  0%|          | 0/30 [00:00<?, ?it/s]"
      ]
     },
     "metadata": {},
     "output_type": "display_data"
    },
    {
     "name": "stdout",
     "output_type": "stream",
     "text": [
      "--> Truncation interpolation positive:+4 negative:-12\n"
     ]
    },
    {
     "data": {
      "application/vnd.jupyter.widget-view+json": {
       "model_id": "fc35fa8ef5934d81bc30ec6028fcb2da",
       "version_major": 2,
       "version_minor": 0
      },
      "text/plain": [
       "  0%|          | 0/30 [00:00<?, ?it/s]"
      ]
     },
     "metadata": {},
     "output_type": "display_data"
    },
    {
     "data": {
      "application/vnd.jupyter.widget-view+json": {
       "model_id": "a7c33183228e4237902af45a97a60c31",
       "version_major": 2,
       "version_minor": 0
      },
      "text/plain": [
       "  0%|          | 0/30 [00:00<?, ?it/s]"
      ]
     },
     "metadata": {},
     "output_type": "display_data"
    },
    {
     "name": "stdout",
     "output_type": "stream",
     "text": [
      "--> Style Mixing seed0297\n",
      "---> Circular interpolation\n"
     ]
    },
    {
     "data": {
      "application/vnd.jupyter.widget-view+json": {
       "model_id": "4a70b08f2ab549a4af70cfcd133f962d",
       "version_major": 2,
       "version_minor": 0
      },
      "text/plain": [
       "  0%|          | 0/30 [00:00<?, ?it/s]"
      ]
     },
     "metadata": {},
     "output_type": "display_data"
    },
    {
     "name": "stdout",
     "output_type": "stream",
     "text": [
      "---> Lisajou interpolation\n"
     ]
    },
    {
     "data": {
      "application/vnd.jupyter.widget-view+json": {
       "model_id": "b8da214995914ded8ee0f0ebf8e75888",
       "version_major": 2,
       "version_minor": 0
      },
      "text/plain": [
       "  0%|          | 0/30 [00:00<?, ?it/s]"
      ]
     },
     "metadata": {},
     "output_type": "display_data"
    },
    {
     "name": "stdout",
     "output_type": "stream",
     "text": [
      "---> Lerp interpolation\n"
     ]
    },
    {
     "data": {
      "application/vnd.jupyter.widget-view+json": {
       "model_id": "8d3665f62011446ab6c5bf3539091532",
       "version_major": 2,
       "version_minor": 0
      },
      "text/plain": [
       "  0%|          | 0/30 [00:00<?, ?it/s]"
      ]
     },
     "metadata": {},
     "output_type": "display_data"
    },
    {
     "name": "stdout",
     "output_type": "stream",
     "text": [
      "---> Trunc positive\n"
     ]
    },
    {
     "data": {
      "application/vnd.jupyter.widget-view+json": {
       "model_id": "8aa766aef2554194aa9022fec0c2cb83",
       "version_major": 2,
       "version_minor": 0
      },
      "text/plain": [
       "  0%|          | 0/30 [00:00<?, ?it/s]"
      ]
     },
     "metadata": {},
     "output_type": "display_data"
    },
    {
     "name": "stdout",
     "output_type": "stream",
     "text": [
      "---> Trunc negative\n"
     ]
    },
    {
     "data": {
      "application/vnd.jupyter.widget-view+json": {
       "model_id": "c2a1aac881c14b76a0f583b88d551a07",
       "version_major": 2,
       "version_minor": 0
      },
      "text/plain": [
       "  0%|          | 0/30 [00:00<?, ?it/s]"
      ]
     },
     "metadata": {},
     "output_type": "display_data"
    },
    {
     "name": "stdout",
     "output_type": "stream",
     "text": [
      "--> Style Mixing seed0563\n",
      "---> Circular interpolation\n"
     ]
    },
    {
     "data": {
      "application/vnd.jupyter.widget-view+json": {
       "model_id": "5ee52235289f497c899d5c4059e495ac",
       "version_major": 2,
       "version_minor": 0
      },
      "text/plain": [
       "  0%|          | 0/30 [00:00<?, ?it/s]"
      ]
     },
     "metadata": {},
     "output_type": "display_data"
    },
    {
     "name": "stdout",
     "output_type": "stream",
     "text": [
      "---> Lisajou interpolation\n"
     ]
    },
    {
     "data": {
      "application/vnd.jupyter.widget-view+json": {
       "model_id": "77ba9839a027407fabb250acd7bd9290",
       "version_major": 2,
       "version_minor": 0
      },
      "text/plain": [
       "  0%|          | 0/30 [00:00<?, ?it/s]"
      ]
     },
     "metadata": {},
     "output_type": "display_data"
    },
    {
     "name": "stdout",
     "output_type": "stream",
     "text": [
      "---> Lerp interpolation\n"
     ]
    },
    {
     "data": {
      "application/vnd.jupyter.widget-view+json": {
       "model_id": "78c4e6b174d944e6af122387a4c59e61",
       "version_major": 2,
       "version_minor": 0
      },
      "text/plain": [
       "  0%|          | 0/30 [00:00<?, ?it/s]"
      ]
     },
     "metadata": {},
     "output_type": "display_data"
    },
    {
     "name": "stdout",
     "output_type": "stream",
     "text": [
      "---> Trunc positive\n"
     ]
    },
    {
     "data": {
      "application/vnd.jupyter.widget-view+json": {
       "model_id": "8be33ef8ec6944cda85f0109ffee4b07",
       "version_major": 2,
       "version_minor": 0
      },
      "text/plain": [
       "  0%|          | 0/30 [00:00<?, ?it/s]"
      ]
     },
     "metadata": {},
     "output_type": "display_data"
    },
    {
     "name": "stdout",
     "output_type": "stream",
     "text": [
      "---> Trunc negative\n"
     ]
    },
    {
     "data": {
      "application/vnd.jupyter.widget-view+json": {
       "model_id": "360bb57920954b099286604171c01c59",
       "version_major": 2,
       "version_minor": 0
      },
      "text/plain": [
       "  0%|          | 0/30 [00:00<?, ?it/s]"
      ]
     },
     "metadata": {},
     "output_type": "display_data"
    },
    {
     "name": "stdout",
     "output_type": "stream",
     "text": [
      "-> StyleGAN2_Genre_Clustering/clusters/0/1 Saved in 0:23:19.216097\n",
      "---\n",
      "-> StyleGAN2_Genre_Clustering/clusters/0/2 Saving\n",
      "--> Circular interpolation start:0.5 radius:80 random-seeds:[132 924]\n"
     ]
    },
    {
     "data": {
      "application/vnd.jupyter.widget-view+json": {
       "model_id": "6524253d572b41c1aeb873f3ca3d178d",
       "version_major": 2,
       "version_minor": 0
      },
      "text/plain": [
       "  0%|          | 0/30 [00:00<?, ?it/s]"
      ]
     },
     "metadata": {},
     "output_type": "display_data"
    },
    {
     "name": "stdout",
     "output_type": "stream",
     "text": [
      "600 600\n",
      "--> Lisajou interpolation start:0.5 radius:80 random-seeds:[132 924 843] abc:(1, 2, 2)\n"
     ]
    },
    {
     "data": {
      "application/vnd.jupyter.widget-view+json": {
       "model_id": "1b0c5f37ca594e80b5bf37a7fe762462",
       "version_major": 2,
       "version_minor": 0
      },
      "text/plain": [
       "  0%|          | 0/30 [00:00<?, ?it/s]"
      ]
     },
     "metadata": {},
     "output_type": "display_data"
    },
    {
     "name": "stdout",
     "output_type": "stream",
     "text": [
      "--> Slerp interpolation start:0 random-seed:132\n"
     ]
    },
    {
     "data": {
      "application/vnd.jupyter.widget-view+json": {
       "model_id": "18132d5dcdd447928cb18fcd1386830e",
       "version_major": 2,
       "version_minor": 0
      },
      "text/plain": [
       "  0%|          | 0/30 [00:00<?, ?it/s]"
      ]
     },
     "metadata": {},
     "output_type": "display_data"
    },
    {
     "name": "stdout",
     "output_type": "stream",
     "text": [
      "--> Truncation interpolation positive:+4 negative:-12\n"
     ]
    },
    {
     "data": {
      "application/vnd.jupyter.widget-view+json": {
       "model_id": "8ad83382b96a43aca44978758566ab55",
       "version_major": 2,
       "version_minor": 0
      },
      "text/plain": [
       "  0%|          | 0/30 [00:00<?, ?it/s]"
      ]
     },
     "metadata": {},
     "output_type": "display_data"
    },
    {
     "data": {
      "application/vnd.jupyter.widget-view+json": {
       "model_id": "1196ebaee6a94c489cf95dc2d2474f42",
       "version_major": 2,
       "version_minor": 0
      },
      "text/plain": [
       "  0%|          | 0/30 [00:00<?, ?it/s]"
      ]
     },
     "metadata": {},
     "output_type": "display_data"
    },
    {
     "name": "stdout",
     "output_type": "stream",
     "text": [
      "--> Style Mixing seed0297\n",
      "---> Circular interpolation\n"
     ]
    },
    {
     "data": {
      "application/vnd.jupyter.widget-view+json": {
       "model_id": "d3127e5a667244569cf81a902455a329",
       "version_major": 2,
       "version_minor": 0
      },
      "text/plain": [
       "  0%|          | 0/30 [00:00<?, ?it/s]"
      ]
     },
     "metadata": {},
     "output_type": "display_data"
    },
    {
     "name": "stdout",
     "output_type": "stream",
     "text": [
      "---> Lisajou interpolation\n"
     ]
    },
    {
     "data": {
      "application/vnd.jupyter.widget-view+json": {
       "model_id": "40b86ad970e84c0fbeed9418535bb1bf",
       "version_major": 2,
       "version_minor": 0
      },
      "text/plain": [
       "  0%|          | 0/30 [00:00<?, ?it/s]"
      ]
     },
     "metadata": {},
     "output_type": "display_data"
    },
    {
     "name": "stdout",
     "output_type": "stream",
     "text": [
      "---> Lerp interpolation\n"
     ]
    },
    {
     "data": {
      "application/vnd.jupyter.widget-view+json": {
       "model_id": "ebc6a51a12bb4c71b083828ed2259565",
       "version_major": 2,
       "version_minor": 0
      },
      "text/plain": [
       "  0%|          | 0/30 [00:00<?, ?it/s]"
      ]
     },
     "metadata": {},
     "output_type": "display_data"
    },
    {
     "name": "stdout",
     "output_type": "stream",
     "text": [
      "---> Trunc positive\n"
     ]
    },
    {
     "data": {
      "application/vnd.jupyter.widget-view+json": {
       "model_id": "efae54c4df8948e5bfc2483476603458",
       "version_major": 2,
       "version_minor": 0
      },
      "text/plain": [
       "  0%|          | 0/30 [00:00<?, ?it/s]"
      ]
     },
     "metadata": {},
     "output_type": "display_data"
    },
    {
     "name": "stdout",
     "output_type": "stream",
     "text": [
      "---> Trunc negative\n"
     ]
    },
    {
     "data": {
      "application/vnd.jupyter.widget-view+json": {
       "model_id": "c75e309cccbc4dfc8cc0e220a41f6740",
       "version_major": 2,
       "version_minor": 0
      },
      "text/plain": [
       "  0%|          | 0/30 [00:00<?, ?it/s]"
      ]
     },
     "metadata": {},
     "output_type": "display_data"
    },
    {
     "name": "stdout",
     "output_type": "stream",
     "text": [
      "--> Style Mixing seed0563\n",
      "---> Circular interpolation\n"
     ]
    },
    {
     "data": {
      "application/vnd.jupyter.widget-view+json": {
       "model_id": "7497386104c7469cb542759a2d222fd9",
       "version_major": 2,
       "version_minor": 0
      },
      "text/plain": [
       "  0%|          | 0/30 [00:00<?, ?it/s]"
      ]
     },
     "metadata": {},
     "output_type": "display_data"
    },
    {
     "name": "stdout",
     "output_type": "stream",
     "text": [
      "---> Lisajou interpolation\n"
     ]
    },
    {
     "data": {
      "application/vnd.jupyter.widget-view+json": {
       "model_id": "0fe21172ac5e475d9d5e7551c522d39b",
       "version_major": 2,
       "version_minor": 0
      },
      "text/plain": [
       "  0%|          | 0/30 [00:00<?, ?it/s]"
      ]
     },
     "metadata": {},
     "output_type": "display_data"
    },
    {
     "name": "stdout",
     "output_type": "stream",
     "text": [
      "---> Lerp interpolation\n"
     ]
    },
    {
     "data": {
      "application/vnd.jupyter.widget-view+json": {
       "model_id": "0da1680d3e1f401588f9f6661445d05d",
       "version_major": 2,
       "version_minor": 0
      },
      "text/plain": [
       "  0%|          | 0/30 [00:00<?, ?it/s]"
      ]
     },
     "metadata": {},
     "output_type": "display_data"
    },
    {
     "name": "stdout",
     "output_type": "stream",
     "text": [
      "---> Trunc positive\n"
     ]
    },
    {
     "data": {
      "application/vnd.jupyter.widget-view+json": {
       "model_id": "978fa418f1ab41fa810bb850d81822ec",
       "version_major": 2,
       "version_minor": 0
      },
      "text/plain": [
       "  0%|          | 0/30 [00:00<?, ?it/s]"
      ]
     },
     "metadata": {},
     "output_type": "display_data"
    },
    {
     "name": "stdout",
     "output_type": "stream",
     "text": [
      "---> Trunc negative\n"
     ]
    },
    {
     "data": {
      "application/vnd.jupyter.widget-view+json": {
       "model_id": "5f0bc813415143c8b7ac0062b97e5788",
       "version_major": 2,
       "version_minor": 0
      },
      "text/plain": [
       "  0%|          | 0/30 [00:00<?, ?it/s]"
      ]
     },
     "metadata": {},
     "output_type": "display_data"
    },
    {
     "name": "stdout",
     "output_type": "stream",
     "text": [
      "-> StyleGAN2_Genre_Clustering/clusters/0/2 Saved in 0:23:16.574639\n",
      "---\n",
      "-> StyleGAN2_Genre_Clustering/clusters/0/3 Saving\n",
      "--> Circular interpolation start:0.5 radius:80 random-seeds:[784 107]\n"
     ]
    },
    {
     "data": {
      "application/vnd.jupyter.widget-view+json": {
       "model_id": "85178442397342dda64b0fbcdd1409a6",
       "version_major": 2,
       "version_minor": 0
      },
      "text/plain": [
       "  0%|          | 0/30 [00:00<?, ?it/s]"
      ]
     },
     "metadata": {},
     "output_type": "display_data"
    },
    {
     "name": "stdout",
     "output_type": "stream",
     "text": [
      "600 600\n",
      "--> Lisajou interpolation start:0.5 radius:80 random-seeds:[784 107 541] abc:(1, 2, 2)\n"
     ]
    },
    {
     "data": {
      "application/vnd.jupyter.widget-view+json": {
       "model_id": "088e14ac808c4d8fae8977505a2d72aa",
       "version_major": 2,
       "version_minor": 0
      },
      "text/plain": [
       "  0%|          | 0/30 [00:00<?, ?it/s]"
      ]
     },
     "metadata": {},
     "output_type": "display_data"
    },
    {
     "name": "stdout",
     "output_type": "stream",
     "text": [
      "--> Slerp interpolation start:0 random-seed:784\n"
     ]
    },
    {
     "data": {
      "application/vnd.jupyter.widget-view+json": {
       "model_id": "1bf945b93f524d7e9f920a880ce6fead",
       "version_major": 2,
       "version_minor": 0
      },
      "text/plain": [
       "  0%|          | 0/30 [00:00<?, ?it/s]"
      ]
     },
     "metadata": {},
     "output_type": "display_data"
    },
    {
     "name": "stdout",
     "output_type": "stream",
     "text": [
      "--> Truncation interpolation positive:+4 negative:-12\n"
     ]
    },
    {
     "data": {
      "application/vnd.jupyter.widget-view+json": {
       "model_id": "30d73f3c8c8c4872a42a25e452858229",
       "version_major": 2,
       "version_minor": 0
      },
      "text/plain": [
       "  0%|          | 0/30 [00:00<?, ?it/s]"
      ]
     },
     "metadata": {},
     "output_type": "display_data"
    },
    {
     "data": {
      "application/vnd.jupyter.widget-view+json": {
       "model_id": "5e34cb7c6e0646959f1bbacfed430bd0",
       "version_major": 2,
       "version_minor": 0
      },
      "text/plain": [
       "  0%|          | 0/30 [00:00<?, ?it/s]"
      ]
     },
     "metadata": {},
     "output_type": "display_data"
    },
    {
     "name": "stdout",
     "output_type": "stream",
     "text": [
      "--> Style Mixing seed0297\n",
      "---> Circular interpolation\n"
     ]
    },
    {
     "data": {
      "application/vnd.jupyter.widget-view+json": {
       "model_id": "528a4727c52b40c78ab63b64c39a17b5",
       "version_major": 2,
       "version_minor": 0
      },
      "text/plain": [
       "  0%|          | 0/30 [00:00<?, ?it/s]"
      ]
     },
     "metadata": {},
     "output_type": "display_data"
    },
    {
     "name": "stdout",
     "output_type": "stream",
     "text": [
      "---> Lisajou interpolation\n"
     ]
    },
    {
     "data": {
      "application/vnd.jupyter.widget-view+json": {
       "model_id": "64e86266bd444f2b9b13e52344082fbe",
       "version_major": 2,
       "version_minor": 0
      },
      "text/plain": [
       "  0%|          | 0/30 [00:00<?, ?it/s]"
      ]
     },
     "metadata": {},
     "output_type": "display_data"
    },
    {
     "name": "stdout",
     "output_type": "stream",
     "text": [
      "---> Lerp interpolation\n"
     ]
    },
    {
     "data": {
      "application/vnd.jupyter.widget-view+json": {
       "model_id": "cdaebabad25b452b81c0bec9e536ef98",
       "version_major": 2,
       "version_minor": 0
      },
      "text/plain": [
       "  0%|          | 0/30 [00:00<?, ?it/s]"
      ]
     },
     "metadata": {},
     "output_type": "display_data"
    },
    {
     "name": "stdout",
     "output_type": "stream",
     "text": [
      "---> Trunc positive\n"
     ]
    },
    {
     "data": {
      "application/vnd.jupyter.widget-view+json": {
       "model_id": "062a6d74587340d7b805d081a5c553bd",
       "version_major": 2,
       "version_minor": 0
      },
      "text/plain": [
       "  0%|          | 0/30 [00:00<?, ?it/s]"
      ]
     },
     "metadata": {},
     "output_type": "display_data"
    },
    {
     "name": "stdout",
     "output_type": "stream",
     "text": [
      "---> Trunc negative\n"
     ]
    },
    {
     "data": {
      "application/vnd.jupyter.widget-view+json": {
       "model_id": "75b127a09bb747e7b7c776913b7bafd3",
       "version_major": 2,
       "version_minor": 0
      },
      "text/plain": [
       "  0%|          | 0/30 [00:00<?, ?it/s]"
      ]
     },
     "metadata": {},
     "output_type": "display_data"
    },
    {
     "name": "stdout",
     "output_type": "stream",
     "text": [
      "--> Style Mixing seed0563\n",
      "---> Circular interpolation\n"
     ]
    },
    {
     "data": {
      "application/vnd.jupyter.widget-view+json": {
       "model_id": "27becf2139344b9ebf3dd5d27078de0d",
       "version_major": 2,
       "version_minor": 0
      },
      "text/plain": [
       "  0%|          | 0/30 [00:00<?, ?it/s]"
      ]
     },
     "metadata": {},
     "output_type": "display_data"
    },
    {
     "name": "stdout",
     "output_type": "stream",
     "text": [
      "---> Lisajou interpolation\n"
     ]
    },
    {
     "data": {
      "application/vnd.jupyter.widget-view+json": {
       "model_id": "e501fa60395f40c782ebc0734efe566c",
       "version_major": 2,
       "version_minor": 0
      },
      "text/plain": [
       "  0%|          | 0/30 [00:00<?, ?it/s]"
      ]
     },
     "metadata": {},
     "output_type": "display_data"
    },
    {
     "name": "stdout",
     "output_type": "stream",
     "text": [
      "---> Lerp interpolation\n"
     ]
    },
    {
     "data": {
      "application/vnd.jupyter.widget-view+json": {
       "model_id": "b21f34aac1d842ed87e2cac96dbc35e1",
       "version_major": 2,
       "version_minor": 0
      },
      "text/plain": [
       "  0%|          | 0/30 [00:00<?, ?it/s]"
      ]
     },
     "metadata": {},
     "output_type": "display_data"
    },
    {
     "name": "stdout",
     "output_type": "stream",
     "text": [
      "---> Trunc positive\n"
     ]
    },
    {
     "data": {
      "application/vnd.jupyter.widget-view+json": {
       "model_id": "65828983631049ffbaf0c7f229791c22",
       "version_major": 2,
       "version_minor": 0
      },
      "text/plain": [
       "  0%|          | 0/30 [00:00<?, ?it/s]"
      ]
     },
     "metadata": {},
     "output_type": "display_data"
    },
    {
     "name": "stdout",
     "output_type": "stream",
     "text": [
      "---> Trunc negative\n"
     ]
    },
    {
     "data": {
      "application/vnd.jupyter.widget-view+json": {
       "model_id": "9588251b0d764a468eabc5b85b40c3fb",
       "version_major": 2,
       "version_minor": 0
      },
      "text/plain": [
       "  0%|          | 0/30 [00:00<?, ?it/s]"
      ]
     },
     "metadata": {},
     "output_type": "display_data"
    },
    {
     "name": "stdout",
     "output_type": "stream",
     "text": [
      "-> StyleGAN2_Genre_Clustering/clusters/0/3 Saved in 0:23:13.526860\n",
      "---\n",
      "> Cluster 1: 4 imgs (saving 4, trunc_psi:1, noise_mode:const)\n"
     ]
    },
    {
     "data": {
      "application/vnd.jupyter.widget-view+json": {
       "model_id": "55c54e7373204f7d899d368202081fc5",
       "version_major": 2,
       "version_minor": 0
      },
      "text/plain": [
       "  0%|          | 0/1 [00:00<?, ?it/s]"
      ]
     },
     "metadata": {},
     "output_type": "display_data"
    },
    {
     "name": "stdout",
     "output_type": "stream",
     "text": [
      "-> StyleGAN2_Genre_Clustering/clusters/1/0 Saving\n",
      "--> Circular interpolation start:0.5 radius:80 random-seeds:[205 840]\n"
     ]
    },
    {
     "data": {
      "application/vnd.jupyter.widget-view+json": {
       "model_id": "08fb99bca2ca46498fdd4d5027f6d7ce",
       "version_major": 2,
       "version_minor": 0
      },
      "text/plain": [
       "  0%|          | 0/30 [00:00<?, ?it/s]"
      ]
     },
     "metadata": {},
     "output_type": "display_data"
    },
    {
     "name": "stdout",
     "output_type": "stream",
     "text": [
      "600 600\n",
      "--> Lisajou interpolation start:0.5 radius:80 random-seeds:[205 840 522] abc:(1, 2, 2)\n"
     ]
    },
    {
     "data": {
      "application/vnd.jupyter.widget-view+json": {
       "model_id": "65a52b8beae14d5ab10b248e390287e2",
       "version_major": 2,
       "version_minor": 0
      },
      "text/plain": [
       "  0%|          | 0/30 [00:00<?, ?it/s]"
      ]
     },
     "metadata": {},
     "output_type": "display_data"
    },
    {
     "name": "stdout",
     "output_type": "stream",
     "text": [
      "--> Slerp interpolation start:0 random-seed:205\n"
     ]
    },
    {
     "data": {
      "application/vnd.jupyter.widget-view+json": {
       "model_id": "e114bfcbf84541a1a54990fd484311f1",
       "version_major": 2,
       "version_minor": 0
      },
      "text/plain": [
       "  0%|          | 0/30 [00:00<?, ?it/s]"
      ]
     },
     "metadata": {},
     "output_type": "display_data"
    },
    {
     "name": "stdout",
     "output_type": "stream",
     "text": [
      "--> Truncation interpolation positive:+4 negative:-12\n"
     ]
    },
    {
     "data": {
      "application/vnd.jupyter.widget-view+json": {
       "model_id": "b8eedcc28c194146ba6a4da0c261d3c1",
       "version_major": 2,
       "version_minor": 0
      },
      "text/plain": [
       "  0%|          | 0/30 [00:00<?, ?it/s]"
      ]
     },
     "metadata": {},
     "output_type": "display_data"
    },
    {
     "data": {
      "application/vnd.jupyter.widget-view+json": {
       "model_id": "1b5cbeb918ef43bda06db5458d23dc75",
       "version_major": 2,
       "version_minor": 0
      },
      "text/plain": [
       "  0%|          | 0/30 [00:00<?, ?it/s]"
      ]
     },
     "metadata": {},
     "output_type": "display_data"
    },
    {
     "name": "stdout",
     "output_type": "stream",
     "text": [
      "--> Style Mixing seed0297\n",
      "---> Circular interpolation\n"
     ]
    },
    {
     "data": {
      "application/vnd.jupyter.widget-view+json": {
       "model_id": "fb87d267365a4800bd38726c17ef7190",
       "version_major": 2,
       "version_minor": 0
      },
      "text/plain": [
       "  0%|          | 0/30 [00:00<?, ?it/s]"
      ]
     },
     "metadata": {},
     "output_type": "display_data"
    },
    {
     "name": "stdout",
     "output_type": "stream",
     "text": [
      "---> Lisajou interpolation\n"
     ]
    },
    {
     "data": {
      "application/vnd.jupyter.widget-view+json": {
       "model_id": "dac856e71f0643239681cb40dc5a86a8",
       "version_major": 2,
       "version_minor": 0
      },
      "text/plain": [
       "  0%|          | 0/30 [00:00<?, ?it/s]"
      ]
     },
     "metadata": {},
     "output_type": "display_data"
    },
    {
     "name": "stdout",
     "output_type": "stream",
     "text": [
      "---> Lerp interpolation\n"
     ]
    },
    {
     "data": {
      "application/vnd.jupyter.widget-view+json": {
       "model_id": "a928bb39c9864be580f34012939c2eb4",
       "version_major": 2,
       "version_minor": 0
      },
      "text/plain": [
       "  0%|          | 0/30 [00:00<?, ?it/s]"
      ]
     },
     "metadata": {},
     "output_type": "display_data"
    },
    {
     "name": "stdout",
     "output_type": "stream",
     "text": [
      "---> Trunc positive\n"
     ]
    },
    {
     "data": {
      "application/vnd.jupyter.widget-view+json": {
       "model_id": "514ca11ad55a4e4ead8ac2bd03e8c127",
       "version_major": 2,
       "version_minor": 0
      },
      "text/plain": [
       "  0%|          | 0/30 [00:00<?, ?it/s]"
      ]
     },
     "metadata": {},
     "output_type": "display_data"
    },
    {
     "name": "stdout",
     "output_type": "stream",
     "text": [
      "---> Trunc negative\n"
     ]
    },
    {
     "data": {
      "application/vnd.jupyter.widget-view+json": {
       "model_id": "18478012dcd04dc4a62dd123e7102bbe",
       "version_major": 2,
       "version_minor": 0
      },
      "text/plain": [
       "  0%|          | 0/30 [00:00<?, ?it/s]"
      ]
     },
     "metadata": {},
     "output_type": "display_data"
    },
    {
     "name": "stdout",
     "output_type": "stream",
     "text": [
      "--> Style Mixing seed0563\n",
      "---> Circular interpolation\n"
     ]
    },
    {
     "data": {
      "application/vnd.jupyter.widget-view+json": {
       "model_id": "942bfe973e3b4303a005ff0a43a3be5e",
       "version_major": 2,
       "version_minor": 0
      },
      "text/plain": [
       "  0%|          | 0/30 [00:00<?, ?it/s]"
      ]
     },
     "metadata": {},
     "output_type": "display_data"
    },
    {
     "name": "stdout",
     "output_type": "stream",
     "text": [
      "---> Lisajou interpolation\n"
     ]
    },
    {
     "data": {
      "application/vnd.jupyter.widget-view+json": {
       "model_id": "58152e57c18442a295aae692b0a600d8",
       "version_major": 2,
       "version_minor": 0
      },
      "text/plain": [
       "  0%|          | 0/30 [00:00<?, ?it/s]"
      ]
     },
     "metadata": {},
     "output_type": "display_data"
    },
    {
     "name": "stdout",
     "output_type": "stream",
     "text": [
      "---> Lerp interpolation\n"
     ]
    },
    {
     "data": {
      "application/vnd.jupyter.widget-view+json": {
       "model_id": "5bd05e5217ee4d90a2d651808eebae9c",
       "version_major": 2,
       "version_minor": 0
      },
      "text/plain": [
       "  0%|          | 0/30 [00:00<?, ?it/s]"
      ]
     },
     "metadata": {},
     "output_type": "display_data"
    },
    {
     "name": "stdout",
     "output_type": "stream",
     "text": [
      "---> Trunc positive\n"
     ]
    },
    {
     "data": {
      "application/vnd.jupyter.widget-view+json": {
       "model_id": "4f6a2683f0ec4d67bd5b538dd130a895",
       "version_major": 2,
       "version_minor": 0
      },
      "text/plain": [
       "  0%|          | 0/30 [00:00<?, ?it/s]"
      ]
     },
     "metadata": {},
     "output_type": "display_data"
    },
    {
     "name": "stdout",
     "output_type": "stream",
     "text": [
      "---> Trunc negative\n"
     ]
    },
    {
     "data": {
      "application/vnd.jupyter.widget-view+json": {
       "model_id": "a58feffdb30646d1b308d08c854e25e7",
       "version_major": 2,
       "version_minor": 0
      },
      "text/plain": [
       "  0%|          | 0/30 [00:00<?, ?it/s]"
      ]
     },
     "metadata": {},
     "output_type": "display_data"
    },
    {
     "name": "stdout",
     "output_type": "stream",
     "text": [
      "-> StyleGAN2_Genre_Clustering/clusters/1/0 Saved in 0:23:15.479803\n",
      "---\n",
      "-> StyleGAN2_Genre_Clustering/clusters/1/1 Saving\n",
      "--> Circular interpolation start:0.5 radius:80 random-seeds:[916 790]\n"
     ]
    },
    {
     "data": {
      "application/vnd.jupyter.widget-view+json": {
       "model_id": "05587fcafa1b4bb286715d767ea169d0",
       "version_major": 2,
       "version_minor": 0
      },
      "text/plain": [
       "  0%|          | 0/30 [00:00<?, ?it/s]"
      ]
     },
     "metadata": {},
     "output_type": "display_data"
    },
    {
     "name": "stdout",
     "output_type": "stream",
     "text": [
      "600 600\n",
      "--> Lisajou interpolation start:0.5 radius:80 random-seeds:[916 790  38] abc:(1, 2, 2)\n"
     ]
    },
    {
     "data": {
      "application/vnd.jupyter.widget-view+json": {
       "model_id": "865f300e2455472f954033254dede918",
       "version_major": 2,
       "version_minor": 0
      },
      "text/plain": [
       "  0%|          | 0/30 [00:00<?, ?it/s]"
      ]
     },
     "metadata": {},
     "output_type": "display_data"
    },
    {
     "name": "stdout",
     "output_type": "stream",
     "text": [
      "--> Slerp interpolation start:0 random-seed:916\n"
     ]
    },
    {
     "data": {
      "application/vnd.jupyter.widget-view+json": {
       "model_id": "bd36d4926acc4f00ac7420e5deb2bbba",
       "version_major": 2,
       "version_minor": 0
      },
      "text/plain": [
       "  0%|          | 0/30 [00:00<?, ?it/s]"
      ]
     },
     "metadata": {},
     "output_type": "display_data"
    },
    {
     "name": "stdout",
     "output_type": "stream",
     "text": [
      "--> Truncation interpolation positive:+4 negative:-12\n"
     ]
    },
    {
     "data": {
      "application/vnd.jupyter.widget-view+json": {
       "model_id": "aa5d4124fb0f414490f94d1fe415a66a",
       "version_major": 2,
       "version_minor": 0
      },
      "text/plain": [
       "  0%|          | 0/30 [00:00<?, ?it/s]"
      ]
     },
     "metadata": {},
     "output_type": "display_data"
    },
    {
     "data": {
      "application/vnd.jupyter.widget-view+json": {
       "model_id": "e4e1039eb68c43f2b09098e405e7a41f",
       "version_major": 2,
       "version_minor": 0
      },
      "text/plain": [
       "  0%|          | 0/30 [00:00<?, ?it/s]"
      ]
     },
     "metadata": {},
     "output_type": "display_data"
    },
    {
     "name": "stdout",
     "output_type": "stream",
     "text": [
      "--> Style Mixing seed0297\n",
      "---> Circular interpolation\n"
     ]
    },
    {
     "data": {
      "application/vnd.jupyter.widget-view+json": {
       "model_id": "828ab89de1504599b14d08a939d6ca33",
       "version_major": 2,
       "version_minor": 0
      },
      "text/plain": [
       "  0%|          | 0/30 [00:00<?, ?it/s]"
      ]
     },
     "metadata": {},
     "output_type": "display_data"
    },
    {
     "name": "stdout",
     "output_type": "stream",
     "text": [
      "---> Lisajou interpolation\n"
     ]
    },
    {
     "data": {
      "application/vnd.jupyter.widget-view+json": {
       "model_id": "c2d24b036a864eb6a1f227d137256771",
       "version_major": 2,
       "version_minor": 0
      },
      "text/plain": [
       "  0%|          | 0/30 [00:00<?, ?it/s]"
      ]
     },
     "metadata": {},
     "output_type": "display_data"
    },
    {
     "name": "stdout",
     "output_type": "stream",
     "text": [
      "---> Lerp interpolation\n"
     ]
    },
    {
     "data": {
      "application/vnd.jupyter.widget-view+json": {
       "model_id": "c624fab1df79472c99b4691401365e81",
       "version_major": 2,
       "version_minor": 0
      },
      "text/plain": [
       "  0%|          | 0/30 [00:00<?, ?it/s]"
      ]
     },
     "metadata": {},
     "output_type": "display_data"
    },
    {
     "name": "stdout",
     "output_type": "stream",
     "text": [
      "---> Trunc positive\n"
     ]
    },
    {
     "data": {
      "application/vnd.jupyter.widget-view+json": {
       "model_id": "da5ff88b57334913995b86969d207ff4",
       "version_major": 2,
       "version_minor": 0
      },
      "text/plain": [
       "  0%|          | 0/30 [00:00<?, ?it/s]"
      ]
     },
     "metadata": {},
     "output_type": "display_data"
    },
    {
     "name": "stdout",
     "output_type": "stream",
     "text": [
      "---> Trunc negative\n"
     ]
    },
    {
     "data": {
      "application/vnd.jupyter.widget-view+json": {
       "model_id": "5cd18452d6e94a5faa1389d305bf2867",
       "version_major": 2,
       "version_minor": 0
      },
      "text/plain": [
       "  0%|          | 0/30 [00:00<?, ?it/s]"
      ]
     },
     "metadata": {},
     "output_type": "display_data"
    },
    {
     "name": "stdout",
     "output_type": "stream",
     "text": [
      "--> Style Mixing seed0563\n",
      "---> Circular interpolation\n"
     ]
    },
    {
     "data": {
      "application/vnd.jupyter.widget-view+json": {
       "model_id": "b7ceae81153e42149dcf8eed1bb4d658",
       "version_major": 2,
       "version_minor": 0
      },
      "text/plain": [
       "  0%|          | 0/30 [00:00<?, ?it/s]"
      ]
     },
     "metadata": {},
     "output_type": "display_data"
    },
    {
     "name": "stdout",
     "output_type": "stream",
     "text": [
      "---> Lisajou interpolation\n"
     ]
    },
    {
     "data": {
      "application/vnd.jupyter.widget-view+json": {
       "model_id": "0c3abe5b89804973b66ea3d5888ada70",
       "version_major": 2,
       "version_minor": 0
      },
      "text/plain": [
       "  0%|          | 0/30 [00:00<?, ?it/s]"
      ]
     },
     "metadata": {},
     "output_type": "display_data"
    },
    {
     "name": "stdout",
     "output_type": "stream",
     "text": [
      "---> Lerp interpolation\n"
     ]
    },
    {
     "data": {
      "application/vnd.jupyter.widget-view+json": {
       "model_id": "00e91a6abba142a29884322c38ba81e4",
       "version_major": 2,
       "version_minor": 0
      },
      "text/plain": [
       "  0%|          | 0/30 [00:00<?, ?it/s]"
      ]
     },
     "metadata": {},
     "output_type": "display_data"
    },
    {
     "name": "stdout",
     "output_type": "stream",
     "text": [
      "---> Trunc positive\n"
     ]
    },
    {
     "data": {
      "application/vnd.jupyter.widget-view+json": {
       "model_id": "c432b0a81b7b41579a9a96c9c2d867d8",
       "version_major": 2,
       "version_minor": 0
      },
      "text/plain": [
       "  0%|          | 0/30 [00:00<?, ?it/s]"
      ]
     },
     "metadata": {},
     "output_type": "display_data"
    },
    {
     "name": "stdout",
     "output_type": "stream",
     "text": [
      "---> Trunc negative\n"
     ]
    },
    {
     "data": {
      "application/vnd.jupyter.widget-view+json": {
       "model_id": "b34b9862cc3c4da990bec4d4c0d200b8",
       "version_major": 2,
       "version_minor": 0
      },
      "text/plain": [
       "  0%|          | 0/30 [00:00<?, ?it/s]"
      ]
     },
     "metadata": {},
     "output_type": "display_data"
    },
    {
     "name": "stdout",
     "output_type": "stream",
     "text": [
      "-> StyleGAN2_Genre_Clustering/clusters/1/1 Saved in 0:23:15.161844\n",
      "---\n",
      "-> StyleGAN2_Genre_Clustering/clusters/1/2 Saving\n",
      "--> Circular interpolation start:0.5 radius:80 random-seeds:[372 605]\n"
     ]
    },
    {
     "data": {
      "application/vnd.jupyter.widget-view+json": {
       "model_id": "acd0b5398af940dfad229307774c988f",
       "version_major": 2,
       "version_minor": 0
      },
      "text/plain": [
       "  0%|          | 0/30 [00:00<?, ?it/s]"
      ]
     },
     "metadata": {},
     "output_type": "display_data"
    },
    {
     "name": "stdout",
     "output_type": "stream",
     "text": [
      "600 600\n",
      "--> Lisajou interpolation start:0.5 radius:80 random-seeds:[372 605 628] abc:(1, 2, 2)\n"
     ]
    },
    {
     "data": {
      "application/vnd.jupyter.widget-view+json": {
       "model_id": "fb6928106b2a4df7ae79dadb8cd86102",
       "version_major": 2,
       "version_minor": 0
      },
      "text/plain": [
       "  0%|          | 0/30 [00:00<?, ?it/s]"
      ]
     },
     "metadata": {},
     "output_type": "display_data"
    },
    {
     "name": "stdout",
     "output_type": "stream",
     "text": [
      "--> Slerp interpolation start:0 random-seed:372\n"
     ]
    },
    {
     "data": {
      "application/vnd.jupyter.widget-view+json": {
       "model_id": "ec6e692d7ea744cb905297fa534a0538",
       "version_major": 2,
       "version_minor": 0
      },
      "text/plain": [
       "  0%|          | 0/30 [00:00<?, ?it/s]"
      ]
     },
     "metadata": {},
     "output_type": "display_data"
    },
    {
     "name": "stdout",
     "output_type": "stream",
     "text": [
      "--> Truncation interpolation positive:+4 negative:-12\n"
     ]
    },
    {
     "data": {
      "application/vnd.jupyter.widget-view+json": {
       "model_id": "9960cd0f8eeb4a5699db3b721da29eaa",
       "version_major": 2,
       "version_minor": 0
      },
      "text/plain": [
       "  0%|          | 0/30 [00:00<?, ?it/s]"
      ]
     },
     "metadata": {},
     "output_type": "display_data"
    },
    {
     "data": {
      "application/vnd.jupyter.widget-view+json": {
       "model_id": "ffe141a30fca4de38bb8d02932883985",
       "version_major": 2,
       "version_minor": 0
      },
      "text/plain": [
       "  0%|          | 0/30 [00:00<?, ?it/s]"
      ]
     },
     "metadata": {},
     "output_type": "display_data"
    },
    {
     "name": "stdout",
     "output_type": "stream",
     "text": [
      "--> Style Mixing seed0297\n",
      "---> Circular interpolation\n"
     ]
    },
    {
     "data": {
      "application/vnd.jupyter.widget-view+json": {
       "model_id": "944ab3d18736463187f3172eaf974374",
       "version_major": 2,
       "version_minor": 0
      },
      "text/plain": [
       "  0%|          | 0/30 [00:00<?, ?it/s]"
      ]
     },
     "metadata": {},
     "output_type": "display_data"
    },
    {
     "name": "stdout",
     "output_type": "stream",
     "text": [
      "---> Lisajou interpolation\n"
     ]
    },
    {
     "data": {
      "application/vnd.jupyter.widget-view+json": {
       "model_id": "930de0bc9b784340aeaeceea47cc2cae",
       "version_major": 2,
       "version_minor": 0
      },
      "text/plain": [
       "  0%|          | 0/30 [00:00<?, ?it/s]"
      ]
     },
     "metadata": {},
     "output_type": "display_data"
    },
    {
     "name": "stdout",
     "output_type": "stream",
     "text": [
      "---> Lerp interpolation\n"
     ]
    },
    {
     "data": {
      "application/vnd.jupyter.widget-view+json": {
       "model_id": "59eb93f1f4b448c996539addf5c40d2e",
       "version_major": 2,
       "version_minor": 0
      },
      "text/plain": [
       "  0%|          | 0/30 [00:00<?, ?it/s]"
      ]
     },
     "metadata": {},
     "output_type": "display_data"
    },
    {
     "name": "stdout",
     "output_type": "stream",
     "text": [
      "---> Trunc positive\n"
     ]
    },
    {
     "data": {
      "application/vnd.jupyter.widget-view+json": {
       "model_id": "bda2a5a5e27240d38ad53aee9914ae39",
       "version_major": 2,
       "version_minor": 0
      },
      "text/plain": [
       "  0%|          | 0/30 [00:00<?, ?it/s]"
      ]
     },
     "metadata": {},
     "output_type": "display_data"
    },
    {
     "name": "stdout",
     "output_type": "stream",
     "text": [
      "---> Trunc negative\n"
     ]
    },
    {
     "data": {
      "application/vnd.jupyter.widget-view+json": {
       "model_id": "4d8bae3959bb4a7f905a2fc522848925",
       "version_major": 2,
       "version_minor": 0
      },
      "text/plain": [
       "  0%|          | 0/30 [00:00<?, ?it/s]"
      ]
     },
     "metadata": {},
     "output_type": "display_data"
    },
    {
     "name": "stdout",
     "output_type": "stream",
     "text": [
      "--> Style Mixing seed0563\n",
      "---> Circular interpolation\n"
     ]
    },
    {
     "data": {
      "application/vnd.jupyter.widget-view+json": {
       "model_id": "48dde5436afd4de7a6f592768dc6aaec",
       "version_major": 2,
       "version_minor": 0
      },
      "text/plain": [
       "  0%|          | 0/30 [00:00<?, ?it/s]"
      ]
     },
     "metadata": {},
     "output_type": "display_data"
    },
    {
     "name": "stdout",
     "output_type": "stream",
     "text": [
      "---> Lisajou interpolation\n"
     ]
    },
    {
     "data": {
      "application/vnd.jupyter.widget-view+json": {
       "model_id": "27131eb195ba40269d69a9c33b4b5f77",
       "version_major": 2,
       "version_minor": 0
      },
      "text/plain": [
       "  0%|          | 0/30 [00:00<?, ?it/s]"
      ]
     },
     "metadata": {},
     "output_type": "display_data"
    },
    {
     "name": "stdout",
     "output_type": "stream",
     "text": [
      "---> Lerp interpolation\n"
     ]
    },
    {
     "data": {
      "application/vnd.jupyter.widget-view+json": {
       "model_id": "837800382b51492d9050e4bb0099500f",
       "version_major": 2,
       "version_minor": 0
      },
      "text/plain": [
       "  0%|          | 0/30 [00:00<?, ?it/s]"
      ]
     },
     "metadata": {},
     "output_type": "display_data"
    },
    {
     "name": "stdout",
     "output_type": "stream",
     "text": [
      "---> Trunc positive\n"
     ]
    },
    {
     "data": {
      "application/vnd.jupyter.widget-view+json": {
       "model_id": "2e461e0a22074fb091140f098b403da9",
       "version_major": 2,
       "version_minor": 0
      },
      "text/plain": [
       "  0%|          | 0/30 [00:00<?, ?it/s]"
      ]
     },
     "metadata": {},
     "output_type": "display_data"
    },
    {
     "name": "stdout",
     "output_type": "stream",
     "text": [
      "---> Trunc negative\n"
     ]
    },
    {
     "data": {
      "application/vnd.jupyter.widget-view+json": {
       "model_id": "d3f723679a2e4f1f84f7b26505ec87e1",
       "version_major": 2,
       "version_minor": 0
      },
      "text/plain": [
       "  0%|          | 0/30 [00:00<?, ?it/s]"
      ]
     },
     "metadata": {},
     "output_type": "display_data"
    },
    {
     "name": "stdout",
     "output_type": "stream",
     "text": [
      "-> StyleGAN2_Genre_Clustering/clusters/1/2 Saved in 0:23:19.136681\n",
      "---\n",
      "-> StyleGAN2_Genre_Clustering/clusters/1/3 Saving\n",
      "--> Circular interpolation start:0.5 radius:80 random-seeds:[507 247]\n"
     ]
    },
    {
     "data": {
      "application/vnd.jupyter.widget-view+json": {
       "model_id": "2b421a0f1ace4c9ba5cbf3a7d5e38b43",
       "version_major": 2,
       "version_minor": 0
      },
      "text/plain": [
       "  0%|          | 0/30 [00:00<?, ?it/s]"
      ]
     },
     "metadata": {},
     "output_type": "display_data"
    },
    {
     "name": "stdout",
     "output_type": "stream",
     "text": [
      "600 600\n",
      "--> Lisajou interpolation start:0.5 radius:80 random-seeds:[507 247 313] abc:(1, 2, 2)\n"
     ]
    },
    {
     "data": {
      "application/vnd.jupyter.widget-view+json": {
       "model_id": "3539056053404bd8a796710b074daebb",
       "version_major": 2,
       "version_minor": 0
      },
      "text/plain": [
       "  0%|          | 0/30 [00:00<?, ?it/s]"
      ]
     },
     "metadata": {},
     "output_type": "display_data"
    },
    {
     "name": "stdout",
     "output_type": "stream",
     "text": [
      "--> Slerp interpolation start:0 random-seed:507\n"
     ]
    },
    {
     "data": {
      "application/vnd.jupyter.widget-view+json": {
       "model_id": "f23312e5f7174421bf5ca35bb53f6f80",
       "version_major": 2,
       "version_minor": 0
      },
      "text/plain": [
       "  0%|          | 0/30 [00:00<?, ?it/s]"
      ]
     },
     "metadata": {},
     "output_type": "display_data"
    },
    {
     "name": "stdout",
     "output_type": "stream",
     "text": [
      "--> Truncation interpolation positive:+4 negative:-12\n"
     ]
    },
    {
     "data": {
      "application/vnd.jupyter.widget-view+json": {
       "model_id": "186f8c82a46c4dc08e88aa666f4e1921",
       "version_major": 2,
       "version_minor": 0
      },
      "text/plain": [
       "  0%|          | 0/30 [00:00<?, ?it/s]"
      ]
     },
     "metadata": {},
     "output_type": "display_data"
    },
    {
     "data": {
      "application/vnd.jupyter.widget-view+json": {
       "model_id": "916c62df27ba4f71bd185e5574a2cc6d",
       "version_major": 2,
       "version_minor": 0
      },
      "text/plain": [
       "  0%|          | 0/30 [00:00<?, ?it/s]"
      ]
     },
     "metadata": {},
     "output_type": "display_data"
    },
    {
     "name": "stdout",
     "output_type": "stream",
     "text": [
      "--> Style Mixing seed0297\n",
      "---> Circular interpolation\n"
     ]
    },
    {
     "data": {
      "application/vnd.jupyter.widget-view+json": {
       "model_id": "eb7c8cac043c441297f051a7cf29e968",
       "version_major": 2,
       "version_minor": 0
      },
      "text/plain": [
       "  0%|          | 0/30 [00:00<?, ?it/s]"
      ]
     },
     "metadata": {},
     "output_type": "display_data"
    },
    {
     "name": "stdout",
     "output_type": "stream",
     "text": [
      "---> Lisajou interpolation\n"
     ]
    },
    {
     "data": {
      "application/vnd.jupyter.widget-view+json": {
       "model_id": "5aa06211b53040818d784eaeb4ce4a66",
       "version_major": 2,
       "version_minor": 0
      },
      "text/plain": [
       "  0%|          | 0/30 [00:00<?, ?it/s]"
      ]
     },
     "metadata": {},
     "output_type": "display_data"
    },
    {
     "name": "stdout",
     "output_type": "stream",
     "text": [
      "---> Lerp interpolation\n"
     ]
    },
    {
     "data": {
      "application/vnd.jupyter.widget-view+json": {
       "model_id": "9914902861694d4dbec2d5900578d942",
       "version_major": 2,
       "version_minor": 0
      },
      "text/plain": [
       "  0%|          | 0/30 [00:00<?, ?it/s]"
      ]
     },
     "metadata": {},
     "output_type": "display_data"
    },
    {
     "name": "stdout",
     "output_type": "stream",
     "text": [
      "---> Trunc positive\n"
     ]
    },
    {
     "data": {
      "application/vnd.jupyter.widget-view+json": {
       "model_id": "9a2e12c2f6a9493fae5fd206dac9b66a",
       "version_major": 2,
       "version_minor": 0
      },
      "text/plain": [
       "  0%|          | 0/30 [00:00<?, ?it/s]"
      ]
     },
     "metadata": {},
     "output_type": "display_data"
    },
    {
     "name": "stdout",
     "output_type": "stream",
     "text": [
      "---> Trunc negative\n"
     ]
    },
    {
     "data": {
      "application/vnd.jupyter.widget-view+json": {
       "model_id": "04bad48221b44f4894dd44f4bb706d6f",
       "version_major": 2,
       "version_minor": 0
      },
      "text/plain": [
       "  0%|          | 0/30 [00:00<?, ?it/s]"
      ]
     },
     "metadata": {},
     "output_type": "display_data"
    },
    {
     "name": "stdout",
     "output_type": "stream",
     "text": [
      "--> Style Mixing seed0563\n",
      "---> Circular interpolation\n"
     ]
    },
    {
     "data": {
      "application/vnd.jupyter.widget-view+json": {
       "model_id": "f313dc0cff5f44f3a7af8e0295184790",
       "version_major": 2,
       "version_minor": 0
      },
      "text/plain": [
       "  0%|          | 0/30 [00:00<?, ?it/s]"
      ]
     },
     "metadata": {},
     "output_type": "display_data"
    },
    {
     "name": "stdout",
     "output_type": "stream",
     "text": [
      "---> Lisajou interpolation\n"
     ]
    },
    {
     "data": {
      "application/vnd.jupyter.widget-view+json": {
       "model_id": "1d164ae895824b0b8a59e848e869a551",
       "version_major": 2,
       "version_minor": 0
      },
      "text/plain": [
       "  0%|          | 0/30 [00:00<?, ?it/s]"
      ]
     },
     "metadata": {},
     "output_type": "display_data"
    },
    {
     "name": "stdout",
     "output_type": "stream",
     "text": [
      "---> Lerp interpolation\n"
     ]
    },
    {
     "data": {
      "application/vnd.jupyter.widget-view+json": {
       "model_id": "3778e161aad1419a8c5f4a9e3ed074d2",
       "version_major": 2,
       "version_minor": 0
      },
      "text/plain": [
       "  0%|          | 0/30 [00:00<?, ?it/s]"
      ]
     },
     "metadata": {},
     "output_type": "display_data"
    },
    {
     "name": "stdout",
     "output_type": "stream",
     "text": [
      "---> Trunc positive\n"
     ]
    },
    {
     "data": {
      "application/vnd.jupyter.widget-view+json": {
       "model_id": "743bf7c949b34ca0a3b6fa0fd373031c",
       "version_major": 2,
       "version_minor": 0
      },
      "text/plain": [
       "  0%|          | 0/30 [00:00<?, ?it/s]"
      ]
     },
     "metadata": {},
     "output_type": "display_data"
    },
    {
     "name": "stdout",
     "output_type": "stream",
     "text": [
      "---> Trunc negative\n"
     ]
    },
    {
     "data": {
      "application/vnd.jupyter.widget-view+json": {
       "model_id": "4699c173ede041a1bac86f7f8d8c0403",
       "version_major": 2,
       "version_minor": 0
      },
      "text/plain": [
       "  0%|          | 0/30 [00:00<?, ?it/s]"
      ]
     },
     "metadata": {},
     "output_type": "display_data"
    },
    {
     "name": "stdout",
     "output_type": "stream",
     "text": [
      "-> StyleGAN2_Genre_Clustering/clusters/1/3 Saved in 0:23:18.358729\n",
      "---\n",
      "> Cluster 2: 4 imgs (saving 4, trunc_psi:1, noise_mode:const)\n"
     ]
    },
    {
     "data": {
      "application/vnd.jupyter.widget-view+json": {
       "model_id": "875e80c950864281ad13a86a547a8dcc",
       "version_major": 2,
       "version_minor": 0
      },
      "text/plain": [
       "  0%|          | 0/1 [00:00<?, ?it/s]"
      ]
     },
     "metadata": {},
     "output_type": "display_data"
    },
    {
     "name": "stdout",
     "output_type": "stream",
     "text": [
      "-> StyleGAN2_Genre_Clustering/clusters/2/0 Saving\n",
      "--> Circular interpolation start:0.5 radius:80 random-seeds:[714 672]\n"
     ]
    },
    {
     "data": {
      "application/vnd.jupyter.widget-view+json": {
       "model_id": "c5330e03380a473abc4ed50ef048789d",
       "version_major": 2,
       "version_minor": 0
      },
      "text/plain": [
       "  0%|          | 0/30 [00:00<?, ?it/s]"
      ]
     },
     "metadata": {},
     "output_type": "display_data"
    },
    {
     "name": "stdout",
     "output_type": "stream",
     "text": [
      "600 600\n",
      "--> Lisajou interpolation start:0.5 radius:80 random-seeds:[714 672 249] abc:(1, 2, 2)\n"
     ]
    },
    {
     "data": {
      "application/vnd.jupyter.widget-view+json": {
       "model_id": "dbb2b3b540a047dd9cae87f9ca358024",
       "version_major": 2,
       "version_minor": 0
      },
      "text/plain": [
       "  0%|          | 0/30 [00:00<?, ?it/s]"
      ]
     },
     "metadata": {},
     "output_type": "display_data"
    },
    {
     "name": "stdout",
     "output_type": "stream",
     "text": [
      "--> Slerp interpolation start:0 random-seed:714\n"
     ]
    },
    {
     "data": {
      "application/vnd.jupyter.widget-view+json": {
       "model_id": "04b22515781342349300a28984e33398",
       "version_major": 2,
       "version_minor": 0
      },
      "text/plain": [
       "  0%|          | 0/30 [00:00<?, ?it/s]"
      ]
     },
     "metadata": {},
     "output_type": "display_data"
    },
    {
     "name": "stdout",
     "output_type": "stream",
     "text": [
      "--> Truncation interpolation positive:+4 negative:-12\n"
     ]
    },
    {
     "data": {
      "application/vnd.jupyter.widget-view+json": {
       "model_id": "176d313ac7d144b894ba6ea49d200c3e",
       "version_major": 2,
       "version_minor": 0
      },
      "text/plain": [
       "  0%|          | 0/30 [00:00<?, ?it/s]"
      ]
     },
     "metadata": {},
     "output_type": "display_data"
    },
    {
     "data": {
      "application/vnd.jupyter.widget-view+json": {
       "model_id": "bb54c4ed32234611ac0f0a90af17c46b",
       "version_major": 2,
       "version_minor": 0
      },
      "text/plain": [
       "  0%|          | 0/30 [00:00<?, ?it/s]"
      ]
     },
     "metadata": {},
     "output_type": "display_data"
    },
    {
     "name": "stdout",
     "output_type": "stream",
     "text": [
      "--> Style Mixing seed0297\n",
      "---> Circular interpolation\n"
     ]
    },
    {
     "data": {
      "application/vnd.jupyter.widget-view+json": {
       "model_id": "a964050900ba44eda7e6a9b806f7042a",
       "version_major": 2,
       "version_minor": 0
      },
      "text/plain": [
       "  0%|          | 0/30 [00:00<?, ?it/s]"
      ]
     },
     "metadata": {},
     "output_type": "display_data"
    },
    {
     "name": "stdout",
     "output_type": "stream",
     "text": [
      "---> Lisajou interpolation\n"
     ]
    },
    {
     "data": {
      "application/vnd.jupyter.widget-view+json": {
       "model_id": "443b802b9b174c01973731584bdc871a",
       "version_major": 2,
       "version_minor": 0
      },
      "text/plain": [
       "  0%|          | 0/30 [00:00<?, ?it/s]"
      ]
     },
     "metadata": {},
     "output_type": "display_data"
    },
    {
     "name": "stdout",
     "output_type": "stream",
     "text": [
      "---> Lerp interpolation\n"
     ]
    },
    {
     "data": {
      "application/vnd.jupyter.widget-view+json": {
       "model_id": "91c0130ac2254a1aa8d384838a3cb7c1",
       "version_major": 2,
       "version_minor": 0
      },
      "text/plain": [
       "  0%|          | 0/30 [00:00<?, ?it/s]"
      ]
     },
     "metadata": {},
     "output_type": "display_data"
    },
    {
     "name": "stdout",
     "output_type": "stream",
     "text": [
      "---> Trunc positive\n"
     ]
    },
    {
     "data": {
      "application/vnd.jupyter.widget-view+json": {
       "model_id": "856af6263c1c4c389174f8839729782b",
       "version_major": 2,
       "version_minor": 0
      },
      "text/plain": [
       "  0%|          | 0/30 [00:00<?, ?it/s]"
      ]
     },
     "metadata": {},
     "output_type": "display_data"
    },
    {
     "name": "stdout",
     "output_type": "stream",
     "text": [
      "---> Trunc negative\n"
     ]
    },
    {
     "data": {
      "application/vnd.jupyter.widget-view+json": {
       "model_id": "4db6f6064e5f4e76b837d4354e496c5c",
       "version_major": 2,
       "version_minor": 0
      },
      "text/plain": [
       "  0%|          | 0/30 [00:00<?, ?it/s]"
      ]
     },
     "metadata": {},
     "output_type": "display_data"
    },
    {
     "name": "stdout",
     "output_type": "stream",
     "text": [
      "--> Style Mixing seed0563\n",
      "---> Circular interpolation\n"
     ]
    },
    {
     "data": {
      "application/vnd.jupyter.widget-view+json": {
       "model_id": "b57a8bfc6a5046d185bba79c8effef21",
       "version_major": 2,
       "version_minor": 0
      },
      "text/plain": [
       "  0%|          | 0/30 [00:00<?, ?it/s]"
      ]
     },
     "metadata": {},
     "output_type": "display_data"
    },
    {
     "name": "stdout",
     "output_type": "stream",
     "text": [
      "---> Lisajou interpolation\n"
     ]
    },
    {
     "data": {
      "application/vnd.jupyter.widget-view+json": {
       "model_id": "cb0caf420b07422ab681f5cbdfe732c9",
       "version_major": 2,
       "version_minor": 0
      },
      "text/plain": [
       "  0%|          | 0/30 [00:00<?, ?it/s]"
      ]
     },
     "metadata": {},
     "output_type": "display_data"
    },
    {
     "name": "stdout",
     "output_type": "stream",
     "text": [
      "---> Lerp interpolation\n"
     ]
    },
    {
     "data": {
      "application/vnd.jupyter.widget-view+json": {
       "model_id": "63d018a37b0749dcb6a2d10884cacecc",
       "version_major": 2,
       "version_minor": 0
      },
      "text/plain": [
       "  0%|          | 0/30 [00:00<?, ?it/s]"
      ]
     },
     "metadata": {},
     "output_type": "display_data"
    },
    {
     "name": "stdout",
     "output_type": "stream",
     "text": [
      "---> Trunc positive\n"
     ]
    },
    {
     "data": {
      "application/vnd.jupyter.widget-view+json": {
       "model_id": "6d2b75a45da94ce2b80e7800ea03bbfd",
       "version_major": 2,
       "version_minor": 0
      },
      "text/plain": [
       "  0%|          | 0/30 [00:00<?, ?it/s]"
      ]
     },
     "metadata": {},
     "output_type": "display_data"
    },
    {
     "name": "stdout",
     "output_type": "stream",
     "text": [
      "---> Trunc negative\n"
     ]
    },
    {
     "data": {
      "application/vnd.jupyter.widget-view+json": {
       "model_id": "0ded500db1084992881037465655681d",
       "version_major": 2,
       "version_minor": 0
      },
      "text/plain": [
       "  0%|          | 0/30 [00:00<?, ?it/s]"
      ]
     },
     "metadata": {},
     "output_type": "display_data"
    },
    {
     "name": "stdout",
     "output_type": "stream",
     "text": [
      "-> StyleGAN2_Genre_Clustering/clusters/2/0 Saved in 0:23:18.810745\n",
      "---\n",
      "-> StyleGAN2_Genre_Clustering/clusters/2/1 Saving\n",
      "--> Circular interpolation start:0.5 radius:80 random-seeds:[397 916]\n"
     ]
    },
    {
     "data": {
      "application/vnd.jupyter.widget-view+json": {
       "model_id": "3d2596e6bd9b44a1899d57b35f5ac0ee",
       "version_major": 2,
       "version_minor": 0
      },
      "text/plain": [
       "  0%|          | 0/30 [00:00<?, ?it/s]"
      ]
     },
     "metadata": {},
     "output_type": "display_data"
    },
    {
     "name": "stdout",
     "output_type": "stream",
     "text": [
      "600 600\n",
      "--> Lisajou interpolation start:0.5 radius:80 random-seeds:[397 916 683] abc:(1, 2, 2)\n"
     ]
    },
    {
     "data": {
      "application/vnd.jupyter.widget-view+json": {
       "model_id": "8cbf615336b84f07a67ada680a7eec09",
       "version_major": 2,
       "version_minor": 0
      },
      "text/plain": [
       "  0%|          | 0/30 [00:00<?, ?it/s]"
      ]
     },
     "metadata": {},
     "output_type": "display_data"
    },
    {
     "name": "stdout",
     "output_type": "stream",
     "text": [
      "--> Slerp interpolation start:0 random-seed:397\n"
     ]
    },
    {
     "data": {
      "application/vnd.jupyter.widget-view+json": {
       "model_id": "c6f9c702483c43649a8fbd03d6c10c4e",
       "version_major": 2,
       "version_minor": 0
      },
      "text/plain": [
       "  0%|          | 0/30 [00:00<?, ?it/s]"
      ]
     },
     "metadata": {},
     "output_type": "display_data"
    },
    {
     "name": "stdout",
     "output_type": "stream",
     "text": [
      "--> Truncation interpolation positive:+4 negative:-12\n"
     ]
    },
    {
     "data": {
      "application/vnd.jupyter.widget-view+json": {
       "model_id": "67c8b305d99b4378bfab9c33b9059be1",
       "version_major": 2,
       "version_minor": 0
      },
      "text/plain": [
       "  0%|          | 0/30 [00:00<?, ?it/s]"
      ]
     },
     "metadata": {},
     "output_type": "display_data"
    },
    {
     "data": {
      "application/vnd.jupyter.widget-view+json": {
       "model_id": "3563cd0cb0504a7dbb97d8d1ccc0209e",
       "version_major": 2,
       "version_minor": 0
      },
      "text/plain": [
       "  0%|          | 0/30 [00:00<?, ?it/s]"
      ]
     },
     "metadata": {},
     "output_type": "display_data"
    },
    {
     "name": "stdout",
     "output_type": "stream",
     "text": [
      "--> Style Mixing seed0297\n",
      "---> Circular interpolation\n"
     ]
    },
    {
     "data": {
      "application/vnd.jupyter.widget-view+json": {
       "model_id": "b7b7361c902249379927724d594e113f",
       "version_major": 2,
       "version_minor": 0
      },
      "text/plain": [
       "  0%|          | 0/30 [00:00<?, ?it/s]"
      ]
     },
     "metadata": {},
     "output_type": "display_data"
    },
    {
     "name": "stdout",
     "output_type": "stream",
     "text": [
      "---> Lisajou interpolation\n"
     ]
    },
    {
     "data": {
      "application/vnd.jupyter.widget-view+json": {
       "model_id": "ca3f9a180da7465690645dce2687e605",
       "version_major": 2,
       "version_minor": 0
      },
      "text/plain": [
       "  0%|          | 0/30 [00:00<?, ?it/s]"
      ]
     },
     "metadata": {},
     "output_type": "display_data"
    },
    {
     "name": "stdout",
     "output_type": "stream",
     "text": [
      "---> Lerp interpolation\n"
     ]
    },
    {
     "data": {
      "application/vnd.jupyter.widget-view+json": {
       "model_id": "d94cd591509e4388841aa482ceefed28",
       "version_major": 2,
       "version_minor": 0
      },
      "text/plain": [
       "  0%|          | 0/30 [00:00<?, ?it/s]"
      ]
     },
     "metadata": {},
     "output_type": "display_data"
    },
    {
     "name": "stdout",
     "output_type": "stream",
     "text": [
      "---> Trunc positive\n"
     ]
    },
    {
     "data": {
      "application/vnd.jupyter.widget-view+json": {
       "model_id": "f3059d72457f4d1187688aeea4c48503",
       "version_major": 2,
       "version_minor": 0
      },
      "text/plain": [
       "  0%|          | 0/30 [00:00<?, ?it/s]"
      ]
     },
     "metadata": {},
     "output_type": "display_data"
    },
    {
     "name": "stdout",
     "output_type": "stream",
     "text": [
      "---> Trunc negative\n"
     ]
    },
    {
     "data": {
      "application/vnd.jupyter.widget-view+json": {
       "model_id": "79459ab5279a4b85af188f3b418266b6",
       "version_major": 2,
       "version_minor": 0
      },
      "text/plain": [
       "  0%|          | 0/30 [00:00<?, ?it/s]"
      ]
     },
     "metadata": {},
     "output_type": "display_data"
    },
    {
     "name": "stdout",
     "output_type": "stream",
     "text": [
      "--> Style Mixing seed0563\n",
      "---> Circular interpolation\n"
     ]
    },
    {
     "data": {
      "application/vnd.jupyter.widget-view+json": {
       "model_id": "81987de0e8d147ed84d842b286c6e530",
       "version_major": 2,
       "version_minor": 0
      },
      "text/plain": [
       "  0%|          | 0/30 [00:00<?, ?it/s]"
      ]
     },
     "metadata": {},
     "output_type": "display_data"
    },
    {
     "name": "stdout",
     "output_type": "stream",
     "text": [
      "---> Lisajou interpolation\n"
     ]
    },
    {
     "data": {
      "application/vnd.jupyter.widget-view+json": {
       "model_id": "6a4cfb729d674b67b7282c7e70fa3a10",
       "version_major": 2,
       "version_minor": 0
      },
      "text/plain": [
       "  0%|          | 0/30 [00:00<?, ?it/s]"
      ]
     },
     "metadata": {},
     "output_type": "display_data"
    },
    {
     "name": "stdout",
     "output_type": "stream",
     "text": [
      "---> Lerp interpolation\n"
     ]
    },
    {
     "data": {
      "application/vnd.jupyter.widget-view+json": {
       "model_id": "0df5df0e428b4ffa99b1df065f8682b9",
       "version_major": 2,
       "version_minor": 0
      },
      "text/plain": [
       "  0%|          | 0/30 [00:00<?, ?it/s]"
      ]
     },
     "metadata": {},
     "output_type": "display_data"
    }
   ],
   "source": [
    "# Generate\n",
    "# all_imgs = []\n",
    "\n",
    "# Main dir\n",
    "shutil.rmtree(f'{outdir}/{prefix}_{suffix}')\n",
    "os.makedirs(f'{outdir}/{prefix}_{suffix}', exist_ok=True)\n",
    "\n",
    "for i in range(clusters_count):\n",
    "\n",
    "    # Mask latents array using cluster_labels\n",
    "    ws_cluster = ws[cluster_labels==i][:img_count].to(device_01)\n",
    "    zs_cluster = zs[cluster_labels==i][:img_count].to(device_01)\n",
    "    \n",
    "    print(f'> Cluster {i}: {ws_cluster.shape[0]} imgs (saving {img_count}, trunc_psi:{truncation_psi}, noise_mode:{noise_mode})')\n",
    "    \n",
    "    imgs = generate_images_from_ws(G, ws_cluster, 4, truncation_psi, noise_mode)\n",
    "    # all_imgs.append(imgs)\n",
    "\n",
    "    # Save imgs + npz + vids\n",
    "    os.makedirs(f'{outdir}/{prefix}_{suffix}/{i}', exist_ok=True)\n",
    "    \n",
    "    for j, (img, w, z) in enumerate(zip(imgs, ws_cluster, zs_cluster)):\n",
    "        \n",
    "        os.makedirs(f'{outdir}/{prefix}_{suffix}/{i}/{j}', exist_ok=True)\n",
    "        \n",
    "        print(f'-> {outdir}/{i}/{j} Saving')\n",
    "        t1 = time.time()\n",
    "        \n",
    "        img.save(f\"{outdir}/{prefix}_{suffix}/{i}/{j}/img.jpg\")\n",
    "        np.savez(f'{outdir}/{prefix}_{suffix}/{i}/{j}/w.npz', w=w.unsqueeze(0).cpu().numpy())\n",
    "        np.savez(f'{outdir}/{prefix}_{suffix}/{i}/{j}/z.npz', z=z.unsqueeze(0).cpu().numpy())\n",
    "        \n",
    "        random_seeds = np.random.randint(0, 1000, 3)\n",
    "                \n",
    "        z = z.unsqueeze(0).cpu().numpy()\n",
    "        z1 = z + (np.random.RandomState(random_seeds[0]).randn(1, 512)-.5)\n",
    "        z2 = z + (np.random.RandomState(random_seeds[1]).randn(1, 512)-.5)\n",
    "        z3 = z + (np.random.RandomState(random_seeds[2]).randn(1, 512)-.5)\n",
    "        \n",
    "        labels = torch.zeros([z.shape[0], G.c_dim], device=device_01)\n",
    "\n",
    "        # Circular interpolation\n",
    "        start, radius = circ_settings.values()\n",
    "        print(f\"--> Circular interpolation start:{start} radius:{radius} random-seeds:{random_seeds[:2]}\")\n",
    "        circ_zs = [circ_interpolation(radius, (z, z1, z2), start+(i/frame_count)*(1-start)) for i in range(1, frame_count+1)]\n",
    "        circ_zs = torch.from_numpy(np.array(circ_zs)[:,0,:]).to(device_01)\n",
    "        circ_imgs = generate_images_from_zs(G, circ_zs, labels, batch_size, truncation_psi)\n",
    "        circ_fn = f\"circ_start_{str(start).replace('.', ',')}_radius_{radius}_random-seeds{random_seeds[:2].tolist()}\"\n",
    "        make_movie(f\"{outdir}/{prefix}_{suffix}/{i}/{j}/{circ_fn}.mp4\", circ_imgs, fps)\n",
    "        circ_ws_clone = G.mapping(circ_zs, None).detach().clone()\n",
    "        del circ_zs , circ_imgs\n",
    "        \n",
    "        # Lisajou interpolation\n",
    "        start, radius, (a, b, c) = lsj_settings.values()\n",
    "        print(f\"--> Lisajou interpolation start:{start} radius:{radius} random-seeds:{random_seeds} abc:{(a,b,c)}\")\n",
    "        lsj_zs = [lsj_interpolation(radius, (z, z1, z2, z3), a, b, c, start+(i/frame_count)*(1-start)) for i in range(1, frame_count+1)]\n",
    "        lsj_zs = np.array(lsj_zs)[:,0,:]\n",
    "        lsj_zs = lsj_zs[::-1].copy()\n",
    "        lsj_zs = torch.from_numpy(lsj_zs).to(device_01)\n",
    "        lsj_imgs = generate_images_from_zs(G, lsj_zs, labels, batch_size, truncation_psi)\n",
    "        lsj_fn = f\"lsj_start_{str(start).replace('.', ',')}_radius_{radius}_random-seeds{random_seeds.tolist()}_a_{a}_b_{b}_c_{c}\"\n",
    "        make_movie(f\"{outdir}/{prefix}_{suffix}/{i}/{j}/{lsj_fn}.mp4\", lsj_imgs, fps)\n",
    "        lsj_ws_clone = G.mapping(lsj_zs, None).detach().clone()\n",
    "        del lsj_zs, lsj_imgs\n",
    "        \n",
    "        # Slerp\n",
    "        start = slerp_settings['start']\n",
    "        print(f\"--> Slerp interpolation start:{start} random-seed:{random_seeds[0]}\")\n",
    "        slerp_zs = [slerp(start+(i/frame_count)*(1-start), z1, z) for i in range(1, frame_count+1)]\n",
    "        slerp_zs = torch.from_numpy(np.array(slerp_zs)[:,0,:]).to(device_01)\n",
    "        slerp_imgs = generate_images_from_zs(G, slerp_zs, labels, batch_size, truncation_psi)\n",
    "        slerp_fn = f\"slerp_start_{str(start).replace('.', ',')}_random-seeds[{random_seeds[0]}]\"\n",
    "        make_movie(f\"{outdir}/{prefix}_{suffix}/{i}/{j}/{slerp_fn}.mp4\", slerp_imgs, fps)\n",
    "        slerp_ws_clone = G.mapping(slerp_zs, None).detach().clone()\n",
    "        del slerp_zs, slerp_imgs\n",
    "        \n",
    "        # Truncation\n",
    "        pos, neg = trunc_settings.values()\n",
    "        z = torch.from_numpy(z).to(device_01)\n",
    "        print(f\"--> Truncation interpolation positive:+{pos} negative:-{neg}\")\n",
    "        \n",
    "        # Positive\n",
    "        trunc_pos_ws = [G.mapping(z, None, truncation_psi=truncation_psi+(i/frame_count)*pos).cpu().numpy() for i in range(1, frame_count+1)]\n",
    "        trunc_pos_ws = torch.from_numpy(np.array(trunc_pos_ws)[:,0,:]).to(device_01)\n",
    "        trunc_pos_imgs = generate_images_from_ws(G, trunc_pos_ws, batch_size)\n",
    "        trunc_pos_fn = f\"trunc_pos_{pos}\"\n",
    "        make_movie(f\"{outdir}/{prefix}_{suffix}/{i}/{j}/{trunc_pos_fn}.mp4\", trunc_pos_imgs, fps)\n",
    "        trunc_pos_ws_clone = trunc_pos_ws.detach().clone()\n",
    "        del trunc_pos_ws, trunc_pos_imgs\n",
    "        \n",
    "        # Negative\n",
    "        trunc_neg_ws = [G.mapping(z, None, truncation_psi=truncation_psi-(i/frame_count)*neg).cpu().numpy() for i in range(1, frame_count+1)]\n",
    "        trunc_neg_ws = torch.from_numpy(np.array(trunc_neg_ws)[:,0,:]).to(device_01)\n",
    "        trunc_neg_imgs = generate_images_from_ws(G, trunc_neg_ws, batch_size)\n",
    "        trunc_neg_fn = f\"trunc_neg_{neg}\"\n",
    "        make_movie(f\"{outdir}/{prefix}_{suffix}/{i}/{j}/{trunc_neg_fn}.mp4\", trunc_neg_imgs, fps)\n",
    "        trunc_neg_ws_clone = trunc_neg_ws.detach().clone()\n",
    "        del trunc_neg_ws, trunc_neg_imgs\n",
    "        \n",
    "        # Style mixing (sm)\n",
    "        for file in glob.iglob(f'{outdir}/style_transfer_seeds/*.npy'):\n",
    "            \n",
    "            npy_fn = file.split('/')[-1].split('.')[0]\n",
    "            print(f'--> Style Mixing {npy_fn}')\n",
    "            \n",
    "            style_z = torch.from_numpy(np.load(file)).to(device_01)\n",
    "            style_w = G.mapping(style_z, None)\n",
    "\n",
    "            print(f'---> Circular interpolation')\n",
    "            circ_ws_clone[:,style_layer_range,:] = style_w[0][style_layer_range]\n",
    "            circ_imgs_sm = generate_images_from_ws(G, circ_ws_clone, batch_size, truncation_psi)\n",
    "            make_movie(f\"{outdir}/{prefix}_{suffix}/{i}/{j}/{circ_fn}_sm_{npy_fn}.mp4\", circ_imgs_sm, fps)\n",
    "            del circ_imgs_sm\n",
    "\n",
    "            print(f'---> Lisajou interpolation')\n",
    "            lsj_ws_clone[:,style_layer_range,:] = style_w[0][style_layer_range]\n",
    "            lsj_imgs_sm = generate_images_from_ws(G, lsj_ws_clone, batch_size, truncation_psi)\n",
    "            make_movie(f\"{outdir}/{prefix}_{suffix}/{i}/{j}/{lsj_fn}_sm_{npy_fn}.mp4\", lsj_imgs_sm, fps)\n",
    "            del lsj_imgs_sm\n",
    "\n",
    "            print(f'---> Lerp interpolation')\n",
    "            slerp_ws_clone[:,style_layer_range,:] = style_w[0][style_layer_range]\n",
    "            slerp_imgs_sm = generate_images_from_ws(G, slerp_ws_clone, batch_size, truncation_psi)\n",
    "            make_movie(f\"{outdir}/{prefix}_{suffix}/{i}/{j}/{slerp_fn}_sm_{npy_fn}.mp4\", slerp_imgs_sm, fps)\n",
    "            del slerp_imgs_sm\n",
    "\n",
    "            print(f'---> Trunc positive')\n",
    "            trunc_pos_ws_clone[:,style_layer_range,:] = style_w[0][style_layer_range]\n",
    "            trunc_pos_imgs_sm = generate_images_from_ws(G, trunc_pos_ws_clone, batch_size, truncation_psi)\n",
    "            make_movie(f\"{outdir}/{prefix}_{suffix}/{i}/{j}/{trunc_pos_fn}_sm_{npy_fn}.mp4\", trunc_pos_imgs_sm, fps)\n",
    "            del trunc_pos_imgs_sm\n",
    "\n",
    "            print(f'---> Trunc negative')\n",
    "            trunc_neg_ws_clone[:,style_layer_range,:] = style_w[0][style_layer_range]\n",
    "            trunc_neg_imgs_sm = generate_images_from_ws(G, trunc_neg_ws_clone, batch_size, truncation_psi)\n",
    "            make_movie(f\"{outdir}/{prefix}_{suffix}/{i}/{j}/{trunc_neg_fn}_sm_{npy_fn}.mp4\", trunc_neg_imgs_sm, fps)\n",
    "            del trunc_neg_imgs_sm\n",
    "        \n",
    "        # Clean some shit\n",
    "        del circ_ws_clone, lsj_ws_clone, slerp_ws_clone, trunc_pos_ws_clone, trunc_neg_ws_clone\n",
    "\n",
    "        print(f'-> {outdir}/{i}/{j} Saved in {timedelta(seconds=time.time()-t1)}\\n---')\n",
    "        \n"
   ]
  },
  {
   "cell_type": "code",
   "execution_count": null,
   "id": "419020ce",
   "metadata": {},
   "outputs": [],
   "source": [
    "# circular_ws_clone[:,style_layer_range,:] = style_w[0][style_layer_range]\n",
    "# circular_imgs_sm = generate_images_from_ws(G, circular_ws_clone, batch_size, truncation_psi)\n",
    "display(image_grid(circular_imgs_sm[16:32], 4, 4))"
   ]
  },
  {
   "cell_type": "markdown",
   "id": "e326d8d3",
   "metadata": {},
   "source": [
    "---\n",
    "### Tests"
   ]
  },
  {
   "cell_type": "code",
   "execution_count": null,
   "id": "469926ec",
   "metadata": {},
   "outputs": [],
   "source": [
    "a_z = np.load(f'{outdir}/{prefix}_{suffix}/0/0_z.npz')['z']\n",
    "b_z = a_z + (np.random.RandomState(442).randn(1, 512)-.5)\n",
    "c_z = a_z + (np.random.RandomState(353).randn(1, 512)-.5)\n",
    "d_z = a_z + (np.random.RandomState(random_seeds[2]).randn(1, 512)-.5)"
   ]
  },
  {
   "cell_type": "code",
   "execution_count": null,
   "id": "aaec1088",
   "metadata": {
    "scrolled": false
   },
   "outputs": [],
   "source": [
    "start, radius = circ_settings.values()\n",
    "frame_count = 576\n",
    "zs = [circ_interpolation(radius, (a_z, b_z, c_z), start+(i/frame_count)*(1-start)) for i in range(1, frame_count+1)]\n",
    "print(len(zs))\n",
    "zs = np.array(zs)[:,0,:]\n",
    "zs = torch.from_numpy(zs).to(device_01)\n",
    "labels = torch.zeros([zs.shape[0], G.c_dim], device=device_01)\n",
    "\n",
    "imgs = generate_images_from_zs(G, zs, labels, batch_size, truncation_psi)\n",
    "\n",
    "fn = 'test.mp4'\n",
    "make_movie(fn, imgs, fps)\n",
    "Video(fn, embed=True, width=800, height=800)"
   ]
  },
  {
   "cell_type": "code",
   "execution_count": null,
   "id": "08e49fcd",
   "metadata": {},
   "outputs": [],
   "source": [
    "zs = [lisajou_interpolation(radius, (a_z, b_z, c_z, d_z), 1, 2, 2, start+(i/frame_count)*(1-start)) for i in range(frame_count)]\n",
    "\n",
    "zs = np.array(zs)[:,0,:]\n",
    "zs = torch.from_numpy(zs).to(device_01)\n",
    "labels = torch.zeros([zs.shape[0], G.c_dim], device=device_01)\n",
    "\n",
    "imgs = generate_images_from_zs(G, zs, labels, batch_size, truncation_psi)\n",
    "\n",
    "fn = f\"lisajou_start_{str(start).replace('.', ',')}_radius_{radius}_random-seeds{random_seeds.tolist()}.mp4\"\n",
    "make_movie(fn, imgs, fps)"
   ]
  },
  {
   "cell_type": "code",
   "execution_count": null,
   "id": "941917aa",
   "metadata": {},
   "outputs": [],
   "source": [
    "Video(fn, embed=True, width=800, height=800)"
   ]
  },
  {
   "cell_type": "code",
   "execution_count": null,
   "id": "718f36fb",
   "metadata": {},
   "outputs": [],
   "source": [
    "# Truncation\n",
    "# a_z = torch.from_numpy(a_z).to(device_01)\n",
    "# a_w = G.mapping(a_z, None, truncation_psi=truncation_psi+(i/frame_count)*pos)\n",
    "pos, neg = trunc_settings.values()\n",
    "\n",
    "# positive\n",
    "# trunc_pos_ws = [G.mapping(a_z, None, truncation_psi=truncation_psi+(i/frame_count)*pos).cpu().numpy() for i in range(1, frame_count+1)]\n",
    "# trunc_pos_ws = torch.from_numpy(np.array(trunc_pos_ws)[:,0,:]).to(device_01)\n",
    "\n",
    "trunc_neg_ws = [G.mapping(a_z, None, truncation_psi=truncation_psi-(i/frame_count)*neg).cpu().numpy() for i in range(1, frame_count+1)]\n",
    "trunc_neg_ws = torch.from_numpy(np.array(trunc_neg_ws)[:,0,:]).to(device_01)\n",
    "\n",
    "imgs = generate_images_from_ws(G, trunc_neg_ws, batch_size)\n",
    "fn = 'test.mp4'\n",
    "make_movie(fn, imgs, fps)\n",
    "Video(fn, embed=True, width=800, height=800)"
   ]
  },
  {
   "cell_type": "code",
   "execution_count": null,
   "id": "d2df5d7c",
   "metadata": {},
   "outputs": [],
   "source": [
    "# TESTS\n",
    "# l = np.load(f'{outdir}/0/1_z.npz')['z']\n",
    "# l = np.array([[1,2,3,4], [2,3,4,6]])\n",
    "# a = np.random.randint(5, size=(4,512))\n",
    "a = np.ones((4,512))\n",
    "l = np.zeros((4,512))\n",
    "# print(l[:, ::2].shape)\n",
    "# l[:, ::2] = 10\n",
    "# l[:, 1::2] = 100\n",
    "# l[:, 2::3] = 1000\n",
    "\n",
    "# x = np.array([1,2,3])\n",
    "# x = np.tile(x, 512//x.shape[0]+1)\n",
    "# x = np.delete(x, 512-x.shape[0])\n",
    "# l[:,0::3] -= x[0::3]\n",
    "# l[:,1::3] += x[1::3]\n",
    "# l[:,2::3] -= x[2::3]\n",
    "# print(l.shape, l[:,:10])\n",
    "a[[1,2,3]].shape"
   ]
  },
  {
   "cell_type": "code",
   "execution_count": null,
   "id": "672d8864",
   "metadata": {
    "scrolled": true
   },
   "outputs": [],
   "source": [
    "!python combine_npz.py --outdir={outdir}/npz --npzs='{outdir}/0/0_w.npz,{outdir}/0/1_w.npz,{outdir}/0/2_w.npz'"
   ]
  },
  {
   "cell_type": "code",
   "execution_count": null,
   "id": "1301c679",
   "metadata": {},
   "outputs": [],
   "source": [
    "!python generate.py \\\n",
    "    --process=interpolation \\\n",
    "    --interpolation=linear \\\n",
    "    --easing=easeInOutQuad \\\n",
    "    --space=w \\\n",
    "    --network={network_pkl} \\\n",
    "    --outdir={outdir}/combined-proj/ \\\n",
    "    --projected-w={outdir}/npz/combined.npz \\\n",
    "    --frames=120"
   ]
  },
  {
   "cell_type": "code",
   "execution_count": null,
   "id": "d4904ff2",
   "metadata": {},
   "outputs": [],
   "source": [
    "!python generate.py \\\n",
    "    --outdir={outdir}/video-circularloop/ \\\n",
    "    --trunc=1 \\\n",
    "    --process=\"interpolation\" \\\n",
    "    --interpolation=\"circularloop\" \\\n",
    "    --diameter=800.00 \\\n",
    "    --frames=720 \\\n",
    "    --random_seed=90 --network=/content/stylegan2-ada-pytorch/pretrained/wikiart.pkl"
   ]
  },
  {
   "cell_type": "code",
   "execution_count": null,
   "id": "6315c613",
   "metadata": {},
   "outputs": [],
   "source": [
    "# Generate from Zs\n",
    "# Convert back from np to Torch\n",
    "if isinstance(zs, np.ndarray):\n",
    "    zs = torch.tensor(zs, dtype=torch.float32, device=device)\n",
    "labels = torch.zeros([zs.shape[0], G.c_dim], device=device)\n",
    "all_imgs_from_zs = []\n",
    "for i in range(2):\n",
    "    # Mask latents array using cluster_labels\n",
    "    zs_cluster = zs[cluster_labels==i]\n",
    "    print(zs_cluster.shape)\n",
    "    print(f'Cluster {i}: {zs_cluster.shape[0]} imgs (saving {img_count}, trunc_psi:{truncation_psi}, noise_mode:{noise_mode})')\n",
    "    # Convert back from np to Torch\n",
    "    imgs = generate_images_from_zs(G, device, zs_cluster[:img_count], labels[:img_count], 16, truncation_psi, noise_mode)\n",
    "    all_imgs_from_zs.append(imgs)"
   ]
  },
  {
   "cell_type": "code",
   "execution_count": null,
   "id": "5b1ef378",
   "metadata": {},
   "outputs": [],
   "source": [
    "for imgs in all_imgs_from_zs:\n",
    "    display(image_grid(imgs, 4, 4))"
   ]
  },
  {
   "cell_type": "code",
   "execution_count": null,
   "id": "9c26cec2",
   "metadata": {},
   "outputs": [],
   "source": [
    "# Clear GPU mem\n",
    "with torch.no_grad():\n",
    "    torch.cuda.empty_cache()"
   ]
  }
 ],
 "metadata": {
  "kernelspec": {
   "display_name": "Python [conda env:sg2ada-pytorch]",
   "language": "python",
   "name": "conda-env-sg2ada-pytorch-py"
  },
  "language_info": {
   "codemirror_mode": {
    "name": "ipython",
    "version": 3
   },
   "file_extension": ".py",
   "mimetype": "text/x-python",
   "name": "python",
   "nbconvert_exporter": "python",
   "pygments_lexer": "ipython3",
   "version": "3.9.5"
  }
 },
 "nbformat": 4,
 "nbformat_minor": 5
}
