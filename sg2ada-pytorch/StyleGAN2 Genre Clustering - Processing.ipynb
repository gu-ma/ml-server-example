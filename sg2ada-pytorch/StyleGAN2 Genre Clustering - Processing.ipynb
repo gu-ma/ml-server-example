{
 "cells": [
  {
   "cell_type": "markdown",
   "id": "ea9685bf",
   "metadata": {},
   "source": [
    "# Downloads"
   ]
  },
  {
   "cell_type": "code",
   "execution_count": null,
   "id": "deb7ab1c",
   "metadata": {},
   "outputs": [],
   "source": [
    "!git clone https://github.com/dvschultz/stylegan2-ada-pytorch dvschultz-stylegan2-ada-pytorch"
   ]
  },
  {
   "cell_type": "code",
   "execution_count": null,
   "id": "cfbcb312",
   "metadata": {},
   "outputs": [],
   "source": [
    "%cd dvschultz-stylegan2-ada-pytorch/"
   ]
  },
  {
   "cell_type": "code",
   "execution_count": null,
   "id": "54f41180",
   "metadata": {},
   "outputs": [],
   "source": [
    "# Cluster files\n",
    "!gdown --id 17eGxxtT_DdKD4WotgJfXf8IGA9_cXAiH\n",
    "!unzip StyleGAN2_Genre_Clustering-20210719T132300Z-001.zip "
   ]
  },
  {
   "cell_type": "code",
   "execution_count": null,
   "id": "052aca06",
   "metadata": {},
   "outputs": [],
   "source": [
    "# Model\n",
    "!gdown --id 14896oHvNWYsxQvbrJiah8H9srown10wW\n",
    "!mv network-snapshot-000192.pkl stylegan2-ada-pytorch"
   ]
  },
  {
   "cell_type": "markdown",
   "id": "6bbf8f07",
   "metadata": {},
   "source": [
    "# 🏁 Start"
   ]
  },
  {
   "cell_type": "code",
   "execution_count": null,
   "id": "7d3dd69e",
   "metadata": {},
   "outputs": [],
   "source": [
    "!nvidia-smi -L"
   ]
  },
  {
   "cell_type": "code",
   "execution_count": null,
   "id": "c83c5111",
   "metadata": {
    "scrolled": true
   },
   "outputs": [],
   "source": [
    "!nvcc --version"
   ]
  },
  {
   "cell_type": "code",
   "execution_count": null,
   "id": "9e32073b",
   "metadata": {},
   "outputs": [],
   "source": [
    "%cd dvschultz-stylegan2-ada-pytorch/"
   ]
  },
  {
   "cell_type": "code",
   "execution_count": null,
   "id": "dfd0206b",
   "metadata": {},
   "outputs": [],
   "source": [
    "import os\n",
    "import glob\n",
    "import time\n",
    "import shutil\n",
    "from datetime import timedelta\n",
    "import numpy as np\n",
    "import torch\n",
    "import pickle\n",
    "import PIL.Image\n",
    "from tqdm.autonotebook import tqdm\n",
    "import torch.nn.functional as F\n",
    "import dnnlib\n",
    "import legacy\n",
    "import imageio\n",
    "from IPython.display import Video"
   ]
  },
  {
   "cell_type": "code",
   "execution_count": null,
   "id": "ef0d6173",
   "metadata": {},
   "outputs": [],
   "source": [
    "folder = 'StyleGAN2_Genre_Clustering'\n",
    "prefix = 'flowers_v3'\n",
    "suffix = '64cat_65536s_123seed_1psi_const'\n",
    "ws = np.load(f\"{folder}/{prefix}_latents_ws_{suffix}.npy\")\n",
    "zs = np.load(f\"{folder}/{prefix}_latents_zs_{suffix}.npy\")\n",
    "cluster_avg = np.load(f\"{folder}/{prefix}_cluster_avg_{suffix}.npy\")\n",
    "cluster_labels = np.load(f\"{folder}/{prefix}_cluster_labels_{suffix}.npy\")\n",
    "print(ws.shape, zs.shape, cluster_avg.shape, cluster_labels.shape)"
   ]
  },
  {
   "cell_type": "code",
   "execution_count": null,
   "id": "50e1e7d2",
   "metadata": {},
   "outputs": [],
   "source": [
    "outdir = f'{folder}/clusters'\n",
    "network_pkl = 'network-snapshot-000192.pkl'\n",
    "\n",
    "# Numbe of image to render per cluster\n",
    "img_count = 4\n",
    "clusters_count = cluster_labels.max()+1\n",
    "# Noise mode needs to be the same than the one used while creating the clusters\n",
    "truncation_psi = 1\n",
    "# 'const', 'random', 'none'\n",
    "noise_mode = 'const'\n",
    "# Video output number of frame\n",
    "fps = 25\n",
    "frame_count = fps * 24\n",
    "# Batch size for img generation (⚠️ MAKE SURE frame_count is a MULTIPLE of batch_size or there will be some frame missing ⚠️)\n",
    "batch_size = 40\n",
    "# For style mixing\n",
    "style_layer_range = [9, 10, 11, 12, 13, 14, 15, 16, 17]\n",
    "\n",
    "# Settings per animation's type \n",
    "circ_settings = {'start':0.5, 'radius':80}\n",
    "lsj_settings = {'start':0.5, 'radius':80, 'abc':(1, 2, 2)}\n",
    "slerp_settings = {'start':0}\n",
    "trunc_settings = {'positive':4, 'negative':12}\n",
    "\n",
    "device = torch.device(\"cuda\" if torch.cuda.is_available() else \"cpu\")\n",
    "\n",
    "image_mean = torch.tensor([0.48145466, 0.4578275, 0.40821073]).to(device)\n",
    "image_std = torch.tensor([0.26862954, 0.26130258, 0.27577711]).to(device)"
   ]
  },
  {
   "cell_type": "code",
   "execution_count": null,
   "id": "21133baf",
   "metadata": {},
   "outputs": [],
   "source": [
    "def make_movie(fn, imgs, fps):\n",
    "    with imageio.get_writer(fn, format='FFMPEG', codec='h264', fps=fps) as w:\n",
    "        for img in imgs:\n",
    "            w.append_data(np.array(img))\n",
    "\n",
    "\n",
    "# noise_mode = 'const', 'random', 'none'\n",
    "def generate_images_from_zs(G, latents, labels, batch_size, truncation_psi=1, noise_mode='const', truncation_cutoff=None):\n",
    "    all_imgs = []\n",
    "    for i in tqdm(range(latents.shape[0]//batch_size)):\n",
    "        zs = latents[i*batch_size:(i+1)*batch_size, :]        \n",
    "        imgs = G(zs, labels, truncation_psi=truncation_psi, truncation_cutoff=truncation_cutoff, noise_mode=noise_mode)\n",
    "        imgs = (imgs.permute(0, 2, 3, 1) * 127.5 + 128).clamp(0, 255).to(torch.uint8)\n",
    "        for j in range(imgs.shape[0]):\n",
    "            img = imgs[j].cpu().numpy()\n",
    "            all_imgs.append(PIL.Image.fromarray(img, 'RGB'))\n",
    "    return all_imgs\n",
    "\n",
    "\n",
    "# noise_mode = 'const', 'random', 'none'\n",
    "def generate_images_from_ws(G, latents, batch_size, truncation_psi=1, noise_mode='const'):\n",
    "    all_imgs = []\n",
    "    for i in tqdm(range(latents.shape[0]//batch_size)):\n",
    "        ws = latents[i*batch_size:(i+1)*batch_size, :]\n",
    "        w_avg = G.mapping.w_avg\n",
    "        ws = w_avg + (ws - w_avg) * truncation_psi\n",
    "        imgs = G.synthesis(ws, noise_mode=noise_mode)\n",
    "        imgs = (imgs.clamp(-1, 1).permute(0, 2, 3, 1).cpu().numpy() * 127.5 + 128).astype(np.uint8)\n",
    "        for j in range(imgs.shape[0]):\n",
    "            all_imgs.append(PIL.Image.fromarray(imgs[j]))\n",
    "    return all_imgs\n",
    "\n",
    "\n",
    "def image_grid(images, rows, cols):\n",
    "    assert len(images) == rows*cols\n",
    "    print(images[0])\n",
    "    w, h = images[0].size\n",
    "    grid = PIL.Image.new('RGB', size=(cols*w, rows*h))\n",
    "    grid_w, grid_h = grid.size\n",
    "    \n",
    "    for i, img in enumerate(images):\n",
    "        grid.paste(img, box=(i%cols*w, i//cols*h))\n",
    "    return grid\n",
    "\n",
    "\n",
    "# Circular\n",
    "def circ_interpolation(radius, lats_persistent, lats_interpolate):\n",
    "    lats_a, lats_b, lats_c = lats_persistent\n",
    "\n",
    "    lats_axis_x = (lats_a - lats_b).flatten() / np.linalg.norm(lats_a - lats_b)\n",
    "    lats_axis_y = (lats_a - lats_c).flatten() / np.linalg.norm(lats_a - lats_c)\n",
    "\n",
    "    lats_x = np.sin(np.pi * 2.0 * lats_interpolate) * radius\n",
    "    lats_y = np.cos(np.pi * 2.0 * lats_interpolate) * radius - radius\n",
    "    \n",
    "    latents = lats_a + lats_x * lats_axis_x + lats_y * lats_axis_y\n",
    "    return latents\n",
    "\n",
    "\n",
    "# Lisajou\n",
    "def lsj_interpolation(radius, lats_persistent, a, b, c, lats_interpolate):\n",
    "    lats_a, lats_b, lats_c, lats_d = lats_persistent\n",
    "\n",
    "    lats_axis_x = (lats_a - lats_b).flatten() / np.linalg.norm(lats_a - lats_b)\n",
    "    lats_axis_y = (lats_a - lats_c).flatten() / np.linalg.norm(lats_a - lats_c)\n",
    "    lats_axis_z = (lats_a - lats_d).flatten() / np.linalg.norm(lats_a - lats_d)\n",
    "\n",
    "    lats_x = np.sin(np.pi * 2.0 * lats_interpolate * a) * radius\n",
    "    lats_y = np.sin(np.pi * 2.0 * lats_interpolate * b) * radius\n",
    "    lats_z = np.sin(np.pi * 2.0 * lats_interpolate * c) * radius\n",
    "    \n",
    "    latents = np.copy(lats_a)\n",
    "    latents[0, 0::3] += lats_x * lats_axis_x[::3]\n",
    "    latents[0, 1::3] += lats_y * lats_axis_x[1::3]\n",
    "    latents[0, 2::3] += lats_z * lats_axis_z[2::3]\n",
    "    \n",
    "    return latents\n",
    "\n",
    "\n",
    "# slightly modified version of\n",
    "# https://github.com/PDillis/stylegan2-fun/blob/master/run_generator.py#L399\n",
    "def slerp(t, v0, v1, DOT_THRESHOLD=0.9995):\n",
    "    '''\n",
    "    Spherical linear interpolation\n",
    "    Args:\n",
    "        t (float/np.ndarray): Float value between 0.0 and 1.0\n",
    "        v0 (np.ndarray): Starting vector\n",
    "        v1 (np.ndarray): Final vector\n",
    "        DOT_THRESHOLD (float): Threshold for considering the two vectors as\n",
    "                               colineal. Not recommended to alter this.\n",
    "    Returns:\n",
    "        v2 (np.ndarray): Interpolation vector between v0 and v1\n",
    "    '''\n",
    "    # Copy the vectors to reuse them later\n",
    "    v0_copy = np.copy(v0)\n",
    "    v1_copy = np.copy(v1)\n",
    "    # Normalize the vectors to get the directions and angles\n",
    "    v0 = v0 / np.linalg.norm(v0)\n",
    "    v1 = v1 / np.linalg.norm(v1)\n",
    "    # Dot product with the normalized vectors (can't use np.dot in W)\n",
    "    dot = np.sum(v0 * v1)\n",
    "    # If absolute value of dot product is almost 1, vectors are ~colineal, so use lerp\n",
    "    if np.abs(dot) > DOT_THRESHOLD:\n",
    "        return lerp(t, v0_copy, v1_copy)\n",
    "    # Calculate initial angle between v0 and v1\n",
    "    theta_0 = np.arccos(dot)\n",
    "    sin_theta_0 = np.sin(theta_0)\n",
    "    # Angle at timestep t\n",
    "    theta_t = theta_0 * t\n",
    "    sin_theta_t = np.sin(theta_t)\n",
    "    # Finish the slerp algorithm\n",
    "    s0 = np.sin(theta_0 - theta_t) / sin_theta_0\n",
    "    s1 = sin_theta_t / sin_theta_0\n",
    "    v2 = s0 * v0_copy + s1 * v1_copy\n",
    "    return v2"
   ]
  },
  {
   "cell_type": "code",
   "execution_count": null,
   "id": "1e244397",
   "metadata": {},
   "outputs": [],
   "source": [
    "with dnnlib.util.open_url(network_pkl) as f:\n",
    "    G = legacy.load_network_pkl(f)['G_ema'].requires_grad_(False)\n",
    "    if torch.cuda.device_count() > 1:\n",
    "        G.synthesis = torch.nn.DataParallel(G.synthesis)\n",
    "    G = G.to(device)"
   ]
  },
  {
   "cell_type": "code",
   "execution_count": null,
   "id": "6ec12ef8",
   "metadata": {},
   "outputs": [],
   "source": [
    "# Convert ws and zs to tensors\n",
    "# if isinstance(ws, np.ndarray):\n",
    "#     ws = np.expand_dims(ws, axis=1)\n",
    "#     ws = np.tile(ws, [1, G.module.mapping.num_ws, 1])\n",
    "#     ws = torch.tensor(ws, dtype=torch.float32, device=device)\n",
    "# if isinstance(zs, np.ndarray):\n",
    "#     zs = torch.tensor(zs, dtype=torch.float32, device=device)"
   ]
  },
  {
   "cell_type": "code",
   "execution_count": null,
   "id": "4f97f418",
   "metadata": {},
   "outputs": [],
   "source": [
    "# Clear dir\n",
    "# shutil.rmtree(f'{outdir}/{prefix}_{suffix}')"
   ]
  },
  {
   "cell_type": "code",
   "execution_count": null,
   "id": "aca51798",
   "metadata": {
    "scrolled": true
   },
   "outputs": [],
   "source": [
    "# Generate\n",
    "# all_imgs = []\n",
    "\n",
    "# Main dir\n",
    "os.makedirs(f'{outdir}/{prefix}_{suffix}', exist_ok=True)\n",
    "\n",
    "for i in range(clusters_count):\n",
    "\n",
    "    # Mask latents array using cluster_labels\n",
    "    ws_cluster = ws[cluster_labels==i][:img_count]\n",
    "    zs_cluster = zs[cluster_labels==i][:img_count]\n",
    "    \n",
    "    # Convert to Tensors\n",
    "    if isinstance(ws_cluster, np.ndarray):\n",
    "        ws_cluster = np.expand_dims(ws_cluster, axis=1)\n",
    "        ws_cluster = np.tile(ws_cluster, [1, G.mapping.num_ws, 1])\n",
    "        ws_cluster = torch.tensor(ws_cluster, dtype=torch.float32, device=device)\n",
    "    if isinstance(zs_cluster, np.ndarray):\n",
    "        zs_cluster = torch.tensor(zs_cluster, dtype=torch.float32, device=device)\n",
    "\n",
    "    print(f'> Cluster {i}: {ws_cluster.shape[0]} imgs (saving {img_count}, trunc_psi:{truncation_psi}, noise_mode:{noise_mode})')\n",
    "    \n",
    "    imgs = generate_images_from_ws(G, ws_cluster, img_count, truncation_psi, noise_mode)\n",
    "    # all_imgs.append(imgs)\n",
    "\n",
    "    # Save imgs + npz + vids\n",
    "    os.makedirs(f'{outdir}/{prefix}_{suffix}/{i}', exist_ok=True)\n",
    "    \n",
    "    for j, (img, w, z) in enumerate(zip(imgs, ws_cluster, zs_cluster)):\n",
    "        \n",
    "        os.makedirs(f'{outdir}/{prefix}_{suffix}/{i}/{j}', exist_ok=True)\n",
    "        \n",
    "        print(f'-> {outdir}/{i}/{j} Saving')\n",
    "        t1 = time.time()\n",
    "        \n",
    "        img.save(f\"{outdir}/{prefix}_{suffix}/{i}/{j}/img.jpg\")\n",
    "        np.savez(f'{outdir}/{prefix}_{suffix}/{i}/{j}/w.npz', w=w.unsqueeze(0).cpu().numpy())\n",
    "        np.savez(f'{outdir}/{prefix}_{suffix}/{i}/{j}/z.npz', z=z.unsqueeze(0).cpu().numpy())\n",
    "        \n",
    "        random_seeds = np.random.randint(0, 1000, 3)\n",
    "                \n",
    "        z = z.unsqueeze(0).cpu().numpy()\n",
    "        z1 = z + (np.random.RandomState(random_seeds[0]).randn(1, 512)-.5)\n",
    "        z2 = z + (np.random.RandomState(random_seeds[1]).randn(1, 512)-.5)\n",
    "        z3 = z + (np.random.RandomState(random_seeds[2]).randn(1, 512)-.5)\n",
    "        \n",
    "        labels = torch.zeros([frame_count, G.c_dim], device=device)\n",
    "\n",
    "        # Circular interpolation\n",
    "        start, radius = circ_settings.values()\n",
    "        print(f\"--> Circular interpolation start:{start} radius:{radius} random-seeds:{random_seeds[:2]}\")\n",
    "        circ_zs = [circ_interpolation(radius, (z, z1, z2), start+(i/frame_count)*(1-start)) for i in range(1, frame_count+1)]\n",
    "        circ_zs = torch.from_numpy(np.array(circ_zs)[:,0,:]).to(device)\n",
    "        circ_imgs = generate_images_from_zs(G, circ_zs, labels, batch_size, truncation_psi)\n",
    "        circ_fn = f\"circ_start_{str(start).replace('.', ',')}_radius_{radius}_random-seeds{random_seeds[:2].tolist()}\"\n",
    "        make_movie(f\"{outdir}/{prefix}_{suffix}/{i}/{j}/{circ_fn}.mp4\", circ_imgs, fps)\n",
    "        circ_ws_clone = G.mapping(circ_zs, None).detach().clone()\n",
    "        del circ_zs , circ_imgs\n",
    "        \n",
    "        # Lisajou interpolation\n",
    "        start, radius, (a, b, c) = lsj_settings.values()\n",
    "        print(f\"--> Lisajou interpolation start:{start} radius:{radius} random-seeds:{random_seeds} abc:{(a,b,c)}\")\n",
    "        lsj_zs = [lsj_interpolation(radius, (z, z1, z2, z3), a, b, c, start+(i/frame_count)*(1-start)) for i in range(1, frame_count+1)]\n",
    "        lsj_zs = np.array(lsj_zs)[:,0,:]\n",
    "        lsj_zs = lsj_zs[::-1].copy()\n",
    "        lsj_zs = torch.from_numpy(lsj_zs).to(device)\n",
    "        lsj_imgs = generate_images_from_zs(G, lsj_zs, labels, batch_size, truncation_psi)\n",
    "        lsj_fn = f\"lsj_start_{str(start).replace('.', ',')}_radius_{radius}_random-seeds{random_seeds.tolist()}_a_{a}_b_{b}_c_{c}\"\n",
    "        make_movie(f\"{outdir}/{prefix}_{suffix}/{i}/{j}/{lsj_fn}.mp4\", lsj_imgs, fps)\n",
    "        lsj_ws_clone = G.mapping(lsj_zs, None).detach().clone()\n",
    "        del lsj_zs, lsj_imgs\n",
    "        \n",
    "        # Slerp\n",
    "        start = slerp_settings['start']\n",
    "        print(f\"--> Slerp interpolation start:{start} random-seed:{random_seeds[0]}\")\n",
    "        slerp_zs = [slerp(start+(i/frame_count)*(1-start), z1, z) for i in range(1, frame_count+1)]\n",
    "        slerp_zs = torch.from_numpy(np.array(slerp_zs)[:,0,:]).to(device)\n",
    "        slerp_imgs = generate_images_from_zs(G, slerp_zs, labels, batch_size, truncation_psi)\n",
    "        slerp_fn = f\"slerp_start_{str(start).replace('.', ',')}_random-seeds[{random_seeds[0]}]\"\n",
    "        make_movie(f\"{outdir}/{prefix}_{suffix}/{i}/{j}/{slerp_fn}.mp4\", slerp_imgs, fps)\n",
    "        slerp_ws_clone = G.mapping(slerp_zs, None).detach().clone()\n",
    "        del slerp_zs, slerp_imgs\n",
    "        \n",
    "        # Truncation\n",
    "        pos, neg = trunc_settings.values()\n",
    "        z = torch.from_numpy(z).to(device)\n",
    "        print(f\"--> Truncation interpolation positive:+{pos} negative:-{neg}\")\n",
    "        \n",
    "        # Positive\n",
    "        # https://github.com/pytorch/pytorch/issues/31460\n",
    "        trunc_pos_ws = [G.mapping(z, None, truncation_psi=truncation_psi+(i/frame_count)*pos).cpu().numpy() for i in range(1, frame_count+1)]\n",
    "        trunc_pos_ws = torch.from_numpy(np.array(trunc_pos_ws)[:,0,:]).to(device)\n",
    "        trunc_pos_imgs = generate_images_from_ws(G, trunc_pos_ws, batch_size)\n",
    "        trunc_pos_fn = f\"trunc_pos_{pos}\"\n",
    "        make_movie(f\"{outdir}/{prefix}_{suffix}/{i}/{j}/{trunc_pos_fn}.mp4\", trunc_pos_imgs, fps)\n",
    "        trunc_pos_ws_clone = trunc_pos_ws.detach().clone()\n",
    "        del trunc_pos_ws, trunc_pos_imgs\n",
    "        \n",
    "        # Negative\n",
    "        trunc_neg_ws = [G.mapping(z, None, truncation_psi=truncation_psi-(i/frame_count)*neg).cpu().numpy() for i in range(1, frame_count+1)]\n",
    "        trunc_neg_ws = torch.from_numpy(np.array(trunc_neg_ws)[:,0,:]).to(device)\n",
    "        trunc_neg_imgs = generate_images_from_ws(G, trunc_neg_ws, batch_size)\n",
    "        trunc_neg_fn = f\"trunc_neg_{neg}\"\n",
    "        make_movie(f\"{outdir}/{prefix}_{suffix}/{i}/{j}/{trunc_neg_fn}.mp4\", trunc_neg_imgs, fps)\n",
    "        trunc_neg_ws_clone = trunc_neg_ws.detach().clone()\n",
    "        del trunc_neg_ws, trunc_neg_imgs\n",
    "        \n",
    "        # Style mixing (sm)\n",
    "        for file in glob.iglob(f'{outdir}/style_transfer_seeds/*.npy'):\n",
    "            \n",
    "            npy_fn = file.split('/')[-1].split('.')[0]\n",
    "            print(f'--> Style Mixing {npy_fn}')\n",
    "            \n",
    "            style_z = torch.from_numpy(np.load(file)).to(device)\n",
    "            style_w = G.mapping(style_z, None)\n",
    "\n",
    "            print(f'---> Circular interpolation')\n",
    "            circ_ws_clone[:,style_layer_range,:] = style_w[0][style_layer_range]\n",
    "            circ_imgs_sm = generate_images_from_ws(G, circ_ws_clone, batch_size, truncation_psi)\n",
    "            make_movie(f\"{outdir}/{prefix}_{suffix}/{i}/{j}/{circ_fn}_sm_{npy_fn}.mp4\", circ_imgs_sm, fps)\n",
    "            del circ_imgs_sm\n",
    "\n",
    "            print(f'---> Lisajou interpolation')\n",
    "            lsj_ws_clone[:,style_layer_range,:] = style_w[0][style_layer_range]\n",
    "            lsj_imgs_sm = generate_images_from_ws(G, lsj_ws_clone, batch_size, truncation_psi)\n",
    "            make_movie(f\"{outdir}/{prefix}_{suffix}/{i}/{j}/{lsj_fn}_sm_{npy_fn}.mp4\", lsj_imgs_sm, fps)\n",
    "            del lsj_imgs_sm\n",
    "\n",
    "            print(f'---> Lerp interpolation')\n",
    "            slerp_ws_clone[:,style_layer_range,:] = style_w[0][style_layer_range]\n",
    "            slerp_imgs_sm = generate_images_from_ws(G, slerp_ws_clone, batch_size, truncation_psi)\n",
    "            make_movie(f\"{outdir}/{prefix}_{suffix}/{i}/{j}/{slerp_fn}_sm_{npy_fn}.mp4\", slerp_imgs_sm, fps)\n",
    "            del slerp_imgs_sm\n",
    "\n",
    "            print(f'---> Trunc positive')\n",
    "            trunc_pos_ws_clone[:,style_layer_range,:] = style_w[0][style_layer_range]\n",
    "            trunc_pos_imgs_sm = generate_images_from_ws(G, trunc_pos_ws_clone, batch_size, truncation_psi)\n",
    "            make_movie(f\"{outdir}/{prefix}_{suffix}/{i}/{j}/{trunc_pos_fn}_sm_{npy_fn}.mp4\", trunc_pos_imgs_sm, fps)\n",
    "            del trunc_pos_imgs_sm\n",
    "\n",
    "            print(f'---> Trunc negative')\n",
    "            trunc_neg_ws_clone[:,style_layer_range,:] = style_w[0][style_layer_range]\n",
    "            trunc_neg_imgs_sm = generate_images_from_ws(G, trunc_neg_ws_clone, batch_size, truncation_psi)\n",
    "            make_movie(f\"{outdir}/{prefix}_{suffix}/{i}/{j}/{trunc_neg_fn}_sm_{npy_fn}.mp4\", trunc_neg_imgs_sm, fps)\n",
    "            del trunc_neg_imgs_sm\n",
    "        \n",
    "        # Clean some shit\n",
    "        del circ_ws_clone, lsj_ws_clone, slerp_ws_clone, trunc_pos_ws_clone, trunc_neg_ws_clone\n",
    "\n",
    "        print(f'-> {outdir}/{i}/{j} Saved in {timedelta(seconds=time.time()-t1)}\\n---')\n",
    "        \n"
   ]
  },
  {
   "cell_type": "code",
   "execution_count": 11,
   "id": "330fc1c7",
   "metadata": {},
   "outputs": [
    {
     "name": "stdout",
     "output_type": "stream",
     "text": [
      "> Cluster 0: 400 imgs (saving 400, trunc_psi:1, noise_mode:const)\n"
     ]
    },
    {
     "data": {
      "application/vnd.jupyter.widget-view+json": {
       "model_id": "75f58675436b45e79985e2013d7320f9",
       "version_major": 2,
       "version_minor": 0
      },
      "text/plain": [
       "  0%|          | 0/10 [00:00<?, ?it/s]"
      ]
     },
     "metadata": {},
     "output_type": "display_data"
    },
    {
     "data": {
      "application/vnd.jupyter.widget-view+json": {
       "model_id": "e6e124a552f74e1e9a80ad267284e5d2",
       "version_major": 2,
       "version_minor": 0
      },
      "text/plain": [
       "0it [00:00, ?it/s]"
      ]
     },
     "metadata": {},
     "output_type": "display_data"
    },
    {
     "name": "stdout",
     "output_type": "stream",
     "text": [
      "-> StyleGAN2_Genre_Clustering/clusters/0/399 Saved in 0:00:07.880993\n",
      "---\n",
      "> Cluster 1: 400 imgs (saving 400, trunc_psi:1, noise_mode:const)\n"
     ]
    },
    {
     "data": {
      "application/vnd.jupyter.widget-view+json": {
       "model_id": "cdd68d8e0169401ab03e7d6736dbea92",
       "version_major": 2,
       "version_minor": 0
      },
      "text/plain": [
       "  0%|          | 0/10 [00:00<?, ?it/s]"
      ]
     },
     "metadata": {},
     "output_type": "display_data"
    },
    {
     "data": {
      "application/vnd.jupyter.widget-view+json": {
       "model_id": "dee18db541014ae68eb69b1d67f5a98e",
       "version_major": 2,
       "version_minor": 0
      },
      "text/plain": [
       "0it [00:00, ?it/s]"
      ]
     },
     "metadata": {},
     "output_type": "display_data"
    },
    {
     "name": "stdout",
     "output_type": "stream",
     "text": [
      "-> StyleGAN2_Genre_Clustering/clusters/1/399 Saved in 0:00:08.181069\n",
      "---\n",
      "> Cluster 2: 400 imgs (saving 400, trunc_psi:1, noise_mode:const)\n"
     ]
    },
    {
     "data": {
      "application/vnd.jupyter.widget-view+json": {
       "model_id": "949bce04de5542ce9c20533d188f6dff",
       "version_major": 2,
       "version_minor": 0
      },
      "text/plain": [
       "  0%|          | 0/10 [00:00<?, ?it/s]"
      ]
     },
     "metadata": {},
     "output_type": "display_data"
    },
    {
     "data": {
      "application/vnd.jupyter.widget-view+json": {
       "model_id": "a0aaca51c3894addb507039996d3cd10",
       "version_major": 2,
       "version_minor": 0
      },
      "text/plain": [
       "0it [00:00, ?it/s]"
      ]
     },
     "metadata": {},
     "output_type": "display_data"
    },
    {
     "name": "stdout",
     "output_type": "stream",
     "text": [
      "-> StyleGAN2_Genre_Clustering/clusters/2/399 Saved in 0:00:07.565847\n",
      "---\n",
      "> Cluster 3: 400 imgs (saving 400, trunc_psi:1, noise_mode:const)\n"
     ]
    },
    {
     "data": {
      "application/vnd.jupyter.widget-view+json": {
       "model_id": "6b469732ebab44b88aa794993f4a6919",
       "version_major": 2,
       "version_minor": 0
      },
      "text/plain": [
       "  0%|          | 0/10 [00:00<?, ?it/s]"
      ]
     },
     "metadata": {},
     "output_type": "display_data"
    },
    {
     "data": {
      "application/vnd.jupyter.widget-view+json": {
       "model_id": "ac1a3305e57e4cb4825eb12760b91ec6",
       "version_major": 2,
       "version_minor": 0
      },
      "text/plain": [
       "0it [00:00, ?it/s]"
      ]
     },
     "metadata": {},
     "output_type": "display_data"
    },
    {
     "name": "stdout",
     "output_type": "stream",
     "text": [
      "-> StyleGAN2_Genre_Clustering/clusters/3/399 Saved in 0:00:07.801394\n",
      "---\n",
      "> Cluster 4: 400 imgs (saving 400, trunc_psi:1, noise_mode:const)\n"
     ]
    },
    {
     "data": {
      "application/vnd.jupyter.widget-view+json": {
       "model_id": "83dab30a8c504a42aa08d59320bf7386",
       "version_major": 2,
       "version_minor": 0
      },
      "text/plain": [
       "  0%|          | 0/10 [00:00<?, ?it/s]"
      ]
     },
     "metadata": {},
     "output_type": "display_data"
    },
    {
     "data": {
      "application/vnd.jupyter.widget-view+json": {
       "model_id": "bad19370186e44e5a8a70a3a933de995",
       "version_major": 2,
       "version_minor": 0
      },
      "text/plain": [
       "0it [00:00, ?it/s]"
      ]
     },
     "metadata": {},
     "output_type": "display_data"
    },
    {
     "name": "stdout",
     "output_type": "stream",
     "text": [
      "-> StyleGAN2_Genre_Clustering/clusters/4/399 Saved in 0:00:07.331557\n",
      "---\n",
      "> Cluster 5: 400 imgs (saving 400, trunc_psi:1, noise_mode:const)\n"
     ]
    },
    {
     "data": {
      "application/vnd.jupyter.widget-view+json": {
       "model_id": "b184bd28ebd840e29d816eb86a4f20a0",
       "version_major": 2,
       "version_minor": 0
      },
      "text/plain": [
       "  0%|          | 0/10 [00:00<?, ?it/s]"
      ]
     },
     "metadata": {},
     "output_type": "display_data"
    },
    {
     "data": {
      "application/vnd.jupyter.widget-view+json": {
       "model_id": "da1c5caeaa9b43d29ea637fa9879c0b6",
       "version_major": 2,
       "version_minor": 0
      },
      "text/plain": [
       "0it [00:00, ?it/s]"
      ]
     },
     "metadata": {},
     "output_type": "display_data"
    },
    {
     "name": "stdout",
     "output_type": "stream",
     "text": [
      "-> StyleGAN2_Genre_Clustering/clusters/5/399 Saved in 0:00:07.924326\n",
      "---\n",
      "> Cluster 6: 400 imgs (saving 400, trunc_psi:1, noise_mode:const)\n"
     ]
    },
    {
     "data": {
      "application/vnd.jupyter.widget-view+json": {
       "model_id": "984ea01910dc430ea78e199a3c5fdd33",
       "version_major": 2,
       "version_minor": 0
      },
      "text/plain": [
       "  0%|          | 0/10 [00:00<?, ?it/s]"
      ]
     },
     "metadata": {},
     "output_type": "display_data"
    },
    {
     "data": {
      "application/vnd.jupyter.widget-view+json": {
       "model_id": "ae5529547fa449bf83b7d28a754f4b38",
       "version_major": 2,
       "version_minor": 0
      },
      "text/plain": [
       "0it [00:00, ?it/s]"
      ]
     },
     "metadata": {},
     "output_type": "display_data"
    },
    {
     "name": "stdout",
     "output_type": "stream",
     "text": [
      "-> StyleGAN2_Genre_Clustering/clusters/6/399 Saved in 0:00:07.614964\n",
      "---\n",
      "> Cluster 7: 400 imgs (saving 400, trunc_psi:1, noise_mode:const)\n"
     ]
    },
    {
     "data": {
      "application/vnd.jupyter.widget-view+json": {
       "model_id": "03a597ccbc79411aa180b8d8ba404203",
       "version_major": 2,
       "version_minor": 0
      },
      "text/plain": [
       "  0%|          | 0/10 [00:00<?, ?it/s]"
      ]
     },
     "metadata": {},
     "output_type": "display_data"
    },
    {
     "data": {
      "application/vnd.jupyter.widget-view+json": {
       "model_id": "455d58e7b4d24ff1bc86b1605895f134",
       "version_major": 2,
       "version_minor": 0
      },
      "text/plain": [
       "0it [00:00, ?it/s]"
      ]
     },
     "metadata": {},
     "output_type": "display_data"
    },
    {
     "name": "stdout",
     "output_type": "stream",
     "text": [
      "-> StyleGAN2_Genre_Clustering/clusters/7/399 Saved in 0:00:08.191155\n",
      "---\n",
      "> Cluster 8: 400 imgs (saving 400, trunc_psi:1, noise_mode:const)\n"
     ]
    },
    {
     "data": {
      "application/vnd.jupyter.widget-view+json": {
       "model_id": "cd5bee6f300b4c7a961597068cada16c",
       "version_major": 2,
       "version_minor": 0
      },
      "text/plain": [
       "  0%|          | 0/10 [00:00<?, ?it/s]"
      ]
     },
     "metadata": {},
     "output_type": "display_data"
    },
    {
     "data": {
      "application/vnd.jupyter.widget-view+json": {
       "model_id": "d81bd13766a84e54af855f8573d6db25",
       "version_major": 2,
       "version_minor": 0
      },
      "text/plain": [
       "0it [00:00, ?it/s]"
      ]
     },
     "metadata": {},
     "output_type": "display_data"
    },
    {
     "name": "stdout",
     "output_type": "stream",
     "text": [
      "-> StyleGAN2_Genre_Clustering/clusters/8/399 Saved in 0:00:07.385746\n",
      "---\n",
      "> Cluster 9: 400 imgs (saving 400, trunc_psi:1, noise_mode:const)\n"
     ]
    },
    {
     "data": {
      "application/vnd.jupyter.widget-view+json": {
       "model_id": "9e5860dbddab4df38c3c3c471d802ee6",
       "version_major": 2,
       "version_minor": 0
      },
      "text/plain": [
       "  0%|          | 0/10 [00:00<?, ?it/s]"
      ]
     },
     "metadata": {},
     "output_type": "display_data"
    },
    {
     "data": {
      "application/vnd.jupyter.widget-view+json": {
       "model_id": "17469d07d39e48c9a5b365d21fb87be4",
       "version_major": 2,
       "version_minor": 0
      },
      "text/plain": [
       "0it [00:00, ?it/s]"
      ]
     },
     "metadata": {},
     "output_type": "display_data"
    },
    {
     "name": "stdout",
     "output_type": "stream",
     "text": [
      "-> StyleGAN2_Genre_Clustering/clusters/9/399 Saved in 0:00:07.604243\n",
      "---\n",
      "> Cluster 10: 400 imgs (saving 400, trunc_psi:1, noise_mode:const)\n"
     ]
    },
    {
     "data": {
      "application/vnd.jupyter.widget-view+json": {
       "model_id": "7456f4e11762419894baeccbcabf6bcc",
       "version_major": 2,
       "version_minor": 0
      },
      "text/plain": [
       "  0%|          | 0/10 [00:00<?, ?it/s]"
      ]
     },
     "metadata": {},
     "output_type": "display_data"
    },
    {
     "data": {
      "application/vnd.jupyter.widget-view+json": {
       "model_id": "1c9e16cfc74c4c19a42fa4e7a053ce81",
       "version_major": 2,
       "version_minor": 0
      },
      "text/plain": [
       "0it [00:00, ?it/s]"
      ]
     },
     "metadata": {},
     "output_type": "display_data"
    },
    {
     "name": "stdout",
     "output_type": "stream",
     "text": [
      "-> StyleGAN2_Genre_Clustering/clusters/10/399 Saved in 0:00:07.601353\n",
      "---\n",
      "> Cluster 11: 400 imgs (saving 400, trunc_psi:1, noise_mode:const)\n"
     ]
    },
    {
     "data": {
      "application/vnd.jupyter.widget-view+json": {
       "model_id": "788a7ba0620e4c1ab0064b075bb2879a",
       "version_major": 2,
       "version_minor": 0
      },
      "text/plain": [
       "  0%|          | 0/10 [00:00<?, ?it/s]"
      ]
     },
     "metadata": {},
     "output_type": "display_data"
    },
    {
     "data": {
      "application/vnd.jupyter.widget-view+json": {
       "model_id": "78fb648e820f4d6b8c32336ee113deb5",
       "version_major": 2,
       "version_minor": 0
      },
      "text/plain": [
       "0it [00:00, ?it/s]"
      ]
     },
     "metadata": {},
     "output_type": "display_data"
    },
    {
     "name": "stdout",
     "output_type": "stream",
     "text": [
      "-> StyleGAN2_Genre_Clustering/clusters/11/399 Saved in 0:00:07.571367\n",
      "---\n",
      "> Cluster 12: 400 imgs (saving 400, trunc_psi:1, noise_mode:const)\n"
     ]
    },
    {
     "data": {
      "application/vnd.jupyter.widget-view+json": {
       "model_id": "ca8a9326b4bc4dd3867d038821fb607f",
       "version_major": 2,
       "version_minor": 0
      },
      "text/plain": [
       "  0%|          | 0/10 [00:00<?, ?it/s]"
      ]
     },
     "metadata": {},
     "output_type": "display_data"
    },
    {
     "data": {
      "application/vnd.jupyter.widget-view+json": {
       "model_id": "b6fb5cb06cc84092960c23217d240181",
       "version_major": 2,
       "version_minor": 0
      },
      "text/plain": [
       "0it [00:00, ?it/s]"
      ]
     },
     "metadata": {},
     "output_type": "display_data"
    },
    {
     "name": "stdout",
     "output_type": "stream",
     "text": [
      "-> StyleGAN2_Genre_Clustering/clusters/12/399 Saved in 0:00:07.652927\n",
      "---\n",
      "> Cluster 13: 400 imgs (saving 400, trunc_psi:1, noise_mode:const)\n"
     ]
    },
    {
     "data": {
      "application/vnd.jupyter.widget-view+json": {
       "model_id": "c4c9987597e9452bae173c5c902049cf",
       "version_major": 2,
       "version_minor": 0
      },
      "text/plain": [
       "  0%|          | 0/10 [00:00<?, ?it/s]"
      ]
     },
     "metadata": {},
     "output_type": "display_data"
    },
    {
     "data": {
      "application/vnd.jupyter.widget-view+json": {
       "model_id": "fccf9e1db1c84b1bb1121846c5c4ef9d",
       "version_major": 2,
       "version_minor": 0
      },
      "text/plain": [
       "0it [00:00, ?it/s]"
      ]
     },
     "metadata": {},
     "output_type": "display_data"
    },
    {
     "name": "stdout",
     "output_type": "stream",
     "text": [
      "-> StyleGAN2_Genre_Clustering/clusters/13/399 Saved in 0:00:08.043336\n",
      "---\n",
      "> Cluster 14: 400 imgs (saving 400, trunc_psi:1, noise_mode:const)\n"
     ]
    },
    {
     "data": {
      "application/vnd.jupyter.widget-view+json": {
       "model_id": "99cd64cad97d41e2a09e65d81957ec52",
       "version_major": 2,
       "version_minor": 0
      },
      "text/plain": [
       "  0%|          | 0/10 [00:00<?, ?it/s]"
      ]
     },
     "metadata": {},
     "output_type": "display_data"
    },
    {
     "data": {
      "application/vnd.jupyter.widget-view+json": {
       "model_id": "c22ecf1ef3064af4a201613a70796e1a",
       "version_major": 2,
       "version_minor": 0
      },
      "text/plain": [
       "0it [00:00, ?it/s]"
      ]
     },
     "metadata": {},
     "output_type": "display_data"
    },
    {
     "name": "stdout",
     "output_type": "stream",
     "text": [
      "-> StyleGAN2_Genre_Clustering/clusters/14/399 Saved in 0:00:07.586111\n",
      "---\n",
      "> Cluster 15: 400 imgs (saving 400, trunc_psi:1, noise_mode:const)\n"
     ]
    },
    {
     "data": {
      "application/vnd.jupyter.widget-view+json": {
       "model_id": "dbbbf9043300402388be088f74fe062a",
       "version_major": 2,
       "version_minor": 0
      },
      "text/plain": [
       "  0%|          | 0/10 [00:00<?, ?it/s]"
      ]
     },
     "metadata": {},
     "output_type": "display_data"
    },
    {
     "data": {
      "application/vnd.jupyter.widget-view+json": {
       "model_id": "483d038e43c04c419e3277caecc3c437",
       "version_major": 2,
       "version_minor": 0
      },
      "text/plain": [
       "0it [00:00, ?it/s]"
      ]
     },
     "metadata": {},
     "output_type": "display_data"
    },
    {
     "name": "stdout",
     "output_type": "stream",
     "text": [
      "-> StyleGAN2_Genre_Clustering/clusters/15/399 Saved in 0:00:07.725824\n",
      "---\n",
      "> Cluster 16: 400 imgs (saving 400, trunc_psi:1, noise_mode:const)\n"
     ]
    },
    {
     "data": {
      "application/vnd.jupyter.widget-view+json": {
       "model_id": "003be5db13b749acba6d7cd4ec5b9d83",
       "version_major": 2,
       "version_minor": 0
      },
      "text/plain": [
       "  0%|          | 0/10 [00:00<?, ?it/s]"
      ]
     },
     "metadata": {},
     "output_type": "display_data"
    },
    {
     "data": {
      "application/vnd.jupyter.widget-view+json": {
       "model_id": "81fc4771d61740eeb15b0bb7222b7820",
       "version_major": 2,
       "version_minor": 0
      },
      "text/plain": [
       "0it [00:00, ?it/s]"
      ]
     },
     "metadata": {},
     "output_type": "display_data"
    },
    {
     "name": "stdout",
     "output_type": "stream",
     "text": [
      "-> StyleGAN2_Genre_Clustering/clusters/16/399 Saved in 0:00:07.617700\n",
      "---\n",
      "> Cluster 17: 400 imgs (saving 400, trunc_psi:1, noise_mode:const)\n"
     ]
    },
    {
     "data": {
      "application/vnd.jupyter.widget-view+json": {
       "model_id": "4d027ae1fe5a44edb5ae2dc58d4db335",
       "version_major": 2,
       "version_minor": 0
      },
      "text/plain": [
       "  0%|          | 0/10 [00:00<?, ?it/s]"
      ]
     },
     "metadata": {},
     "output_type": "display_data"
    },
    {
     "data": {
      "application/vnd.jupyter.widget-view+json": {
       "model_id": "bd7d190a27d14c2585b6bfd313029791",
       "version_major": 2,
       "version_minor": 0
      },
      "text/plain": [
       "0it [00:00, ?it/s]"
      ]
     },
     "metadata": {},
     "output_type": "display_data"
    },
    {
     "name": "stdout",
     "output_type": "stream",
     "text": [
      "-> StyleGAN2_Genre_Clustering/clusters/17/399 Saved in 0:00:07.828716\n",
      "---\n",
      "> Cluster 18: 400 imgs (saving 400, trunc_psi:1, noise_mode:const)\n"
     ]
    },
    {
     "data": {
      "application/vnd.jupyter.widget-view+json": {
       "model_id": "933bd07723cf46ecb5a12695870f35f0",
       "version_major": 2,
       "version_minor": 0
      },
      "text/plain": [
       "  0%|          | 0/10 [00:00<?, ?it/s]"
      ]
     },
     "metadata": {},
     "output_type": "display_data"
    },
    {
     "data": {
      "application/vnd.jupyter.widget-view+json": {
       "model_id": "5554d10eab4f40dd9d686fe7c4d0c4b3",
       "version_major": 2,
       "version_minor": 0
      },
      "text/plain": [
       "0it [00:00, ?it/s]"
      ]
     },
     "metadata": {},
     "output_type": "display_data"
    },
    {
     "name": "stdout",
     "output_type": "stream",
     "text": [
      "-> StyleGAN2_Genre_Clustering/clusters/18/399 Saved in 0:00:07.134995\n",
      "---\n",
      "> Cluster 19: 400 imgs (saving 400, trunc_psi:1, noise_mode:const)\n"
     ]
    },
    {
     "data": {
      "application/vnd.jupyter.widget-view+json": {
       "model_id": "d8854a7734be4d9fae20d3d68c71f9b9",
       "version_major": 2,
       "version_minor": 0
      },
      "text/plain": [
       "  0%|          | 0/10 [00:00<?, ?it/s]"
      ]
     },
     "metadata": {},
     "output_type": "display_data"
    },
    {
     "data": {
      "application/vnd.jupyter.widget-view+json": {
       "model_id": "bdfcbc5b733c4ada9ceb5e2584f31042",
       "version_major": 2,
       "version_minor": 0
      },
      "text/plain": [
       "0it [00:00, ?it/s]"
      ]
     },
     "metadata": {},
     "output_type": "display_data"
    },
    {
     "name": "stdout",
     "output_type": "stream",
     "text": [
      "-> StyleGAN2_Genre_Clustering/clusters/19/399 Saved in 0:00:07.781796\n",
      "---\n",
      "> Cluster 20: 400 imgs (saving 400, trunc_psi:1, noise_mode:const)\n"
     ]
    },
    {
     "data": {
      "application/vnd.jupyter.widget-view+json": {
       "model_id": "132031ab33334682a285754c88b2f8ef",
       "version_major": 2,
       "version_minor": 0
      },
      "text/plain": [
       "  0%|          | 0/10 [00:00<?, ?it/s]"
      ]
     },
     "metadata": {},
     "output_type": "display_data"
    },
    {
     "data": {
      "application/vnd.jupyter.widget-view+json": {
       "model_id": "e676a856fa914a4fa10ad0992dc3a548",
       "version_major": 2,
       "version_minor": 0
      },
      "text/plain": [
       "0it [00:00, ?it/s]"
      ]
     },
     "metadata": {},
     "output_type": "display_data"
    },
    {
     "name": "stdout",
     "output_type": "stream",
     "text": [
      "-> StyleGAN2_Genre_Clustering/clusters/20/399 Saved in 0:00:07.606085\n",
      "---\n",
      "> Cluster 21: 400 imgs (saving 400, trunc_psi:1, noise_mode:const)\n"
     ]
    },
    {
     "data": {
      "application/vnd.jupyter.widget-view+json": {
       "model_id": "2c169d87c7c3408db51138a28c7672ff",
       "version_major": 2,
       "version_minor": 0
      },
      "text/plain": [
       "  0%|          | 0/10 [00:00<?, ?it/s]"
      ]
     },
     "metadata": {},
     "output_type": "display_data"
    },
    {
     "data": {
      "application/vnd.jupyter.widget-view+json": {
       "model_id": "52b104676b5849528fd75dd8b44b4ec3",
       "version_major": 2,
       "version_minor": 0
      },
      "text/plain": [
       "0it [00:00, ?it/s]"
      ]
     },
     "metadata": {},
     "output_type": "display_data"
    },
    {
     "name": "stdout",
     "output_type": "stream",
     "text": [
      "-> StyleGAN2_Genre_Clustering/clusters/21/399 Saved in 0:00:07.699167\n",
      "---\n",
      "> Cluster 22: 400 imgs (saving 400, trunc_psi:1, noise_mode:const)\n"
     ]
    },
    {
     "data": {
      "application/vnd.jupyter.widget-view+json": {
       "model_id": "b2d7699eb8d34597ab016d781a267946",
       "version_major": 2,
       "version_minor": 0
      },
      "text/plain": [
       "  0%|          | 0/10 [00:00<?, ?it/s]"
      ]
     },
     "metadata": {},
     "output_type": "display_data"
    },
    {
     "data": {
      "application/vnd.jupyter.widget-view+json": {
       "model_id": "678dd3c64d9b42b8826be5ea3e52236a",
       "version_major": 2,
       "version_minor": 0
      },
      "text/plain": [
       "0it [00:00, ?it/s]"
      ]
     },
     "metadata": {},
     "output_type": "display_data"
    },
    {
     "name": "stdout",
     "output_type": "stream",
     "text": [
      "-> StyleGAN2_Genre_Clustering/clusters/22/399 Saved in 0:00:07.317369\n",
      "---\n",
      "> Cluster 23: 400 imgs (saving 400, trunc_psi:1, noise_mode:const)\n"
     ]
    },
    {
     "data": {
      "application/vnd.jupyter.widget-view+json": {
       "model_id": "eaa3481ac83b492a9ab268a5aa1a66b7",
       "version_major": 2,
       "version_minor": 0
      },
      "text/plain": [
       "  0%|          | 0/10 [00:00<?, ?it/s]"
      ]
     },
     "metadata": {},
     "output_type": "display_data"
    },
    {
     "data": {
      "application/vnd.jupyter.widget-view+json": {
       "model_id": "f9c108d90dd0428883c9a0cf5ce1c553",
       "version_major": 2,
       "version_minor": 0
      },
      "text/plain": [
       "0it [00:00, ?it/s]"
      ]
     },
     "metadata": {},
     "output_type": "display_data"
    },
    {
     "name": "stdout",
     "output_type": "stream",
     "text": [
      "-> StyleGAN2_Genre_Clustering/clusters/23/399 Saved in 0:00:07.920021\n",
      "---\n",
      "> Cluster 24: 400 imgs (saving 400, trunc_psi:1, noise_mode:const)\n"
     ]
    },
    {
     "data": {
      "application/vnd.jupyter.widget-view+json": {
       "model_id": "b7de3c8b11c040dcbc7437bfb27ce556",
       "version_major": 2,
       "version_minor": 0
      },
      "text/plain": [
       "  0%|          | 0/10 [00:00<?, ?it/s]"
      ]
     },
     "metadata": {},
     "output_type": "display_data"
    },
    {
     "data": {
      "application/vnd.jupyter.widget-view+json": {
       "model_id": "cbae0a1c90c44a3aac31f3c6b4dc2178",
       "version_major": 2,
       "version_minor": 0
      },
      "text/plain": [
       "0it [00:00, ?it/s]"
      ]
     },
     "metadata": {},
     "output_type": "display_data"
    },
    {
     "name": "stdout",
     "output_type": "stream",
     "text": [
      "-> StyleGAN2_Genre_Clustering/clusters/24/399 Saved in 0:00:07.042356\n",
      "---\n",
      "> Cluster 25: 400 imgs (saving 400, trunc_psi:1, noise_mode:const)\n"
     ]
    },
    {
     "data": {
      "application/vnd.jupyter.widget-view+json": {
       "model_id": "33a1efca01884797958e80f714a6f25b",
       "version_major": 2,
       "version_minor": 0
      },
      "text/plain": [
       "  0%|          | 0/10 [00:00<?, ?it/s]"
      ]
     },
     "metadata": {},
     "output_type": "display_data"
    },
    {
     "data": {
      "application/vnd.jupyter.widget-view+json": {
       "model_id": "cfb8d3d71af34bab8a148e34ad8ea991",
       "version_major": 2,
       "version_minor": 0
      },
      "text/plain": [
       "0it [00:00, ?it/s]"
      ]
     },
     "metadata": {},
     "output_type": "display_data"
    },
    {
     "name": "stdout",
     "output_type": "stream",
     "text": [
      "-> StyleGAN2_Genre_Clustering/clusters/25/399 Saved in 0:00:07.325723\n",
      "---\n",
      "> Cluster 26: 400 imgs (saving 400, trunc_psi:1, noise_mode:const)\n"
     ]
    },
    {
     "data": {
      "application/vnd.jupyter.widget-view+json": {
       "model_id": "1719a23f7d344899a360a8d07b7cab19",
       "version_major": 2,
       "version_minor": 0
      },
      "text/plain": [
       "  0%|          | 0/10 [00:00<?, ?it/s]"
      ]
     },
     "metadata": {},
     "output_type": "display_data"
    },
    {
     "data": {
      "application/vnd.jupyter.widget-view+json": {
       "model_id": "904a87fa660148898b5bc0450fe85a4e",
       "version_major": 2,
       "version_minor": 0
      },
      "text/plain": [
       "0it [00:00, ?it/s]"
      ]
     },
     "metadata": {},
     "output_type": "display_data"
    },
    {
     "name": "stdout",
     "output_type": "stream",
     "text": [
      "-> StyleGAN2_Genre_Clustering/clusters/26/399 Saved in 0:00:07.764636\n",
      "---\n",
      "> Cluster 27: 400 imgs (saving 400, trunc_psi:1, noise_mode:const)\n"
     ]
    },
    {
     "data": {
      "application/vnd.jupyter.widget-view+json": {
       "model_id": "e4870079d38741e3af1d5d349296a3cb",
       "version_major": 2,
       "version_minor": 0
      },
      "text/plain": [
       "  0%|          | 0/10 [00:00<?, ?it/s]"
      ]
     },
     "metadata": {},
     "output_type": "display_data"
    },
    {
     "data": {
      "application/vnd.jupyter.widget-view+json": {
       "model_id": "529b678514954ae7bc54db101088ed87",
       "version_major": 2,
       "version_minor": 0
      },
      "text/plain": [
       "0it [00:00, ?it/s]"
      ]
     },
     "metadata": {},
     "output_type": "display_data"
    },
    {
     "name": "stdout",
     "output_type": "stream",
     "text": [
      "-> StyleGAN2_Genre_Clustering/clusters/27/399 Saved in 0:00:07.523976\n",
      "---\n",
      "> Cluster 28: 400 imgs (saving 400, trunc_psi:1, noise_mode:const)\n"
     ]
    },
    {
     "data": {
      "application/vnd.jupyter.widget-view+json": {
       "model_id": "364858417ccd4e3ca3704e709ded532d",
       "version_major": 2,
       "version_minor": 0
      },
      "text/plain": [
       "  0%|          | 0/10 [00:00<?, ?it/s]"
      ]
     },
     "metadata": {},
     "output_type": "display_data"
    },
    {
     "data": {
      "application/vnd.jupyter.widget-view+json": {
       "model_id": "b2c2199a742f4354bee89aacd3efb9b6",
       "version_major": 2,
       "version_minor": 0
      },
      "text/plain": [
       "0it [00:00, ?it/s]"
      ]
     },
     "metadata": {},
     "output_type": "display_data"
    },
    {
     "name": "stdout",
     "output_type": "stream",
     "text": [
      "-> StyleGAN2_Genre_Clustering/clusters/28/399 Saved in 0:00:08.342275\n",
      "---\n",
      "> Cluster 29: 400 imgs (saving 400, trunc_psi:1, noise_mode:const)\n"
     ]
    },
    {
     "data": {
      "application/vnd.jupyter.widget-view+json": {
       "model_id": "50d0b68961524f689388838586d8cb68",
       "version_major": 2,
       "version_minor": 0
      },
      "text/plain": [
       "  0%|          | 0/10 [00:00<?, ?it/s]"
      ]
     },
     "metadata": {},
     "output_type": "display_data"
    },
    {
     "data": {
      "application/vnd.jupyter.widget-view+json": {
       "model_id": "ac45afbddb384856ab88aea163caa869",
       "version_major": 2,
       "version_minor": 0
      },
      "text/plain": [
       "0it [00:00, ?it/s]"
      ]
     },
     "metadata": {},
     "output_type": "display_data"
    },
    {
     "name": "stdout",
     "output_type": "stream",
     "text": [
      "-> StyleGAN2_Genre_Clustering/clusters/29/399 Saved in 0:00:07.789943\n",
      "---\n",
      "> Cluster 30: 400 imgs (saving 400, trunc_psi:1, noise_mode:const)\n"
     ]
    },
    {
     "data": {
      "application/vnd.jupyter.widget-view+json": {
       "model_id": "86d67dd6f38847f3878ff1940686d971",
       "version_major": 2,
       "version_minor": 0
      },
      "text/plain": [
       "  0%|          | 0/10 [00:00<?, ?it/s]"
      ]
     },
     "metadata": {},
     "output_type": "display_data"
    },
    {
     "data": {
      "application/vnd.jupyter.widget-view+json": {
       "model_id": "246582896915400d86b79eacde8156d5",
       "version_major": 2,
       "version_minor": 0
      },
      "text/plain": [
       "0it [00:00, ?it/s]"
      ]
     },
     "metadata": {},
     "output_type": "display_data"
    },
    {
     "name": "stdout",
     "output_type": "stream",
     "text": [
      "-> StyleGAN2_Genre_Clustering/clusters/30/399 Saved in 0:00:07.461621\n",
      "---\n",
      "> Cluster 31: 400 imgs (saving 400, trunc_psi:1, noise_mode:const)\n"
     ]
    },
    {
     "data": {
      "application/vnd.jupyter.widget-view+json": {
       "model_id": "461b62c0ae134d76aaaf2b096f6e3465",
       "version_major": 2,
       "version_minor": 0
      },
      "text/plain": [
       "  0%|          | 0/10 [00:00<?, ?it/s]"
      ]
     },
     "metadata": {},
     "output_type": "display_data"
    },
    {
     "data": {
      "application/vnd.jupyter.widget-view+json": {
       "model_id": "8ca9dafe0e5c40a3af559cc393baa81f",
       "version_major": 2,
       "version_minor": 0
      },
      "text/plain": [
       "0it [00:00, ?it/s]"
      ]
     },
     "metadata": {},
     "output_type": "display_data"
    },
    {
     "name": "stdout",
     "output_type": "stream",
     "text": [
      "-> StyleGAN2_Genre_Clustering/clusters/31/399 Saved in 0:00:07.838559\n",
      "---\n",
      "> Cluster 32: 400 imgs (saving 400, trunc_psi:1, noise_mode:const)\n"
     ]
    },
    {
     "data": {
      "application/vnd.jupyter.widget-view+json": {
       "model_id": "42930953e94c4ce0bbda714d2c6d393c",
       "version_major": 2,
       "version_minor": 0
      },
      "text/plain": [
       "  0%|          | 0/10 [00:00<?, ?it/s]"
      ]
     },
     "metadata": {},
     "output_type": "display_data"
    },
    {
     "data": {
      "application/vnd.jupyter.widget-view+json": {
       "model_id": "c81dbf0bd285422e8676589f1181650b",
       "version_major": 2,
       "version_minor": 0
      },
      "text/plain": [
       "0it [00:00, ?it/s]"
      ]
     },
     "metadata": {},
     "output_type": "display_data"
    },
    {
     "name": "stdout",
     "output_type": "stream",
     "text": [
      "-> StyleGAN2_Genre_Clustering/clusters/32/399 Saved in 0:00:07.636374\n",
      "---\n",
      "> Cluster 33: 400 imgs (saving 400, trunc_psi:1, noise_mode:const)\n"
     ]
    },
    {
     "data": {
      "application/vnd.jupyter.widget-view+json": {
       "model_id": "e6678b6dc843402f89ad2bbe0b931263",
       "version_major": 2,
       "version_minor": 0
      },
      "text/plain": [
       "  0%|          | 0/10 [00:00<?, ?it/s]"
      ]
     },
     "metadata": {},
     "output_type": "display_data"
    },
    {
     "data": {
      "application/vnd.jupyter.widget-view+json": {
       "model_id": "48b0ba9b5dae414f88c05c7a05a9a066",
       "version_major": 2,
       "version_minor": 0
      },
      "text/plain": [
       "0it [00:00, ?it/s]"
      ]
     },
     "metadata": {},
     "output_type": "display_data"
    },
    {
     "name": "stdout",
     "output_type": "stream",
     "text": [
      "-> StyleGAN2_Genre_Clustering/clusters/33/399 Saved in 0:00:07.711551\n",
      "---\n",
      "> Cluster 34: 400 imgs (saving 400, trunc_psi:1, noise_mode:const)\n"
     ]
    },
    {
     "data": {
      "application/vnd.jupyter.widget-view+json": {
       "model_id": "2ec4709ce0e44f829ff37aa61505b168",
       "version_major": 2,
       "version_minor": 0
      },
      "text/plain": [
       "  0%|          | 0/10 [00:00<?, ?it/s]"
      ]
     },
     "metadata": {},
     "output_type": "display_data"
    },
    {
     "data": {
      "application/vnd.jupyter.widget-view+json": {
       "model_id": "a3998f14b7ef4988965cabc64c29006e",
       "version_major": 2,
       "version_minor": 0
      },
      "text/plain": [
       "0it [00:00, ?it/s]"
      ]
     },
     "metadata": {},
     "output_type": "display_data"
    },
    {
     "name": "stdout",
     "output_type": "stream",
     "text": [
      "-> StyleGAN2_Genre_Clustering/clusters/34/399 Saved in 0:00:07.291381\n",
      "---\n",
      "> Cluster 35: 400 imgs (saving 400, trunc_psi:1, noise_mode:const)\n"
     ]
    },
    {
     "data": {
      "application/vnd.jupyter.widget-view+json": {
       "model_id": "20b9c499a3b2434487042a92467f64e0",
       "version_major": 2,
       "version_minor": 0
      },
      "text/plain": [
       "  0%|          | 0/10 [00:00<?, ?it/s]"
      ]
     },
     "metadata": {},
     "output_type": "display_data"
    },
    {
     "data": {
      "application/vnd.jupyter.widget-view+json": {
       "model_id": "29ce91f15c8c45dcacd06d841114db27",
       "version_major": 2,
       "version_minor": 0
      },
      "text/plain": [
       "0it [00:00, ?it/s]"
      ]
     },
     "metadata": {},
     "output_type": "display_data"
    },
    {
     "name": "stdout",
     "output_type": "stream",
     "text": [
      "-> StyleGAN2_Genre_Clustering/clusters/35/399 Saved in 0:00:07.951520\n",
      "---\n",
      "> Cluster 36: 400 imgs (saving 400, trunc_psi:1, noise_mode:const)\n"
     ]
    },
    {
     "data": {
      "application/vnd.jupyter.widget-view+json": {
       "model_id": "4f41fe36dc5647a395f1d284ced26637",
       "version_major": 2,
       "version_minor": 0
      },
      "text/plain": [
       "  0%|          | 0/10 [00:00<?, ?it/s]"
      ]
     },
     "metadata": {},
     "output_type": "display_data"
    },
    {
     "data": {
      "application/vnd.jupyter.widget-view+json": {
       "model_id": "25af9c9765654fc4a8998e10cad774c2",
       "version_major": 2,
       "version_minor": 0
      },
      "text/plain": [
       "0it [00:00, ?it/s]"
      ]
     },
     "metadata": {},
     "output_type": "display_data"
    },
    {
     "name": "stdout",
     "output_type": "stream",
     "text": [
      "-> StyleGAN2_Genre_Clustering/clusters/36/399 Saved in 0:00:07.576143\n",
      "---\n",
      "> Cluster 37: 400 imgs (saving 400, trunc_psi:1, noise_mode:const)\n"
     ]
    },
    {
     "data": {
      "application/vnd.jupyter.widget-view+json": {
       "model_id": "e9fe70516abb434193cffb765f6ebb22",
       "version_major": 2,
       "version_minor": 0
      },
      "text/plain": [
       "  0%|          | 0/10 [00:00<?, ?it/s]"
      ]
     },
     "metadata": {},
     "output_type": "display_data"
    },
    {
     "data": {
      "application/vnd.jupyter.widget-view+json": {
       "model_id": "6b2cce8205b143dcaf900b9bcaafc9e0",
       "version_major": 2,
       "version_minor": 0
      },
      "text/plain": [
       "0it [00:00, ?it/s]"
      ]
     },
     "metadata": {},
     "output_type": "display_data"
    },
    {
     "name": "stdout",
     "output_type": "stream",
     "text": [
      "-> StyleGAN2_Genre_Clustering/clusters/37/399 Saved in 0:00:07.549846\n",
      "---\n",
      "> Cluster 38: 400 imgs (saving 400, trunc_psi:1, noise_mode:const)\n"
     ]
    },
    {
     "data": {
      "application/vnd.jupyter.widget-view+json": {
       "model_id": "ab21932ce12a47f2a7593e5629c33aa4",
       "version_major": 2,
       "version_minor": 0
      },
      "text/plain": [
       "  0%|          | 0/10 [00:00<?, ?it/s]"
      ]
     },
     "metadata": {},
     "output_type": "display_data"
    },
    {
     "data": {
      "application/vnd.jupyter.widget-view+json": {
       "model_id": "1fb47cb77151437d83673eef3548d88c",
       "version_major": 2,
       "version_minor": 0
      },
      "text/plain": [
       "0it [00:00, ?it/s]"
      ]
     },
     "metadata": {},
     "output_type": "display_data"
    },
    {
     "name": "stdout",
     "output_type": "stream",
     "text": [
      "-> StyleGAN2_Genre_Clustering/clusters/38/399 Saved in 0:00:08.088483\n",
      "---\n",
      "> Cluster 39: 400 imgs (saving 400, trunc_psi:1, noise_mode:const)\n"
     ]
    },
    {
     "data": {
      "application/vnd.jupyter.widget-view+json": {
       "model_id": "b48a2fadf1eb4ad2b41e055ce9500b65",
       "version_major": 2,
       "version_minor": 0
      },
      "text/plain": [
       "  0%|          | 0/10 [00:00<?, ?it/s]"
      ]
     },
     "metadata": {},
     "output_type": "display_data"
    },
    {
     "data": {
      "application/vnd.jupyter.widget-view+json": {
       "model_id": "d85b220627194c80b643bb52499bd963",
       "version_major": 2,
       "version_minor": 0
      },
      "text/plain": [
       "0it [00:00, ?it/s]"
      ]
     },
     "metadata": {},
     "output_type": "display_data"
    },
    {
     "name": "stdout",
     "output_type": "stream",
     "text": [
      "-> StyleGAN2_Genre_Clustering/clusters/39/399 Saved in 0:00:07.673840\n",
      "---\n",
      "> Cluster 40: 400 imgs (saving 400, trunc_psi:1, noise_mode:const)\n"
     ]
    },
    {
     "data": {
      "application/vnd.jupyter.widget-view+json": {
       "model_id": "8f38789424564aeba859ef5e8d7282ae",
       "version_major": 2,
       "version_minor": 0
      },
      "text/plain": [
       "  0%|          | 0/10 [00:00<?, ?it/s]"
      ]
     },
     "metadata": {},
     "output_type": "display_data"
    },
    {
     "data": {
      "application/vnd.jupyter.widget-view+json": {
       "model_id": "2d838a4e7468445aa3ed5eae7bff2c8b",
       "version_major": 2,
       "version_minor": 0
      },
      "text/plain": [
       "0it [00:00, ?it/s]"
      ]
     },
     "metadata": {},
     "output_type": "display_data"
    },
    {
     "name": "stdout",
     "output_type": "stream",
     "text": [
      "-> StyleGAN2_Genre_Clustering/clusters/40/399 Saved in 0:00:07.453500\n",
      "---\n",
      "> Cluster 41: 400 imgs (saving 400, trunc_psi:1, noise_mode:const)\n"
     ]
    },
    {
     "data": {
      "application/vnd.jupyter.widget-view+json": {
       "model_id": "3045db951914452bbd7b7367de6b1ef5",
       "version_major": 2,
       "version_minor": 0
      },
      "text/plain": [
       "  0%|          | 0/10 [00:00<?, ?it/s]"
      ]
     },
     "metadata": {},
     "output_type": "display_data"
    },
    {
     "data": {
      "application/vnd.jupyter.widget-view+json": {
       "model_id": "b30b04066e2a4afaade79f96bc021ca7",
       "version_major": 2,
       "version_minor": 0
      },
      "text/plain": [
       "0it [00:00, ?it/s]"
      ]
     },
     "metadata": {},
     "output_type": "display_data"
    },
    {
     "name": "stdout",
     "output_type": "stream",
     "text": [
      "-> StyleGAN2_Genre_Clustering/clusters/41/399 Saved in 0:00:07.177620\n",
      "---\n",
      "> Cluster 42: 400 imgs (saving 400, trunc_psi:1, noise_mode:const)\n"
     ]
    },
    {
     "data": {
      "application/vnd.jupyter.widget-view+json": {
       "model_id": "7cc567ea80ab469ba11362d9641183d5",
       "version_major": 2,
       "version_minor": 0
      },
      "text/plain": [
       "  0%|          | 0/10 [00:00<?, ?it/s]"
      ]
     },
     "metadata": {},
     "output_type": "display_data"
    },
    {
     "data": {
      "application/vnd.jupyter.widget-view+json": {
       "model_id": "474cced8f8e44659b7e6f4419f5813a3",
       "version_major": 2,
       "version_minor": 0
      },
      "text/plain": [
       "0it [00:00, ?it/s]"
      ]
     },
     "metadata": {},
     "output_type": "display_data"
    },
    {
     "name": "stdout",
     "output_type": "stream",
     "text": [
      "-> StyleGAN2_Genre_Clustering/clusters/42/399 Saved in 0:00:08.149758\n",
      "---\n",
      "> Cluster 43: 400 imgs (saving 400, trunc_psi:1, noise_mode:const)\n"
     ]
    },
    {
     "data": {
      "application/vnd.jupyter.widget-view+json": {
       "model_id": "a2ff916610dc46c8b516c9a72f61e707",
       "version_major": 2,
       "version_minor": 0
      },
      "text/plain": [
       "  0%|          | 0/10 [00:00<?, ?it/s]"
      ]
     },
     "metadata": {},
     "output_type": "display_data"
    },
    {
     "data": {
      "application/vnd.jupyter.widget-view+json": {
       "model_id": "90973bc49fdf4675afdc68e7be52ae91",
       "version_major": 2,
       "version_minor": 0
      },
      "text/plain": [
       "0it [00:00, ?it/s]"
      ]
     },
     "metadata": {},
     "output_type": "display_data"
    },
    {
     "name": "stdout",
     "output_type": "stream",
     "text": [
      "-> StyleGAN2_Genre_Clustering/clusters/43/399 Saved in 0:00:07.449188\n",
      "---\n",
      "> Cluster 44: 400 imgs (saving 400, trunc_psi:1, noise_mode:const)\n"
     ]
    },
    {
     "data": {
      "application/vnd.jupyter.widget-view+json": {
       "model_id": "3be7108d96f9449a81f55326ec7da43c",
       "version_major": 2,
       "version_minor": 0
      },
      "text/plain": [
       "  0%|          | 0/10 [00:00<?, ?it/s]"
      ]
     },
     "metadata": {},
     "output_type": "display_data"
    },
    {
     "data": {
      "application/vnd.jupyter.widget-view+json": {
       "model_id": "06ee4520ba35466b85d7dfaadba6c689",
       "version_major": 2,
       "version_minor": 0
      },
      "text/plain": [
       "0it [00:00, ?it/s]"
      ]
     },
     "metadata": {},
     "output_type": "display_data"
    },
    {
     "name": "stdout",
     "output_type": "stream",
     "text": [
      "-> StyleGAN2_Genre_Clustering/clusters/44/399 Saved in 0:00:07.549856\n",
      "---\n",
      "> Cluster 45: 400 imgs (saving 400, trunc_psi:1, noise_mode:const)\n"
     ]
    },
    {
     "data": {
      "application/vnd.jupyter.widget-view+json": {
       "model_id": "ecd79781e4c3456f8ee2a611e91048a7",
       "version_major": 2,
       "version_minor": 0
      },
      "text/plain": [
       "  0%|          | 0/10 [00:00<?, ?it/s]"
      ]
     },
     "metadata": {},
     "output_type": "display_data"
    },
    {
     "data": {
      "application/vnd.jupyter.widget-view+json": {
       "model_id": "84d95dcf347f4be0aff071cf54432f77",
       "version_major": 2,
       "version_minor": 0
      },
      "text/plain": [
       "0it [00:00, ?it/s]"
      ]
     },
     "metadata": {},
     "output_type": "display_data"
    },
    {
     "name": "stdout",
     "output_type": "stream",
     "text": [
      "-> StyleGAN2_Genre_Clustering/clusters/45/399 Saved in 0:00:08.230956\n",
      "---\n",
      "> Cluster 46: 400 imgs (saving 400, trunc_psi:1, noise_mode:const)\n"
     ]
    },
    {
     "data": {
      "application/vnd.jupyter.widget-view+json": {
       "model_id": "72119a099fc34b8ea077ffe6e2598a13",
       "version_major": 2,
       "version_minor": 0
      },
      "text/plain": [
       "  0%|          | 0/10 [00:00<?, ?it/s]"
      ]
     },
     "metadata": {},
     "output_type": "display_data"
    },
    {
     "data": {
      "application/vnd.jupyter.widget-view+json": {
       "model_id": "e9c67f5feae44500af1270f0fe108352",
       "version_major": 2,
       "version_minor": 0
      },
      "text/plain": [
       "0it [00:00, ?it/s]"
      ]
     },
     "metadata": {},
     "output_type": "display_data"
    },
    {
     "name": "stdout",
     "output_type": "stream",
     "text": [
      "-> StyleGAN2_Genre_Clustering/clusters/46/399 Saved in 0:00:07.667696\n",
      "---\n",
      "> Cluster 47: 400 imgs (saving 400, trunc_psi:1, noise_mode:const)\n"
     ]
    },
    {
     "data": {
      "application/vnd.jupyter.widget-view+json": {
       "model_id": "b55862d30c894724ac7526afe2a0e21d",
       "version_major": 2,
       "version_minor": 0
      },
      "text/plain": [
       "  0%|          | 0/10 [00:00<?, ?it/s]"
      ]
     },
     "metadata": {},
     "output_type": "display_data"
    },
    {
     "data": {
      "application/vnd.jupyter.widget-view+json": {
       "model_id": "0206950d49bd457493d8357ae1db5436",
       "version_major": 2,
       "version_minor": 0
      },
      "text/plain": [
       "0it [00:00, ?it/s]"
      ]
     },
     "metadata": {},
     "output_type": "display_data"
    },
    {
     "name": "stdout",
     "output_type": "stream",
     "text": [
      "-> StyleGAN2_Genre_Clustering/clusters/47/399 Saved in 0:00:08.367882\n",
      "---\n",
      "> Cluster 48: 400 imgs (saving 400, trunc_psi:1, noise_mode:const)\n"
     ]
    },
    {
     "data": {
      "application/vnd.jupyter.widget-view+json": {
       "model_id": "3d5e52b7e9e5447faffea23dd6fb5315",
       "version_major": 2,
       "version_minor": 0
      },
      "text/plain": [
       "  0%|          | 0/10 [00:00<?, ?it/s]"
      ]
     },
     "metadata": {},
     "output_type": "display_data"
    },
    {
     "data": {
      "application/vnd.jupyter.widget-view+json": {
       "model_id": "d1fa9844fd094abda71f1dbb4002c010",
       "version_major": 2,
       "version_minor": 0
      },
      "text/plain": [
       "0it [00:00, ?it/s]"
      ]
     },
     "metadata": {},
     "output_type": "display_data"
    },
    {
     "name": "stdout",
     "output_type": "stream",
     "text": [
      "-> StyleGAN2_Genre_Clustering/clusters/48/399 Saved in 0:00:07.877636\n",
      "---\n",
      "> Cluster 49: 400 imgs (saving 400, trunc_psi:1, noise_mode:const)\n"
     ]
    },
    {
     "data": {
      "application/vnd.jupyter.widget-view+json": {
       "model_id": "f9ca072701f44fd8a522aea517f73fc7",
       "version_major": 2,
       "version_minor": 0
      },
      "text/plain": [
       "  0%|          | 0/10 [00:00<?, ?it/s]"
      ]
     },
     "metadata": {},
     "output_type": "display_data"
    },
    {
     "data": {
      "application/vnd.jupyter.widget-view+json": {
       "model_id": "64e3878203a84b36933ea242e94b2a09",
       "version_major": 2,
       "version_minor": 0
      },
      "text/plain": [
       "0it [00:00, ?it/s]"
      ]
     },
     "metadata": {},
     "output_type": "display_data"
    },
    {
     "name": "stdout",
     "output_type": "stream",
     "text": [
      "-> StyleGAN2_Genre_Clustering/clusters/49/399 Saved in 0:00:07.341272\n",
      "---\n",
      "> Cluster 50: 400 imgs (saving 400, trunc_psi:1, noise_mode:const)\n"
     ]
    },
    {
     "data": {
      "application/vnd.jupyter.widget-view+json": {
       "model_id": "d7fd2a9d66c047708c81c89c4d82546b",
       "version_major": 2,
       "version_minor": 0
      },
      "text/plain": [
       "  0%|          | 0/10 [00:00<?, ?it/s]"
      ]
     },
     "metadata": {},
     "output_type": "display_data"
    },
    {
     "data": {
      "application/vnd.jupyter.widget-view+json": {
       "model_id": "0df20f7901044fa493a648d6caa4dc7a",
       "version_major": 2,
       "version_minor": 0
      },
      "text/plain": [
       "0it [00:00, ?it/s]"
      ]
     },
     "metadata": {},
     "output_type": "display_data"
    },
    {
     "name": "stdout",
     "output_type": "stream",
     "text": [
      "-> StyleGAN2_Genre_Clustering/clusters/50/399 Saved in 0:00:07.351549\n",
      "---\n",
      "> Cluster 51: 400 imgs (saving 400, trunc_psi:1, noise_mode:const)\n"
     ]
    },
    {
     "data": {
      "application/vnd.jupyter.widget-view+json": {
       "model_id": "ff3cb01fdbde4ffe995b779440d510f7",
       "version_major": 2,
       "version_minor": 0
      },
      "text/plain": [
       "  0%|          | 0/10 [00:00<?, ?it/s]"
      ]
     },
     "metadata": {},
     "output_type": "display_data"
    },
    {
     "data": {
      "application/vnd.jupyter.widget-view+json": {
       "model_id": "34ac673a51af40b48c27b603cf49777c",
       "version_major": 2,
       "version_minor": 0
      },
      "text/plain": [
       "0it [00:00, ?it/s]"
      ]
     },
     "metadata": {},
     "output_type": "display_data"
    },
    {
     "name": "stdout",
     "output_type": "stream",
     "text": [
      "-> StyleGAN2_Genre_Clustering/clusters/51/399 Saved in 0:00:08.143683\n",
      "---\n",
      "> Cluster 52: 400 imgs (saving 400, trunc_psi:1, noise_mode:const)\n"
     ]
    },
    {
     "data": {
      "application/vnd.jupyter.widget-view+json": {
       "model_id": "5587a7a5008146af9bbe555893459cb3",
       "version_major": 2,
       "version_minor": 0
      },
      "text/plain": [
       "  0%|          | 0/10 [00:00<?, ?it/s]"
      ]
     },
     "metadata": {},
     "output_type": "display_data"
    },
    {
     "data": {
      "application/vnd.jupyter.widget-view+json": {
       "model_id": "5e6b529ae8b34b66bebcf5dfa496d36e",
       "version_major": 2,
       "version_minor": 0
      },
      "text/plain": [
       "0it [00:00, ?it/s]"
      ]
     },
     "metadata": {},
     "output_type": "display_data"
    },
    {
     "name": "stdout",
     "output_type": "stream",
     "text": [
      "-> StyleGAN2_Genre_Clustering/clusters/52/399 Saved in 0:00:07.627806\n",
      "---\n",
      "> Cluster 53: 400 imgs (saving 400, trunc_psi:1, noise_mode:const)\n"
     ]
    },
    {
     "data": {
      "application/vnd.jupyter.widget-view+json": {
       "model_id": "0b8da64cd6464241a6f5c7f295b2c497",
       "version_major": 2,
       "version_minor": 0
      },
      "text/plain": [
       "  0%|          | 0/10 [00:00<?, ?it/s]"
      ]
     },
     "metadata": {},
     "output_type": "display_data"
    },
    {
     "data": {
      "application/vnd.jupyter.widget-view+json": {
       "model_id": "089e8961a10f41e59a36f12cf981b152",
       "version_major": 2,
       "version_minor": 0
      },
      "text/plain": [
       "0it [00:00, ?it/s]"
      ]
     },
     "metadata": {},
     "output_type": "display_data"
    },
    {
     "name": "stdout",
     "output_type": "stream",
     "text": [
      "-> StyleGAN2_Genre_Clustering/clusters/53/399 Saved in 0:00:07.374351\n",
      "---\n",
      "> Cluster 54: 400 imgs (saving 400, trunc_psi:1, noise_mode:const)\n"
     ]
    },
    {
     "data": {
      "application/vnd.jupyter.widget-view+json": {
       "model_id": "6d81ba2e70a74f0dbb3650e39d379002",
       "version_major": 2,
       "version_minor": 0
      },
      "text/plain": [
       "  0%|          | 0/10 [00:00<?, ?it/s]"
      ]
     },
     "metadata": {},
     "output_type": "display_data"
    },
    {
     "data": {
      "application/vnd.jupyter.widget-view+json": {
       "model_id": "c3bb7fb6a82b4c12943ee07bcc658b12",
       "version_major": 2,
       "version_minor": 0
      },
      "text/plain": [
       "0it [00:00, ?it/s]"
      ]
     },
     "metadata": {},
     "output_type": "display_data"
    },
    {
     "name": "stdout",
     "output_type": "stream",
     "text": [
      "-> StyleGAN2_Genre_Clustering/clusters/54/399 Saved in 0:00:07.626323\n",
      "---\n",
      "> Cluster 55: 400 imgs (saving 400, trunc_psi:1, noise_mode:const)\n"
     ]
    },
    {
     "data": {
      "application/vnd.jupyter.widget-view+json": {
       "model_id": "9abc851b23b841c299477a652b041a2c",
       "version_major": 2,
       "version_minor": 0
      },
      "text/plain": [
       "  0%|          | 0/10 [00:00<?, ?it/s]"
      ]
     },
     "metadata": {},
     "output_type": "display_data"
    },
    {
     "data": {
      "application/vnd.jupyter.widget-view+json": {
       "model_id": "a9383af7bc294ce7977a9cfe4dd3d26b",
       "version_major": 2,
       "version_minor": 0
      },
      "text/plain": [
       "0it [00:00, ?it/s]"
      ]
     },
     "metadata": {},
     "output_type": "display_data"
    },
    {
     "name": "stdout",
     "output_type": "stream",
     "text": [
      "-> StyleGAN2_Genre_Clustering/clusters/55/399 Saved in 0:00:07.803639\n",
      "---\n",
      "> Cluster 56: 400 imgs (saving 400, trunc_psi:1, noise_mode:const)\n"
     ]
    },
    {
     "data": {
      "application/vnd.jupyter.widget-view+json": {
       "model_id": "bab35eff957041a7b83ee30bce75108b",
       "version_major": 2,
       "version_minor": 0
      },
      "text/plain": [
       "  0%|          | 0/10 [00:00<?, ?it/s]"
      ]
     },
     "metadata": {},
     "output_type": "display_data"
    },
    {
     "data": {
      "application/vnd.jupyter.widget-view+json": {
       "model_id": "af05878059a446b2a2439266f94eb0c4",
       "version_major": 2,
       "version_minor": 0
      },
      "text/plain": [
       "0it [00:00, ?it/s]"
      ]
     },
     "metadata": {},
     "output_type": "display_data"
    },
    {
     "name": "stdout",
     "output_type": "stream",
     "text": [
      "-> StyleGAN2_Genre_Clustering/clusters/56/399 Saved in 0:00:07.468885\n",
      "---\n",
      "> Cluster 57: 400 imgs (saving 400, trunc_psi:1, noise_mode:const)\n"
     ]
    },
    {
     "data": {
      "application/vnd.jupyter.widget-view+json": {
       "model_id": "a343282d0c1f430f8395b0cba2fa7009",
       "version_major": 2,
       "version_minor": 0
      },
      "text/plain": [
       "  0%|          | 0/10 [00:00<?, ?it/s]"
      ]
     },
     "metadata": {},
     "output_type": "display_data"
    },
    {
     "data": {
      "application/vnd.jupyter.widget-view+json": {
       "model_id": "23baae82659a4599b4a9b8565818bd6c",
       "version_major": 2,
       "version_minor": 0
      },
      "text/plain": [
       "0it [00:00, ?it/s]"
      ]
     },
     "metadata": {},
     "output_type": "display_data"
    },
    {
     "name": "stdout",
     "output_type": "stream",
     "text": [
      "-> StyleGAN2_Genre_Clustering/clusters/57/399 Saved in 0:00:07.924279\n",
      "---\n",
      "> Cluster 58: 400 imgs (saving 400, trunc_psi:1, noise_mode:const)\n"
     ]
    },
    {
     "data": {
      "application/vnd.jupyter.widget-view+json": {
       "model_id": "778f5ad5ebcd4a5ea6e5f5098c9d09da",
       "version_major": 2,
       "version_minor": 0
      },
      "text/plain": [
       "  0%|          | 0/10 [00:00<?, ?it/s]"
      ]
     },
     "metadata": {},
     "output_type": "display_data"
    },
    {
     "data": {
      "application/vnd.jupyter.widget-view+json": {
       "model_id": "ebf7640cf2f64a448aad30fb2b43d42c",
       "version_major": 2,
       "version_minor": 0
      },
      "text/plain": [
       "0it [00:00, ?it/s]"
      ]
     },
     "metadata": {},
     "output_type": "display_data"
    },
    {
     "name": "stdout",
     "output_type": "stream",
     "text": [
      "-> StyleGAN2_Genre_Clustering/clusters/58/399 Saved in 0:00:07.785213\n",
      "---\n",
      "> Cluster 59: 400 imgs (saving 400, trunc_psi:1, noise_mode:const)\n"
     ]
    },
    {
     "data": {
      "application/vnd.jupyter.widget-view+json": {
       "model_id": "24db1e7f6da74e8f910361370fbc5a54",
       "version_major": 2,
       "version_minor": 0
      },
      "text/plain": [
       "  0%|          | 0/10 [00:00<?, ?it/s]"
      ]
     },
     "metadata": {},
     "output_type": "display_data"
    },
    {
     "data": {
      "application/vnd.jupyter.widget-view+json": {
       "model_id": "477b6043363744c98706afdd2440ffd1",
       "version_major": 2,
       "version_minor": 0
      },
      "text/plain": [
       "0it [00:00, ?it/s]"
      ]
     },
     "metadata": {},
     "output_type": "display_data"
    },
    {
     "name": "stdout",
     "output_type": "stream",
     "text": [
      "-> StyleGAN2_Genre_Clustering/clusters/59/399 Saved in 0:00:08.198679\n",
      "---\n",
      "> Cluster 60: 400 imgs (saving 400, trunc_psi:1, noise_mode:const)\n"
     ]
    },
    {
     "data": {
      "application/vnd.jupyter.widget-view+json": {
       "model_id": "1c332c077bbc4875955ef5b56245c6f6",
       "version_major": 2,
       "version_minor": 0
      },
      "text/plain": [
       "  0%|          | 0/10 [00:00<?, ?it/s]"
      ]
     },
     "metadata": {},
     "output_type": "display_data"
    },
    {
     "data": {
      "application/vnd.jupyter.widget-view+json": {
       "model_id": "55089c6c8e24488eae51944c69b28f41",
       "version_major": 2,
       "version_minor": 0
      },
      "text/plain": [
       "0it [00:00, ?it/s]"
      ]
     },
     "metadata": {},
     "output_type": "display_data"
    },
    {
     "name": "stdout",
     "output_type": "stream",
     "text": [
      "-> StyleGAN2_Genre_Clustering/clusters/60/399 Saved in 0:00:07.518633\n",
      "---\n",
      "> Cluster 61: 400 imgs (saving 400, trunc_psi:1, noise_mode:const)\n"
     ]
    },
    {
     "data": {
      "application/vnd.jupyter.widget-view+json": {
       "model_id": "45a909b3d595477c979323e67bafa007",
       "version_major": 2,
       "version_minor": 0
      },
      "text/plain": [
       "  0%|          | 0/10 [00:00<?, ?it/s]"
      ]
     },
     "metadata": {},
     "output_type": "display_data"
    },
    {
     "data": {
      "application/vnd.jupyter.widget-view+json": {
       "model_id": "c86eda85b99b4144a4c94a670fdb5b5d",
       "version_major": 2,
       "version_minor": 0
      },
      "text/plain": [
       "0it [00:00, ?it/s]"
      ]
     },
     "metadata": {},
     "output_type": "display_data"
    },
    {
     "name": "stdout",
     "output_type": "stream",
     "text": [
      "-> StyleGAN2_Genre_Clustering/clusters/61/399 Saved in 0:00:07.514724\n",
      "---\n",
      "> Cluster 62: 400 imgs (saving 400, trunc_psi:1, noise_mode:const)\n"
     ]
    },
    {
     "data": {
      "application/vnd.jupyter.widget-view+json": {
       "model_id": "a6ae464429294e64a3b3bc7196817937",
       "version_major": 2,
       "version_minor": 0
      },
      "text/plain": [
       "  0%|          | 0/10 [00:00<?, ?it/s]"
      ]
     },
     "metadata": {},
     "output_type": "display_data"
    },
    {
     "data": {
      "application/vnd.jupyter.widget-view+json": {
       "model_id": "7dfdb1e254dd416e9b6cff50fd697d43",
       "version_major": 2,
       "version_minor": 0
      },
      "text/plain": [
       "0it [00:00, ?it/s]"
      ]
     },
     "metadata": {},
     "output_type": "display_data"
    },
    {
     "name": "stdout",
     "output_type": "stream",
     "text": [
      "-> StyleGAN2_Genre_Clustering/clusters/62/399 Saved in 0:00:07.652090\n",
      "---\n"
     ]
    }
   ],
   "source": [
    "# Save images\n",
    "img_save_count = batch_size*10\n",
    "\n",
    "# Main dir\n",
    "os.makedirs(f'{outdir}/{prefix}_{suffix}', exist_ok=True)\n",
    "\n",
    "for i in range(clusters_count):\n",
    "\n",
    "    # Mask latents array using cluster_labels\n",
    "    ws_cluster = ws[cluster_labels==i]\n",
    "    ws_cluster = ws_cluster[:min(img_save_count, ws_cluster.shape[0])]\n",
    "    \n",
    "    # Convert to Tensors\n",
    "    if isinstance(ws_cluster, np.ndarray):\n",
    "        ws_cluster = np.expand_dims(ws_cluster, axis=1)\n",
    "        ws_cluster = np.tile(ws_cluster, [1, G.mapping.num_ws, 1])\n",
    "        ws_cluster = torch.tensor(ws_cluster, dtype=torch.float32, device=device)\n",
    "\n",
    "    print(f'> Cluster {i}: {ws_cluster.shape[0]} imgs (saving {ws_cluster.shape[0]}, trunc_psi:{truncation_psi}, noise_mode:{noise_mode})')\n",
    "    \n",
    "    imgs = generate_images_from_ws(G, ws_cluster, batch_size, truncation_psi, noise_mode)\n",
    "\n",
    "    # Save imgs + npz + vids\n",
    "    os.makedirs(f'{outdir}/{prefix}_{suffix}/{i}', exist_ok=True)\n",
    "\n",
    "    t1 = time.time()\n",
    "    \n",
    "    for j, img in tqdm(enumerate(imgs)):\n",
    "        img.save(f\"{outdir}/{prefix}_{suffix}/{i}/{j}.jpg\")\n",
    "\n",
    "    print(f'-> {outdir}/{i} Saved in {timedelta(seconds=time.time()-t1)}\\n---')\n",
    "        \n"
   ]
  },
  {
   "cell_type": "code",
   "execution_count": null,
   "id": "79e71e39",
   "metadata": {},
   "outputs": [],
   "source": [
    "# circular_ws_clone[:,style_layer_range,:] = style_w[0][style_layer_range]\n",
    "# circular_imgs_sm = generate_images_from_ws(G, circular_ws_clone, batch_size, truncation_psi)\n",
    "display(image_grid(circular_imgs_sm[16:32], 4, 4))"
   ]
  },
  {
   "cell_type": "markdown",
   "id": "95454fe1",
   "metadata": {},
   "source": [
    "---\n",
    "### Tests"
   ]
  },
  {
   "cell_type": "code",
   "execution_count": null,
   "id": "5c28b83d",
   "metadata": {},
   "outputs": [],
   "source": [
    "# All images from ws\n",
    "all_imgs = []\n",
    "# Batch size\n",
    "bs = 40 \n",
    "for i in range(2):\n",
    "    # Mask latents array using cluster_labels\n",
    "    ws_cluster = ws[cluster_labels==i][:bs*15]\n",
    "    if isinstance(ws_cluster, np.ndarray):\n",
    "        ws_cluster = np.expand_dims(ws_cluster, axis=1)\n",
    "        ws_cluster = np.tile(ws_cluster, [1, G.mapping.num_ws, 1])\n",
    "        ws_cluster = torch.tensor(ws_cluster, dtype=torch.float32, device=device)\n",
    "    print(ws_cluster.shape, bs)\n",
    "    imgs = generate_images_from_ws(G, ws_cluster, bs)\n",
    "    all_imgs.append(imgs)"
   ]
  },
  {
   "cell_type": "code",
   "execution_count": null,
   "id": "59b11eaf",
   "metadata": {},
   "outputs": [],
   "source": [
    "# All images from zs\n",
    "all_imgs = []\n",
    "# Batch size\n",
    "bs = 40 \n",
    "for i in range(2):\n",
    "    # Mask latents array using cluster_labels\n",
    "    zs_cluster = zs[cluster_labels==i][:bs*15]\n",
    "    if isinstance(zs_cluster, np.ndarray):\n",
    "        zs_cluster = torch.tensor(zs_cluster, dtype=torch.float32, device=device)\n",
    "    labels = torch.zeros([zs_cluster.shape[0], G.c_dim], device=device)\n",
    "    print(zs_cluster.shape, labels.shape, bs)\n",
    "    imgs = generate_images_from_zs(G, zs_cluster, labels, bs)\n",
    "    all_imgs.append(imgs)"
   ]
  },
  {
   "cell_type": "code",
   "execution_count": null,
   "id": "05fe1f96",
   "metadata": {
    "scrolled": true
   },
   "outputs": [],
   "source": [
    "for imgs in all_imgs:\n",
    "    display(image_grid(imgs, 10, 4))"
   ]
  },
  {
   "cell_type": "code",
   "execution_count": null,
   "id": "469926ec",
   "metadata": {},
   "outputs": [],
   "source": [
    "a_z = np.load(f'{outdir}/{prefix}_{suffix}/0/0_z.npz')['z']\n",
    "b_z = a_z + (np.random.RandomState(442).randn(1, 512)-.5)\n",
    "c_z = a_z + (np.random.RandomState(353).randn(1, 512)-.5)\n",
    "d_z = a_z + (np.random.RandomState(random_seeds[2]).randn(1, 512)-.5)"
   ]
  },
  {
   "cell_type": "code",
   "execution_count": null,
   "id": "aaec1088",
   "metadata": {
    "scrolled": false
   },
   "outputs": [],
   "source": [
    "start, radius = circ_settings.values()\n",
    "frame_count = 576\n",
    "zs = [circ_interpolation(radius, (a_z, b_z, c_z), start+(i/frame_count)*(1-start)) for i in range(1, frame_count+1)]\n",
    "print(len(zs))\n",
    "zs = np.array(zs)[:,0,:]\n",
    "zs = torch.from_numpy(zs).to(device)\n",
    "labels = torch.zeros([zs.shape[0], G.c_dim], device=device)\n",
    "\n",
    "imgs = generate_images_from_zs(G, zs, labels, batch_size, truncation_psi)\n",
    "\n",
    "fn = 'test.mp4'\n",
    "make_movie(fn, imgs, fps)\n",
    "Video(fn, embed=True, width=800, height=800)"
   ]
  },
  {
   "cell_type": "code",
   "execution_count": null,
   "id": "08e49fcd",
   "metadata": {},
   "outputs": [],
   "source": [
    "zs = [lisajou_interpolation(radius, (a_z, b_z, c_z, d_z), 1, 2, 2, start+(i/frame_count)*(1-start)) for i in range(frame_count)]\n",
    "\n",
    "zs = np.array(zs)[:,0,:]\n",
    "zs = torch.from_numpy(zs).to(device)\n",
    "labels = torch.zeros([zs.shape[0], G.c_dim], device=device)\n",
    "\n",
    "imgs = generate_images_from_zs(G, zs, labels, batch_size, truncation_psi)\n",
    "\n",
    "fn = f\"lisajou_start_{str(start).replace('.', ',')}_radius_{radius}_random-seeds{random_seeds.tolist()}.mp4\"\n",
    "make_movie(fn, imgs, fps)"
   ]
  },
  {
   "cell_type": "code",
   "execution_count": null,
   "id": "941917aa",
   "metadata": {},
   "outputs": [],
   "source": [
    "Video(fn, embed=True, width=800, height=800)"
   ]
  },
  {
   "cell_type": "code",
   "execution_count": null,
   "id": "718f36fb",
   "metadata": {},
   "outputs": [],
   "source": [
    "# Truncation\n",
    "# a_z = torch.from_numpy(a_z).to(device)\n",
    "# a_w = G.mapping(a_z, None, truncation_psi=truncation_psi+(i/frame_count)*pos)\n",
    "pos, neg = trunc_settings.values()\n",
    "\n",
    "# positive\n",
    "# trunc_pos_ws = [G.mapping(a_z, None, truncation_psi=truncation_psi+(i/frame_count)*pos).cpu().numpy() for i in range(1, frame_count+1)]\n",
    "# trunc_pos_ws = torch.from_numpy(np.array(trunc_pos_ws)[:,0,:]).to(device)\n",
    "\n",
    "trunc_neg_ws = [G.mapping(a_z, None, truncation_psi=truncation_psi-(i/frame_count)*neg).cpu().numpy() for i in range(1, frame_count+1)]\n",
    "trunc_neg_ws = torch.from_numpy(np.array(trunc_neg_ws)[:,0,:]).to(device)\n",
    "\n",
    "imgs = generate_images_from_ws(G, trunc_neg_ws, batch_size)\n",
    "fn = 'test.mp4'\n",
    "make_movie(fn, imgs, fps)\n",
    "Video(fn, embed=True, width=800, height=800)"
   ]
  },
  {
   "cell_type": "code",
   "execution_count": null,
   "id": "d2df5d7c",
   "metadata": {},
   "outputs": [],
   "source": [
    "# TESTS\n",
    "# l = np.load(f'{outdir}/0/1_z.npz')['z']\n",
    "# l = np.array([[1,2,3,4], [2,3,4,6]])\n",
    "# a = np.random.randint(5, size=(4,512))\n",
    "a = np.ones((4,512))\n",
    "l = np.zeros((4,512))\n",
    "# print(l[:, ::2].shape)\n",
    "# l[:, ::2] = 10\n",
    "# l[:, 1::2] = 100\n",
    "# l[:, 2::3] = 1000\n",
    "\n",
    "# x = np.array([1,2,3])\n",
    "# x = np.tile(x, 512//x.shape[0]+1)\n",
    "# x = np.delete(x, 512-x.shape[0])\n",
    "# l[:,0::3] -= x[0::3]\n",
    "# l[:,1::3] += x[1::3]\n",
    "# l[:,2::3] -= x[2::3]\n",
    "# print(l.shape, l[:,:10])\n",
    "a[[1,2,3]].shape"
   ]
  },
  {
   "cell_type": "code",
   "execution_count": null,
   "id": "672d8864",
   "metadata": {
    "scrolled": true
   },
   "outputs": [],
   "source": [
    "!python combine_npz.py --outdir={outdir}/npz --npzs='{outdir}/0/0_w.npz,{outdir}/0/1_w.npz,{outdir}/0/2_w.npz'"
   ]
  },
  {
   "cell_type": "code",
   "execution_count": null,
   "id": "1301c679",
   "metadata": {},
   "outputs": [],
   "source": [
    "!python generate.py \\\n",
    "    --process=interpolation \\\n",
    "    --interpolation=linear \\\n",
    "    --easing=easeInOutQuad \\\n",
    "    --space=w \\\n",
    "    --network={network_pkl} \\\n",
    "    --outdir={outdir}/combined-proj/ \\\n",
    "    --projected-w={outdir}/npz/combined.npz \\\n",
    "    --frames=120"
   ]
  },
  {
   "cell_type": "code",
   "execution_count": null,
   "id": "d4904ff2",
   "metadata": {},
   "outputs": [],
   "source": [
    "!python generate.py \\\n",
    "    --outdir={outdir}/video-circularloop/ \\\n",
    "    --trunc=1 \\\n",
    "    --process=\"interpolation\" \\\n",
    "    --interpolation=\"circularloop\" \\\n",
    "    --diameter=800.00 \\\n",
    "    --frames=720 \\\n",
    "    --random_seed=90 --network=/content/stylegan2-ada-pytorch/pretrained/wikiart.pkl"
   ]
  },
  {
   "cell_type": "code",
   "execution_count": null,
   "id": "6315c613",
   "metadata": {},
   "outputs": [],
   "source": [
    "# Generate from Zs\n",
    "# Convert back from np to Torch\n",
    "if isinstance(zs, np.ndarray):\n",
    "    zs = torch.tensor(zs, dtype=torch.float32, device=device)\n",
    "labels = torch.zeros([zs.shape[0], G.c_dim], device=device)\n",
    "all_imgs_from_zs = []\n",
    "for i in range(2):\n",
    "    # Mask latents array using cluster_labels\n",
    "    zs_cluster = zs[cluster_labels==i]\n",
    "    print(zs_cluster.shape)\n",
    "    print(f'Cluster {i}: {zs_cluster.shape[0]} imgs (saving {img_count}, trunc_psi:{truncation_psi}, noise_mode:{noise_mode})')\n",
    "    # Convert back from np to Torch\n",
    "    imgs = generate_images_from_zs(G, device, zs_cluster[:img_count], labels[:img_count], 16, truncation_psi, noise_mode)\n",
    "    all_imgs_from_zs.append(imgs)"
   ]
  },
  {
   "cell_type": "code",
   "execution_count": null,
   "id": "5b1ef378",
   "metadata": {},
   "outputs": [],
   "source": [
    "for imgs in all_imgs_from_zs:\n",
    "    display(image_grid(imgs, 4, 4))"
   ]
  },
  {
   "cell_type": "code",
   "execution_count": null,
   "id": "9c26cec2",
   "metadata": {},
   "outputs": [],
   "source": [
    "# Clear GPU mem\n",
    "with torch.no_grad():\n",
    "    torch.cuda.empty_cache()"
   ]
  },
  {
   "cell_type": "code",
   "execution_count": null,
   "id": "e6411a8d",
   "metadata": {},
   "outputs": [],
   "source": []
  }
 ],
 "metadata": {
  "kernelspec": {
   "display_name": "Python [conda env:sg2ada-pytorch]",
   "language": "python",
   "name": "conda-env-sg2ada-pytorch-py"
  },
  "language_info": {
   "codemirror_mode": {
    "name": "ipython",
    "version": 3
   },
   "file_extension": ".py",
   "mimetype": "text/x-python",
   "name": "python",
   "nbconvert_exporter": "python",
   "pygments_lexer": "ipython3",
   "version": "3.9.5"
  }
 },
 "nbformat": 4,
 "nbformat_minor": 5
}
